{
 "cells": [
  {
   "cell_type": "code",
   "execution_count": null,
   "id": "95f7ee81",
   "metadata": {},
   "outputs": [],
   "source": [
    "#Write a Python program to find the sum of all elements in a list using loop.\n",
    "l1= [10,20,30,40]\n",
    "print(sum(l1))\n",
    "#Output:- 100\n",
    "\n",
    "\n"
   ]
  },
  {
   "cell_type": "code",
   "execution_count": null,
   "id": "0da6781b",
   "metadata": {},
   "outputs": [],
   "source": [
    "#Write a Python program to find the multiplication of all elements in a list using loop.\n",
    "l2= [10,20,30,40]\n",
    "mul=1\n",
    "for i in l2:\n",
    "    mul*=i\n",
    "print(mul)\n",
    "#Output:- 240000\n",
    "\n",
    "\n"
   ]
  },
  {
   "cell_type": "code",
   "execution_count": null,
   "id": "b16f951d",
   "metadata": {},
   "outputs": [],
   "source": [
    "#Write a Python program to find the largest number from a list using loop.\n",
    "l3= [10,100,2321, 1,200,2]\n",
    "max_l = l3[0]\n",
    "for i in l3:\n",
    "    if i>max_l:\n",
    "        max_l=i\n",
    "print(max_l)\n",
    "    \n",
    "#Output:- 2321\n",
    "\n",
    "\n"
   ]
  },
  {
   "cell_type": "code",
   "execution_count": null,
   "id": "cc49a0ac",
   "metadata": {},
   "outputs": [],
   "source": [
    "#Write a Python program to find the smallest number from a list using loop.\n",
    "#Input:- [10,100,2321, 1,200,2]\n",
    "#Output:- 1\n",
    "\n",
    "l3= [10,100,2321, 1,200,2]\n",
    "min_l = l3[0]\n",
    "for i in l3:\n",
    "    if i<min_l:\n",
    "        min_l=i\n",
    "print(min_l)\n"
   ]
  },
  {
   "cell_type": "code",
   "execution_count": null,
   "id": "1813952b",
   "metadata": {},
   "outputs": [],
   "source": [
    "#Write a Python program which takes a list of numbers as input and prints a new list after removing even numbers from it.\n",
    "l4= [10,21,22,98,87,45,33,1,2,100]\n",
    "for i in l4.copy():\n",
    "    if(i%2==0):\n",
    "        l4.remove(i)\n",
    "print(l4)\n",
    "#Output:- [21,87,45,33,1]\n"
   ]
  },
  {
   "cell_type": "code",
   "execution_count": null,
   "id": "1d2fed41",
   "metadata": {},
   "outputs": [],
   "source": [
    "#Write a Python program to count the number of strings having length more than 2 and are palindrome in a list using loop.\n",
    "l5= ['ab', 'abc', 'aba', 'xyz', '1991']\n",
    "count=0\n",
    "for i in l5:\n",
    "    if (i==i[::-1] and len(i)>2):\n",
    "        count+=1\n",
    "print(count)    \n",
    "#Output:- 2"
   ]
  },
  {
   "cell_type": "code",
   "execution_count": null,
   "id": "82c81bd4",
   "metadata": {},
   "outputs": [],
   "source": [
    "#Write a Python program to sort a list in ascending order using loop.\n",
    "l= [100,10,1,298,65,483,49876,2,80,9,9213]\n",
    "for i in range(len(l)):\n",
    "    for j in range(i + 1, len(l)):\n",
    "\n",
    "        if l[i] > l[j]:\n",
    "           l[i], l[j] = l[j], l[i]\n",
    "print(l)\n",
    "    \n",
    "#Output:- [1,2,9,10,65,80,100,298,483,9213,49876]\n",
    "\n",
    "\n"
   ]
  },
  {
   "cell_type": "code",
   "execution_count": 8,
   "id": "e6f93d07",
   "metadata": {},
   "outputs": [
    {
     "name": "stdout",
     "output_type": "stream",
     "text": [
      "[(9, 1), (2, 3), (5, 4), (5, 5), (7, 6), (5, 9)]\n"
     ]
    }
   ],
   "source": [
    "#Write a Python program to get a sorted list in increasing order of last element in each tuple in a given list using loop.\n",
    "l= [(5,4),(9,1),(2,3),(5,9),(7,6),(5,5)]\n",
    "leng=len(l)\n",
    "for i in range(leng):\n",
    "    for j in range(i + 1, leng):\n",
    "\n",
    "        if int(l[i][1]) > int(l[j][1]):\n",
    "           l[i], l[j] = l[j], l[i]\n",
    "print(l)\n",
    "\n",
    "#output:- [(9,1),(2,3),(5,4),(5,5),(7,6),(5,9)]\n",
    "\n",
    "\n"
   ]
  },
  {
   "cell_type": "code",
   "execution_count": 1,
   "id": "dc847821",
   "metadata": {},
   "outputs": [
    {
     "name": "stdout",
     "output_type": "stream",
     "text": [
      "[10, 1, 11, 29, 876, 768, 92]\n"
     ]
    }
   ],
   "source": [
    "#Write a Python program to remove fuplicate element from a list using loop.\n",
    "l= [10,1,11,1,29,876,768,10,11,1,92,29,876]\n",
    "s=[]\n",
    "for i in l:\n",
    "    if i not in s:\n",
    "        s.append(i)\n",
    "print(s)\n",
    "    \n",
    "#Output:- [10,1,11,29,876,768,92]\n",
    "\n",
    "\n"
   ]
  },
  {
   "cell_type": "code",
   "execution_count": 2,
   "id": "c72852d2",
   "metadata": {},
   "outputs": [
    {
     "name": "stdout",
     "output_type": "stream",
     "text": [
      "ENter the list:[1,2,3]\n",
      "List is not empty\n"
     ]
    }
   ],
   "source": [
    "#Write a Python program to check a list is empty or not?\n",
    "#Input:- []\n",
    "#Output:- List is empty\n",
    "#Input:- [10,20,30]\n",
    "#Output:- List is not empty\n",
    "list_inp = eval(input(\"Enter the list:\"))\n",
    "if len(list_inp)==0:\n",
    "    print('List is empty')\n",
    "else:\n",
    "    print('List is not empty')\n",
    "\n"
   ]
  },
  {
   "cell_type": "code",
   "execution_count": 3,
   "id": "5e129144",
   "metadata": {},
   "outputs": [
    {
     "name": "stdout",
     "output_type": "stream",
     "text": [
      "[10, 10.2, (10+20j), 'Python', [10, 20], (10, 20)]\n"
     ]
    }
   ],
   "source": [
    "#Write a Python program to copy a list using loop.\n",
    "inp_lst = [10,10.20,10+20j, 'Python', [10,20], (10,20)]\n",
    "out_lst=[]\n",
    "for i in inp_lst:\n",
    "    out_lst.append(i)\n",
    "print(out_lst)\n",
    "#out_lst = [10,10.20,10+20j, 'Python', [10,20], (10,20)]\n",
    "\n",
    "\n"
   ]
  },
  {
   "cell_type": "code",
   "execution_count": 13,
   "id": "78230a39",
   "metadata": {},
   "outputs": [
    {
     "name": "stdout",
     "output_type": "stream",
     "text": [
      "['wood', 'chuck', 'could', 'much', 'would', 'woodchuck']\n"
     ]
    }
   ],
   "source": [
    "#Write a Python program to find the list of words that are longer than or equal to 4 from a given string.\n",
    "inp1='How much wood would a woodchuck chuck if a woodchuck could chuck wood'\n",
    "li1 = inp1.split(' ')\n",
    "li2=[]\n",
    "for i in li1:\n",
    "    if(len(i)>=4):\n",
    "        li2.append(i)\n",
    "print(list(set(li2)))\n",
    "        \n",
    "#Output:- ['much', 'wood', 'would', 'woodchuck', 'chuck', 'could']\n",
    "#Note:- Duplicate should be avoided.\n",
    "\n",
    "\n"
   ]
  },
  {
   "cell_type": "code",
   "execution_count": 14,
   "id": "24f5c98f",
   "metadata": {},
   "outputs": [
    {
     "name": "stdout",
     "output_type": "stream",
     "text": [
      "True\n"
     ]
    }
   ],
   "source": [
    "#Write a Python program which takes two list as input and returns True if they have at least 3 common elements.\n",
    "inp_lst1 = [10,20,'Python', 10.20, 10+20j, [10,20,30], (10,20,30)]\n",
    "inp_lst2 = [(10,20,30),1,20+3j,100.2, 10+20j, [10,20,30],'Python']\n",
    "count=0\n",
    "for i in inp_lst1:\n",
    "    if(i in inp_lst2):\n",
    "        count+=1\n",
    "if(count>=3):\n",
    "    print('True')\n",
    "#Output:- True\n",
    "\n",
    "\n"
   ]
  },
  {
   "cell_type": "code",
   "execution_count": 1,
   "id": "4e743593",
   "metadata": {},
   "outputs": [
    {
     "name": "stdout",
     "output_type": "stream",
     "text": [
      "[[0, 0, 0, 0], [0, 1, 2, 3], [0, 2, 4, 6], [0, 3, 6, 9]]\n"
     ]
    }
   ],
   "source": [
    "#Write a Python program to create a 4X4 2D matrix with below elements using loop and list comprehension both.\n",
    "#Output:- [[0,0,0,0],[0,1,2,3],[0,2,4,6],[0,3,6,9]]\n",
    "\n",
    "l1=[]\n",
    "i=0\n",
    "while i<4:\n",
    "    l1.append([])\n",
    "    for j in range(4):\n",
    "        l1[i].append(i*j)\n",
    "    i+=1\n",
    "\n",
    "print(l1)\n",
    "\n",
    "        "
   ]
  },
  {
   "cell_type": "code",
   "execution_count": 3,
   "id": "05e26657",
   "metadata": {},
   "outputs": [
    {
     "name": "stdout",
     "output_type": "stream",
     "text": [
      "[[[0, 0, 0, 0, 0, 0], [0, 0, 0, 0, 0, 0], [0, 0, 0, 0, 0, 0], [0, 0, 0, 0, 0, 0]], [[0, 0, 0, 0, 0, 0], [1, 1, 1, 1, 1, 1], [2, 2, 2, 2, 2, 2], [3, 3, 3, 3, 3, 3]], [[0, 0, 0, 0, 0, 0], [2, 2, 2, 2, 2, 2], [4, 4, 4, 4, 4, 4], [6, 6, 6, 6, 6, 6]]]\n"
     ]
    }
   ],
   "source": [
    "#Write a Python program to create a 3X4X6 3D matrix wiith below elements using loop\n",
    "#Output:- \n",
    "# [\n",
    "#     [[0,0,0,0,0,0],[0,0,0,0,0,0],[0,0,0,0,0,0],[0,0,0,0,0,0]],\n",
    "#     [[0,0,0,0,0,0],[1,1,1,1,1,1],[2,2,2,2,2,2],[3,3,3,3,3,3]],\n",
    "#     [[0,0,0,0,0,0],[2,2,2,2,2,2],[4,4,4,4,4,4],[6,6,6,6,6,6]]\n",
    "# ]\n",
    "l1=[]\n",
    "for i in range(3):\n",
    "    l1.append([])\n",
    "    for j in range(4):\n",
    "        l1[i].append([])\n",
    "        for k in range(6):\n",
    "            l1[i][j].append(i*j)\n",
    "print(l1)\n"
   ]
  },
  {
   "cell_type": "code",
   "execution_count": null,
   "id": "71a85a41",
   "metadata": {},
   "outputs": [],
   "source": []
  }
 ],
 "metadata": {
  "kernelspec": {
   "display_name": "Python 3 (ipykernel)",
   "language": "python",
   "name": "python3"
  },
  "language_info": {
   "codemirror_mode": {
    "name": "ipython",
    "version": 3
   },
   "file_extension": ".py",
   "mimetype": "text/x-python",
   "name": "python",
   "nbconvert_exporter": "python",
   "pygments_lexer": "ipython3",
   "version": "3.9.13"
  }
 },
 "nbformat": 4,
 "nbformat_minor": 5
}
