{
 "cells": [
  {
   "cell_type": "code",
   "execution_count": null,
   "id": "dff11570",
   "metadata": {},
   "outputs": [],
   "source": [
    "# Define a function calls addNumber(x, y) that takes in two number and returns the sum of the two numbers.\n",
    "def addNumber(x,y):\n",
    "    return x+y\n",
    "addNumber(10,20)"
   ]
  },
  {
   "cell_type": "code",
   "execution_count": null,
   "id": "68141c53",
   "metadata": {},
   "outputs": [],
   "source": [
    "# Define a function calls subtractNumber(x, y) that takes in two numbers and returns the difference of the two numbers.\n",
    "def subtractNumber(x,y):\n",
    "    return x-y\n",
    "subtractNumber(30,10)"
   ]
  },
  {
   "cell_type": "code",
   "execution_count": null,
   "id": "634620c5",
   "metadata": {},
   "outputs": [],
   "source": [
    "# Write a function getBiggerNumber(x, y) that takes in two numbers as arguments and returns the bigger number.\n",
    "def getBiggerNumber(x,y):\n",
    "    if(x>y):\n",
    "        return x\n",
    "    else:\n",
    "        return y\n",
    "getBiggerNumber(10,20)"
   ]
  },
  {
   "cell_type": "code",
   "execution_count": null,
   "id": "e3c40359",
   "metadata": {},
   "outputs": [],
   "source": [
    "import math\n",
    "a=math.sqrt(16)\n",
    "b=math.pow(3,5)\n",
    "c=math.pi*pow(3,2)\n",
    "print(a)\n",
    "print(b)\n",
    "print(c)"
   ]
  },
  {
   "cell_type": "code",
   "execution_count": null,
   "id": "4fd20dfe",
   "metadata": {},
   "outputs": [],
   "source": [
    "def conv_cel_far(cel):\n",
    "    far=(cel*1.8) +32\n",
    "    return (round(far,2))\n",
    "conv_cel_far(28.0)\n",
    "    "
   ]
  },
  {
   "cell_type": "code",
   "execution_count": null,
   "id": "119cc840",
   "metadata": {},
   "outputs": [],
   "source": [
    "def bmi(weight,height):\n",
    "    b=weight/(height*height)\n",
    "    return round(b,2)\n",
    "bmi(63,1.7)"
   ]
  },
  {
   "cell_type": "code",
   "execution_count": null,
   "id": "e4bfbc7a",
   "metadata": {},
   "outputs": [],
   "source": [
    "def percent(value, total):\n",
    "    r1=(value*100 )// total\n",
    "    return r1\n",
    "percent(51,51)"
   ]
  },
  {
   "cell_type": "code",
   "execution_count": null,
   "id": "6b72aacc",
   "metadata": {},
   "outputs": [],
   "source": [
    "import math\n",
    "def compute_hyp(a,b):\n",
    "    val=(a*a)+(b*b)\n",
    "    return math.sqrt(val)\n",
    "compute_hyp(3,4)\n",
    "    "
   ]
  },
  {
   "cell_type": "code",
   "execution_count": null,
   "id": "bf3e43e5",
   "metadata": {},
   "outputs": [],
   "source": [
    "def getSumOfLastDigits(lis):\n",
    "    sum=0\n",
    "    for i in lis:\n",
    "        sum+=(i%10)\n",
    "    return sum\n",
    "getSumOfLastDigits([2, 3, 4])"
   ]
  },
  {
   "cell_type": "code",
   "execution_count": null,
   "id": "6f660f00",
   "metadata": {},
   "outputs": [],
   "source": [
    "def Introduce(name,age='secret'):\n",
    "    print(f'My name is {name}. My age is {age}')\n",
    "Introduce('Lim')"
   ]
  },
  {
   "cell_type": "code",
   "execution_count": null,
   "id": "6adc3a49",
   "metadata": {},
   "outputs": [],
   "source": [
    "def isEquilateral(s1,s2,s3):\n",
    "    if ( (s1==s2==s3) & (s1>0)):\n",
    "        return 'Equilateral'\n",
    "    else:\n",
    "        return 'Not Equilateral'\n",
    "isEquilateral(-3,-3,-3)\n",
    "        "
   ]
  },
  {
   "cell_type": "code",
   "execution_count": null,
   "id": "9b419c90",
   "metadata": {},
   "outputs": [],
   "source": [
    "def quadratic(a,b,c):\n",
    "    det = ((b*b)-(4*a*c))\n",
    "    return det\n",
    "quadratic(1,2,3)"
   ]
  },
  {
   "cell_type": "code",
   "execution_count": null,
   "id": "f787d991",
   "metadata": {},
   "outputs": [],
   "source": [
    "def addFirstAndLast(lst):\n",
    "    sum_1=0\n",
    "    if lst==[]:\n",
    "        sum_1=0\n",
    "    elif len(lst)==1:\n",
    "        sum_1=lst[0]\n",
    "    else:\n",
    "        sum_1=lst[0]+lst[len(lst)-1]\n",
    "    return sum_1\n",
    "list=[2,7,3]\n",
    "\n",
    "print(addFirstAndLast(list))"
   ]
  },
  {
   "cell_type": "code",
   "execution_count": null,
   "id": "dba22e9f",
   "metadata": {},
   "outputs": [],
   "source": [
    "(lambda num : 'True' if num%2==0 else 'False')(6)"
   ]
  },
  {
   "cell_type": "code",
   "execution_count": null,
   "id": "dfe643a8",
   "metadata": {},
   "outputs": [],
   "source": [
    "def getScore():\n",
    "  ''''A function that computes and returns the final score.'''\n",
    "  pass\n",
    "getScore()\n",
    "#if we go into brackets and press shift+tab we get doc string we wote"
   ]
  },
  {
   "cell_type": "code",
   "execution_count": null,
   "id": "012c1ba3",
   "metadata": {},
   "outputs": [],
   "source": [
    "def addOne(x):\n",
    "    return x + 1\n",
    "def useFunction(addOne, x):\n",
    "    return addOne(x)+x\n",
    "useFunction(addOne, 0)"
   ]
  },
  {
   "cell_type": "code",
   "execution_count": null,
   "id": "94af19ef",
   "metadata": {},
   "outputs": [],
   "source": [
    "def find_max(a,b,c):\n",
    "    lis=[a,b,c]\n",
    "    return max(lis)\n",
    "def main():\n",
    "    a=int(input('Enter 1st number: '))\n",
    "    b=int(input('Enter 2nd number: '))\n",
    "    c=int(input('Enter 3rd number: '))\n",
    "    return find_max(a,b,c)\n",
    "main()"
   ]
  },
  {
   "cell_type": "code",
   "execution_count": null,
   "id": "c2328b73",
   "metadata": {},
   "outputs": [],
   "source": [
    "def is_vowel(char):\n",
    "    vowels=['a','e','i','o','u']\n",
    "    if char in vowels:\n",
    "        return True\n",
    "    else:\n",
    "        return False\n",
    "def main():\n",
    "    count=0\n",
    "    a=input('Enter string: ')\n",
    "    for i in a:\n",
    "        if(is_vowel(i.casefold())):\n",
    "            count+=1\n",
    "    return count\n",
    "main()\n",
    "    \n",
    "        "
   ]
  },
  {
   "cell_type": "code",
   "execution_count": null,
   "id": "2d6914a7",
   "metadata": {},
   "outputs": [],
   "source": [
    "def is_prime(number):\n",
    "    for i in range(2,number):\n",
    "        if number%i == 0:\n",
    "            return False\n",
    "    return True\n",
    "\n",
    "def main():\n",
    "    for num in range(2,501):\n",
    "        if is_prime(num):\n",
    "            print(num, end=\" \")\n",
    "\n",
    "main()\n"
   ]
  },
  {
   "cell_type": "code",
   "execution_count": 3,
   "id": "ed5a7cd0",
   "metadata": {},
   "outputs": [
    {
     "data": {
      "text/plain": [
       "36"
      ]
     },
     "execution_count": 3,
     "metadata": {},
     "output_type": "execute_result"
    }
   ],
   "source": [
    "def sum_cubes(list1):\n",
    "    sum_ele=0\n",
    "    for i in list1:\n",
    "        sum_ele+=(i**3)\n",
    "    return sum_ele\n",
    "def main():\n",
    "    list_in=[1,2,3]\n",
    "    s=sum_cubes(list_in)\n",
    "    return s\n",
    "\n",
    "main()\n",
    "        "
   ]
  },
  {
   "cell_type": "code",
   "execution_count": 9,
   "id": "4b60e13c",
   "metadata": {},
   "outputs": [
    {
     "data": {
      "text/plain": [
       "600"
      ]
     },
     "execution_count": 9,
     "metadata": {},
     "output_type": "execute_result"
    }
   ],
   "source": [
    "def zero_ending(scores):\n",
    "    sum_zero=0\n",
    "    for i in scores:\n",
    "        if(i%10 ==0):\n",
    "            sum_zero+=i\n",
    "    return sum_zero\n",
    "list_scores=[200, 456, 300, 100, 234, 678]\n",
    "zero_ending(list_scores)"
   ]
  },
  {
   "cell_type": "code",
   "execution_count": 11,
   "id": "570b7887",
   "metadata": {},
   "outputs": [
    {
     "name": "stdout",
     "output_type": "stream",
     "text": [
      "['LONDON', 'NEW YORK']\n"
     ]
    }
   ],
   "source": [
    "def count_now(places):\n",
    "    l=[]\n",
    "    for i in places:\n",
    "        if(len(i)>5):\n",
    "            l.append(i)\n",
    "    print(l)\n",
    "list_places=[\"DELHI\",\"LONDON\",\"PARIS\",\"NEW YORK\",\"DUBAI\"]\n",
    "count_now(list_places)"
   ]
  },
  {
   "cell_type": "code",
   "execution_count": 15,
   "id": "d5239a10",
   "metadata": {},
   "outputs": [
    {
     "data": {
      "text/plain": [
       "['414141', 'DROND*', 'GIRIRAJ*', '131313', 'ZARA*']"
      ]
     },
     "execution_count": 15,
     "metadata": {},
     "output_type": "execute_result"
    }
   ],
   "source": [
    "def list_modify(list_num):\n",
    "    l_dis=[]\n",
    "    for i in list_num:\n",
    "        if(i.isnumeric()):\n",
    "            l_dis.append(i*3)\n",
    "        else:\n",
    "            l_dis.append(i+'*')\n",
    "    return l_dis\n",
    "ThisList=['41','DROND','GIRIRAJ', '13','ZARA']\n",
    "list_modify(ThisList)\n",
    "        "
   ]
  },
  {
   "cell_type": "code",
   "execution_count": 16,
   "id": "0339ac35",
   "metadata": {},
   "outputs": [
    {
     "name": "stdout",
     "output_type": "stream",
     "text": [
      "[90, 78, 25, 13, 9, 2]\n",
      "Elemenent found at position 6\n"
     ]
    }
   ],
   "source": [
    "def binary_search(L, data):\n",
    "    first = 0\n",
    "    last = len(L)-1\n",
    "    while(first<=last):\n",
    "        mid = (first+last)//2\n",
    "        if L[mid]==data:\n",
    "            return mid\n",
    "        elif L[mid]>data:\n",
    "            first=mid+1\n",
    "        else:\n",
    "            last=mid-1\n",
    "    return -1\n",
    "\n",
    "\n",
    "L = [90,78,25,13,9,2]\n",
    "print(L)\n",
    "index = binary_search(L,2)\n",
    "if index == -1:\n",
    "    print('Element not found')\n",
    "else:\n",
    "    print('Elemenent found at position',index+1)\n"
   ]
  },
  {
   "cell_type": "code",
   "execution_count": 18,
   "id": "672b0631",
   "metadata": {},
   "outputs": [
    {
     "name": "stdout",
     "output_type": "stream",
     "text": [
      "[50, 60, 70, 40, 10, 20, 30]\n"
     ]
    }
   ],
   "source": [
    "def half_and_half(my_list):\n",
    "    if len(my_list)%2 == 0:\n",
    "        start = 0\n",
    "    else:\n",
    "        start = 1\n",
    "        \n",
    "    L = len(my_list)//2\n",
    "    \n",
    "    for i in range(L):\n",
    "        temp = my_list[i]\n",
    "        my_list[i] = my_list[i+L+start]\n",
    "        my_list[i+L+start] = temp\n",
    "    return my_list\n",
    "my_list = [10,20,30,40,50,60,70]\n",
    "half_and_half(my_list)\n",
    "print(my_list)"
   ]
  },
  {
   "cell_type": "code",
   "execution_count": 20,
   "id": "3324d4ba",
   "metadata": {},
   "outputs": [
    {
     "name": "stdout",
     "output_type": "stream",
     "text": [
      "{'a': 10, 'b': 20, 'c': 30}\n",
      "{10: 'a', 20: 'b', 30: 'c'}\n"
     ]
    }
   ],
   "source": [
    "def swap_key_value(d):\n",
    "    L = list(d.values())\n",
    "    for value in L:\n",
    "        if L.count(value) > 1:\n",
    "            return dict()\n",
    "\n",
    "    new_dict = {}\n",
    "    for k, v in d.items():\n",
    "        new_dict[v] = k\n",
    "    return new_dict\n",
    "\n",
    "\n",
    "\n",
    "d = {'a':10,'b':20,'c':30}\n",
    "print(d)\n",
    "n = swap_key_value(d)\n",
    "print(n)"
   ]
  },
  {
   "cell_type": "code",
   "execution_count": null,
   "id": "6ee0a355",
   "metadata": {},
   "outputs": [],
   "source": []
  }
 ],
 "metadata": {
  "kernelspec": {
   "display_name": "Python 3 (ipykernel)",
   "language": "python",
   "name": "python3"
  },
  "language_info": {
   "codemirror_mode": {
    "name": "ipython",
    "version": 3
   },
   "file_extension": ".py",
   "mimetype": "text/x-python",
   "name": "python",
   "nbconvert_exporter": "python",
   "pygments_lexer": "ipython3",
   "version": "3.9.13"
  }
 },
 "nbformat": 4,
 "nbformat_minor": 5
}
