{
 "cells": [
  {
   "cell_type": "code",
   "execution_count": 1,
   "id": "87f52903",
   "metadata": {},
   "outputs": [
    {
     "name": "stdout",
     "output_type": "stream",
     "text": [
      "<class 'float'> 2358036972048\n"
     ]
    }
   ],
   "source": [
    "f1 = 10.32\n",
    "print(type(f1), id(f1))"
   ]
  },
  {
   "cell_type": "code",
   "execution_count": 2,
   "id": "c8f05557",
   "metadata": {},
   "outputs": [
    {
     "name": "stdout",
     "output_type": "stream",
     "text": [
      "31.84\n",
      "1.2399999999999984\n",
      "253.062\n",
      "0.9250302297460702\n",
      "15.3\n",
      "0.0\n",
      "3.933654983092149e+19\n"
     ]
    }
   ],
   "source": [
    "f2 = 15.30\n",
    "f3= 16.54\n",
    "print(f2+f3)\n",
    "print(f3-f2)\n",
    "print(f3*f2)\n",
    "print(f2/f3)\n",
    "print(f2%f3)\n",
    "print(f2//f3)\n",
    "print(f2**f3)"
   ]
  },
  {
   "cell_type": "code",
   "execution_count": 3,
   "id": "f702cb1e",
   "metadata": {},
   "outputs": [
    {
     "name": "stdout",
     "output_type": "stream",
     "text": [
      "True\n",
      "False\n",
      "False\n",
      "True\n"
     ]
    }
   ],
   "source": [
    "f4 = 16.43\n",
    "f5 =12.89\n",
    "print(f4>f5)\n",
    "print(f4<f5)\n",
    "print(f4<=f5)\n",
    "print(f4>=f5)\n"
   ]
  },
  {
   "cell_type": "code",
   "execution_count": 4,
   "id": "60bf0813",
   "metadata": {},
   "outputs": [
    {
     "name": "stdout",
     "output_type": "stream",
     "text": [
      "True\n",
      "False\n"
     ]
    }
   ],
   "source": [
    "f6 = 19.79\n",
    "f7 = 19.79\n",
    "print(f6 == f7)\n",
    "print(f6!=f7)"
   ]
  },
  {
   "cell_type": "code",
   "execution_count": 5,
   "id": "572199e1",
   "metadata": {},
   "outputs": [
    {
     "name": "stdout",
     "output_type": "stream",
     "text": [
      "20.3\n",
      "0.0\n",
      "0.0\n",
      "0.0\n",
      "10.2\n",
      "20.3\n",
      "20.3\n",
      "0.0\n",
      "False\n",
      "True\n"
     ]
    }
   ],
   "source": [
    "print(10.20 and 20.30)\n",
    "print(0.0 and 20.30) \n",
    "print(20.30 and 0.0) \n",
    "print(0.0 and 0.0) \n",
    "print(10.20 or 20.30) \n",
    "print(0.0 or 20.30) \n",
    "print(20.30 or 0.0) \n",
    "print(0.0 or 0.0) \n",
    "print(not 10.20)\n",
    "print(not 0.0)"
   ]
  },
  {
   "cell_type": "code",
   "execution_count": 9,
   "id": "65f3a0cc",
   "metadata": {},
   "outputs": [
    {
     "name": "stdout",
     "output_type": "stream",
     "text": [
      "False\n",
      "True\n"
     ]
    },
    {
     "data": {
      "text/plain": [
       "'Memory reusability doesnot apply for float value hence both the ids are different even though we assign same float values.'"
      ]
     },
     "execution_count": 9,
     "metadata": {},
     "output_type": "execute_result"
    }
   ],
   "source": [
    "a = 10.20\n",
    "b = 10.20\n",
    "print(a is b)\n",
    "print(a is not b)\n",
    "'''Memory reusability doesnot apply for float value hence both the ids are different even though we assign same float values.'''"
   ]
  },
  {
   "cell_type": "code",
   "execution_count": 10,
   "id": "e0f51e98",
   "metadata": {},
   "outputs": [
    {
     "name": "stdout",
     "output_type": "stream",
     "text": [
      "True\n",
      "True\n",
      "True\n",
      "True\n",
      "True\n",
      "True\n"
     ]
    }
   ],
   "source": [
    "print('2.7' in 'Python2.7.8') \n",
    "print(10.20 in [10,10.20,10+20j,'Python']) \n",
    "print(10.20 in (10,10.20,10+20j,'Python')) \n",
    "print(20.30 in {1,20.30,30+40j}) \n",
    "print(2.3 in {1:100, 2.3:200, 30+40j:300}) \n",
    "print(10 in range(20)) "
   ]
  }
 ],
 "metadata": {
  "kernelspec": {
   "display_name": "Python 3 (ipykernel)",
   "language": "python",
   "name": "python3"
  },
  "language_info": {
   "codemirror_mode": {
    "name": "ipython",
    "version": 3
   },
   "file_extension": ".py",
   "mimetype": "text/x-python",
   "name": "python",
   "nbconvert_exporter": "python",
   "pygments_lexer": "ipython3",
   "version": "3.9.13"
  }
 },
 "nbformat": 4,
 "nbformat_minor": 5
}
