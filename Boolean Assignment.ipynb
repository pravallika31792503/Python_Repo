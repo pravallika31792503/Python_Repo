{
 "cells": [
  {
   "cell_type": "code",
   "execution_count": 1,
   "id": "3d69cc99",
   "metadata": {},
   "outputs": [
    {
     "name": "stdout",
     "output_type": "stream",
     "text": [
      "<class 'str'> 2172690681520\n"
     ]
    }
   ],
   "source": [
    "b1 = \"pravallika\"\n",
    "print(type(b1), id(b1))"
   ]
  },
  {
   "cell_type": "code",
   "execution_count": 4,
   "id": "f738ed0c",
   "metadata": {},
   "outputs": [
    {
     "name": "stdout",
     "output_type": "stream",
     "text": [
      "140709708560488\n",
      "140709708560488\n"
     ]
    }
   ],
   "source": [
    "b2 = True\n",
    "b3 = True\n",
    "print(id(b2))\n",
    "print(id(b3))\n",
    "#Both the id's are same because memory reusability applies to boolean data type"
   ]
  },
  {
   "cell_type": "code",
   "execution_count": 6,
   "id": "8abe066f",
   "metadata": {},
   "outputs": [
    {
     "name": "stdout",
     "output_type": "stream",
     "text": [
      "1\n",
      "-1\n",
      "0\n",
      "0.0\n",
      "0\n",
      "0\n",
      "0\n"
     ]
    }
   ],
   "source": [
    "b4 = False\n",
    "b5 = True\n",
    "print(b4+b5)\n",
    "print(b4-b5)\n",
    "print(b4*b5)\n",
    "print(b4/b5)\n",
    "print(b4%b5)\n",
    "print(b4//b5)\n",
    "print(b4**b5)"
   ]
  },
  {
   "cell_type": "code",
   "execution_count": 7,
   "id": "975a5f8c",
   "metadata": {},
   "outputs": [
    {
     "name": "stdout",
     "output_type": "stream",
     "text": [
      "False\n",
      "True\n",
      "False\n",
      "True\n"
     ]
    }
   ],
   "source": [
    "b6 = True\n",
    "b7 = False\n",
    "print(b6<b7)\n",
    "print(b6>b7)\n",
    "print(b6<=b7)\n",
    "print(b6>=b7)"
   ]
  },
  {
   "cell_type": "code",
   "execution_count": 8,
   "id": "044d2b96",
   "metadata": {},
   "outputs": [
    {
     "name": "stdout",
     "output_type": "stream",
     "text": [
      "True\n",
      "False\n"
     ]
    }
   ],
   "source": [
    "b8 = True\n",
    "b9 = True\n",
    "print(b8==b9)\n",
    "print(b8!=b9)"
   ]
  },
  {
   "cell_type": "code",
   "execution_count": 9,
   "id": "1f1058c5",
   "metadata": {},
   "outputs": [
    {
     "name": "stdout",
     "output_type": "stream",
     "text": [
      "True\n",
      "False\n",
      "False\n",
      "False\n",
      "True\n",
      "True\n",
      "True\n",
      "False\n",
      "False\n",
      "True\n"
     ]
    }
   ],
   "source": [
    "print(True and True)\n",
    "print(False and True)\n",
    "print(True and False)\n",
    "print(False and False)\n",
    "print(True or True)\n",
    "print(False or True)\n",
    "print(True or False)\n",
    "print(False or False)\n",
    "print(not True)\n",
    "print(not False)"
   ]
  },
  {
   "cell_type": "code",
   "execution_count": 13,
   "id": "7ef580d2",
   "metadata": {},
   "outputs": [
    {
     "name": "stdout",
     "output_type": "stream",
     "text": [
      "True\n",
      "True\n",
      "True\n",
      "-2\n",
      "4\n",
      "0\n"
     ]
    }
   ],
   "source": [
    "print(True & True)\n",
    "print( True | False)\n",
    "print(True^False)\n",
    "print(~True)\n",
    "d = True\n",
    "print(d<<2)\n",
    "print(d>>2)"
   ]
  },
  {
   "cell_type": "code",
   "execution_count": 17,
   "id": "9fcd4f5e",
   "metadata": {},
   "outputs": [
    {
     "name": "stdout",
     "output_type": "stream",
     "text": [
      "True\n",
      "False\n",
      "True\n",
      "False\n"
     ]
    }
   ],
   "source": [
    "a = True\n",
    "b = True\n",
    "print(a is b) \n",
    "print(a is not b) \n",
    "a = False\n",
    "b = False\n",
    "print(a is b) \n",
    "print(a is not b) "
   ]
  },
  {
   "cell_type": "code",
   "execution_count": 18,
   "id": "3b4d5473",
   "metadata": {},
   "outputs": [
    {
     "name": "stdout",
     "output_type": "stream",
     "text": [
      "True\n",
      "True\n",
      "True\n",
      "True\n",
      "True\n"
     ]
    }
   ],
   "source": [
    "print(True in [10,10.20,10+20j,'Python', True])\n",
    "print(False in (10,10.20,10+20j,'Python', False))\n",
    "print(True in {1,2,3, True})\n",
    "print(True in {True:100, False:200, True:300})\n",
    "print(False in {True:100, False:200, True:300})"
   ]
  }
 ],
 "metadata": {
  "kernelspec": {
   "display_name": "Python 3 (ipykernel)",
   "language": "python",
   "name": "python3"
  },
  "language_info": {
   "codemirror_mode": {
    "name": "ipython",
    "version": 3
   },
   "file_extension": ".py",
   "mimetype": "text/x-python",
   "name": "python",
   "nbconvert_exporter": "python",
   "pygments_lexer": "ipython3",
   "version": "3.9.13"
  }
 },
 "nbformat": 4,
 "nbformat_minor": 5
}
