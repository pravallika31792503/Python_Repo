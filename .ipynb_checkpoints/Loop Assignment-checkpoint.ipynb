{
 "cells": [
  {
   "cell_type": "code",
   "execution_count": null,
   "id": "10e64761",
   "metadata": {},
   "outputs": [],
   "source": [
    "dicnum={1:'One',2:'Two',3:'Three',4:'Four',5:'Five',6:'Six',7:'Seven',8:'Eight',9:'Nine'}\n",
    "inp=int(input(\"Enter number: \"))\n",
    "for i in dicnum:\n",
    "    if i==inp:\n",
    "        print(dicnum[i])\n",
    "        "
   ]
  },
  {
   "cell_type": "code",
   "execution_count": 4,
   "id": "20a833cf",
   "metadata": {},
   "outputs": [
    {
     "name": "stdout",
     "output_type": "stream",
     "text": [
      "Enter first number: 28\n",
      "Enter second number: 10\n",
      "Select operation.\n",
      "1.Add\n",
      "2.Subtract\n",
      "3.Multiply\n",
      "4.Divide\n",
      "5.Quotient\n",
      "6.Remainder\n",
      "7.Power\n",
      "8.Exit of program\n",
      "Enter ur choice: 1\n",
      "38\n",
      "Enter ur choice: 8\n"
     ]
    }
   ],
   "source": [
    "a=int(input('Enter first number: '))\n",
    "b=int(input('Enter second number: '))\n",
    "print(\"Select operation.\")\n",
    "print(\"1.Add\")\n",
    "print(\"2.Subtract\")\n",
    "print(\"3.Multiply\")\n",
    "print(\"4.Divide\")\n",
    "print(\"5.Quotient\")\n",
    "print(\"6.Remainder\")\n",
    "print(\"7.Power\")\n",
    "print(\"8.Exit of program\")\n",
    "while True:\n",
    "    choice=int(input('Enter ur choice: '))\n",
    "\n",
    "    if choice==1:\n",
    "        print(a+b)\n",
    "    elif choice==2:\n",
    "        print(a-b)\n",
    "    elif choice==3:\n",
    "        print(a*b)\n",
    "    elif choice==4:\n",
    "        print(a/b)\n",
    "    elif choice==5:\n",
    "        print(a//b)\n",
    "    elif choice==6:\n",
    "        print(a%b)\n",
    "    elif choice==7:\n",
    "        print(a**b)\n",
    "    elif choice==8:\n",
    "        break\n",
    "\n",
    "\n"
   ]
  },
  {
   "cell_type": "code",
   "execution_count": 6,
   "id": "d0b49f95",
   "metadata": {},
   "outputs": [
    {
     "name": "stdout",
     "output_type": "stream",
     "text": [
      "Enter year: 2000\n",
      "Leap year\n"
     ]
    }
   ],
   "source": [
    "inp = int(input('Enter year: '))\n",
    "if(inp%4 ==0):\n",
    "    print('Leap year')\n",
    "else:\n",
    "    print('Not leap year')"
   ]
  },
  {
   "cell_type": "code",
   "execution_count": 7,
   "id": "1fcc7202",
   "metadata": {},
   "outputs": [
    {
     "name": "stdout",
     "output_type": "stream",
     "text": [
      "Enter number to check:  12\n",
      "Even number\n"
     ]
    }
   ],
   "source": [
    "inp_check = int(input('Enter number to check:  '))\n",
    "if inp_check%2 ==0:\n",
    "    print('Even number')\n",
    "else:\n",
    "    print('Odd number')"
   ]
  },
  {
   "cell_type": "code",
   "execution_count": 8,
   "id": "7d335537",
   "metadata": {},
   "outputs": [
    {
     "name": "stdout",
     "output_type": "stream",
     "text": [
      "Enter 1st number: 12\n",
      "Enter 2nd number: 3\n",
      "num1 is greater than num2\n"
     ]
    }
   ],
   "source": [
    "num1=int(input('Enter 1st number: '))\n",
    "num2=int(input('Enter 2nd number: '))\n",
    "if(num1>num2):\n",
    "    print('num1 is greater than num2')\n",
    "elif(num1<num2):\n",
    "    print('num1 is less than num2')\n",
    "elif(num1==num2):\n",
    "    print('num1 is equal to num2')\n",
    "else:\n",
    "    print('Invalid numbers')"
   ]
  },
  {
   "cell_type": "code",
   "execution_count": 10,
   "id": "4d38bf75",
   "metadata": {},
   "outputs": [
    {
     "name": "stdout",
     "output_type": "stream",
     "text": [
      "Enter 1st number: 12\n",
      "Enter 2nd number: 3\n",
      "Enter 3rd number: 1\n",
      "num1 is greater than num3 and num2\n"
     ]
    }
   ],
   "source": [
    "num1=int(input('Enter 1st number: '))\n",
    "num2=int(input('Enter 2nd number: '))\n",
    "num3=int(input('Enter 3rd number: '))\n",
    "if((num1>num2) & (num1>num3)):\n",
    "    print('num1 is greater than num3 and num2')\n",
    "elif((num2>num1) & (num2>num3)):\n",
    "    print('num2 is greater than num1 and num3')\n",
    "elif((num3>num1) & (num3>num2)):\n",
    "    print('num3 is greater than num1 and num2')\n",
    "else:\n",
    "    print('Invalid')"
   ]
  },
  {
   "cell_type": "code",
   "execution_count": 1,
   "id": "4d1f0732",
   "metadata": {},
   "outputs": [
    {
     "name": "stdout",
     "output_type": "stream",
     "text": [
      "55\n"
     ]
    }
   ],
   "source": [
    "str_1='Write a Python program to find the length of the my_str'\n",
    "counter=0\n",
    "for i in str_1:\n",
    "    counter+=1\n",
    "print(counter)\n",
    "    "
   ]
  },
  {
   "cell_type": "code",
   "execution_count": 5,
   "id": "8e6ccddb",
   "metadata": {},
   "outputs": [
    {
     "name": "stdout",
     "output_type": "stream",
     "text": [
      "9\n"
     ]
    }
   ],
   "source": [
    "str_2='peter piper Picked a peck of pickled peppers.\\n'\n",
    "counter_p=0\n",
    "for i in str_2:\n",
    "    if(i.casefold()=='p'):\n",
    "        counter_p+=1\n",
    "print(counter_p)"
   ]
  },
  {
   "cell_type": "code",
   "execution_count": 7,
   "id": "d9d1946f",
   "metadata": {},
   "outputs": [
    {
     "name": "stdout",
     "output_type": "stream",
     "text": [
      "0\n",
      "6\n",
      "8\n",
      "12\n",
      "21\n",
      "29\n",
      "37\n",
      "39\n",
      "40\n"
     ]
    }
   ],
   "source": [
    "str_3='peter piper picked a peck of pickled peppers.'\n",
    "for i in range(len(str_3)):\n",
    "    if(str_3[i].casefold()=='p'):\n",
    "        print(i)"
   ]
  },
  {
   "cell_type": "code",
   "execution_count": 14,
   "id": "116fcc6a",
   "metadata": {},
   "outputs": [
    {
     "name": "stdout",
     "output_type": "stream",
     "text": [
      "['peter', 'piper', 'picked', 'a', 'peck', 'of', 'pickled', 'peppers.']\n"
     ]
    }
   ],
   "source": [
    "sentence= 'peter piper picked a peck of pickled peppers.'\n",
    "word=''\n",
    "l=[]\n",
    "for w in sentence :\n",
    "    if w==' ' :\n",
    "        l.append(word)\n",
    "        word=''\n",
    "    else:\n",
    "        word+=w\n",
    "if word!=' ':\n",
    "    l.append(word)\n",
    "print(l)\n"
   ]
  },
  {
   "cell_type": "code",
   "execution_count": 42,
   "id": "5f6a9c14",
   "metadata": {},
   "outputs": [
    {
     "data": {
      "text/plain": [
       "'peppers. pickled of peck a picked piper peter'"
      ]
     },
     "execution_count": 42,
     "metadata": {},
     "output_type": "execute_result"
    }
   ],
   "source": [
    "sentence= 'peter piper picked a peck of pickled peppers.'\n",
    "word=''\n",
    "l=[]\n",
    "new_list=[]\n",
    "output=''\n",
    "for w in sentence :\n",
    "    if w==' ' :\n",
    "        l.append(word)\n",
    "        word=''\n",
    "    else:\n",
    "        word+=w\n",
    "if word!=' ':\n",
    "    l.append(word)\n",
    "for i in reversed(l):\n",
    "    new_list.append(i)\n",
    "' '.join(new_list)"
   ]
  },
  {
   "cell_type": "code",
   "execution_count": 24,
   "id": "7a09a3ee",
   "metadata": {},
   "outputs": [
    {
     "name": "stdout",
     "output_type": "stream",
     "text": [
      ".sreppep delkcip fo kcep a dekcip repip retep\n"
     ]
    }
   ],
   "source": [
    "a_string='peter piper picked a peck of pickled peppers.'\n",
    "new_string = ''\n",
    "index = len(a_string)\n",
    "while index:\n",
    "    index -= 1                    # index = index - 1\n",
    "    new_string += a_string[index] # new_string = new_string + character\n",
    "print(new_string)"
   ]
  },
  {
   "cell_type": "code",
   "execution_count": 41,
   "id": "fa041c45",
   "metadata": {},
   "outputs": [
    {
     "name": "stdout",
     "output_type": "stream",
     "text": [
      "['retep', 'repip', 'dekcip', 'a', 'kcep', 'fo', 'delkcip', '.sreppep']\n",
      "retep repip dekcip a kcep fo delkcip .sreppep\n"
     ]
    }
   ],
   "source": [
    "sentence= 'peter piper picked a peck of pickled peppers.'\n",
    "word=''\n",
    "l=[]\n",
    "new_list=[]\n",
    "rev_list=[]\n",
    "out=''\n",
    "for w in sentence :\n",
    "    \n",
    "    if w==' ' :\n",
    "        l.append(word)\n",
    "        word=''\n",
    "    else:\n",
    "        word+=w\n",
    "if word!=' ':\n",
    "    l.append(word)\n",
    "for i in l:\n",
    "    rev_list.append(i[::-1])\n",
    "out=' '.join(rev_list)\n",
    "print(out)    "
   ]
  },
  {
   "cell_type": "code",
   "execution_count": 44,
   "id": "1b18fa07",
   "metadata": {},
   "outputs": [
    {
     "name": "stdout",
     "output_type": "stream",
     "text": [
      "Peter Piper Picked A Peck Of Pickled Peppers.\n"
     ]
    }
   ],
   "source": [
    "string='peter piper picked a peck of pickled peppers.'\n",
    "acc = \"\"\n",
    "next_is_upper = True # the first character will be uppercase\n",
    "for char in string:\n",
    "    if next_is_upper:\n",
    "        acc += char.upper()\n",
    "    else:\n",
    "        acc += char\n",
    "    next_is_upper = char in \"'.,;:?! \"\n",
    "\n",
    "print(acc)"
   ]
  },
  {
   "cell_type": "code",
   "execution_count": 50,
   "id": "b30fc2c1",
   "metadata": {},
   "outputs": [
    {
     "name": "stdout",
     "output_type": "stream",
     "text": [
      "peter piper picked a peck of pickled peppers.\n"
     ]
    }
   ],
   "source": [
    "string='Peter Piper Picked A Peck Of Pickled Peppers.'\n",
    "acc = \"\"\n",
    "next_is_lower = True # the first character will be uppercase\n",
    "for char in string:\n",
    "    if next_is_lower:\n",
    "        acc += char.lower()\n",
    "    else:\n",
    "        acc += char\n",
    "    next_is_lower = char in \"'.,;:?! \"\n",
    "\n",
    "print(acc)"
   ]
  },
  {
   "cell_type": "code",
   "execution_count": 49,
   "id": "024346bc",
   "metadata": {},
   "outputs": [
    {
     "name": "stdout",
     "output_type": "stream",
     "text": [
      "peter piper picked a peck of pickled peppers.\n"
     ]
    }
   ],
   "source": [
    "string='Peter Piper Picked A Peck Of Pickled Peppers.'\n",
    "acc = \"\"\n",
    "next_is_lower = True # the first character will be uppercase\n",
    "for char in string:\n",
    "    if next_is_lower:\n",
    "        acc += char.lower()\n",
    "    else:\n",
    "        acc += char\n",
    "    next_is_upper = char in \" \"\n",
    "\n",
    "print(acc)"
   ]
  },
  {
   "cell_type": "code",
   "execution_count": 52,
   "id": "2dda420f",
   "metadata": {},
   "outputs": [
    {
     "name": "stdout",
     "output_type": "stream",
     "text": [
      "29\n"
     ]
    }
   ],
   "source": [
    "string_ind='Peter Piper Picked A Peck Of Pickled Peppers.'\n",
    "sub_str = 'Pickl'\n",
    "for i in range(0,len(string_ind)):\n",
    "    if(string_ind[i:i+len(sub_str)]==sub_str):\n",
    "        print(i)"
   ]
  },
  {
   "cell_type": "code",
   "execution_count": 65,
   "id": "f776e801",
   "metadata": {},
   "outputs": [
    {
     "data": {
      "text/plain": [
       "'Peter Piper Picked A Pack Of Pickled Peppers.'"
      ]
     },
     "execution_count": 65,
     "metadata": {},
     "output_type": "execute_result"
    }
   ],
   "source": [
    "test_str='Peter Piper Picked A Peck Of Pickled Peppers.'\n",
    "sub_str = 'Peck'\n",
    "new_str = 'Pack'\n",
    "\n",
    "lin=test_str.split()\n",
    "new_list=[]\n",
    "for i in lin:\n",
    "    if i==sub_str:\n",
    "        i=new_str\n",
    "        new_list.append(i)\n",
    "    else:\n",
    "        new_list.append(i)\n",
    "' '.join(new_list)   \n"
   ]
  },
  {
   "cell_type": "code",
   "execution_count": 89,
   "id": "2c8c27e0",
   "metadata": {},
   "outputs": [
    {
     "data": {
      "text/plain": [
       "'*********************Peck************************'"
      ]
     },
     "execution_count": 89,
     "metadata": {},
     "output_type": "execute_result"
    }
   ],
   "source": [
    "input_1='Peter Piper Picked A Peck Of Pickled Peppers.'\n",
    "sub_str='Peck'\n",
    "ind=input_1.find(sub_str)\n",
    "mul=len(input_1)\n",
    "samp=''\n",
    "for i in range(ind):\n",
    "    samp+='*'\n",
    "samp+=sub_str\n",
    "rem=mul-ind\n",
    "for i in range(rem):\n",
    "    samp+='*'\n",
    "print(samp)\n",
    "    "
   ]
  },
  {
   "cell_type": "code",
   "execution_count": 100,
   "id": "27651798",
   "metadata": {},
   "outputs": [
    {
     "data": {
      "text/plain": [
       "('This', ' is', ' Python class')"
      ]
     },
     "execution_count": 100,
     "metadata": {},
     "output_type": "execute_result"
    }
   ],
   "source": [
    "a='This is Python class'\n",
    "sep=' is'\n",
    "a.partition(sep)"
   ]
  },
  {
   "cell_type": "code",
   "execution_count": null,
   "id": "e29b5fae",
   "metadata": {},
   "outputs": [],
   "source": []
  }
 ],
 "metadata": {
  "kernelspec": {
   "display_name": "Python 3 (ipykernel)",
   "language": "python",
   "name": "python3"
  },
  "language_info": {
   "codemirror_mode": {
    "name": "ipython",
    "version": 3
   },
   "file_extension": ".py",
   "mimetype": "text/x-python",
   "name": "python",
   "nbconvert_exporter": "python",
   "pygments_lexer": "ipython3",
   "version": "3.9.13"
  }
 },
 "nbformat": 4,
 "nbformat_minor": 5
}
