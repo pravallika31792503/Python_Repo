{
 "cells": [
  {
   "cell_type": "markdown",
   "metadata": {
    "id": "zeLOLmTj1kBM"
   },
   "source": [
    "### <a name='0'></a> Import of libraries"
   ]
  },
  {
   "cell_type": "code",
   "execution_count": 1,
   "metadata": {
    "id": "HXMB7SMe1Wnz"
   },
   "outputs": [
    {
     "data": {
      "text/plain": [
       "'1.21.5'"
      ]
     },
     "execution_count": 1,
     "metadata": {},
     "output_type": "execute_result"
    }
   ],
   "source": [
    "import numpy as np\n",
    "\n",
    "np.__version__"
   ]
  },
  {
   "cell_type": "markdown",
   "metadata": {
    "id": "cyc70pMe1oCg"
   },
   "source": [
    "### <a name='1'></a> Exercise 1\n",
    "Check if all array elements $ A, B, C $ and $ D $ return the logical value _True_.\n",
    "\n",
    "```\n",
    "A = np.array([[3, 2, 1, 4],\n",
    "              [5, 2, 1, 6]])\n",
    "\n",
    "B = np.array([[3, 2, 1, 4],\n",
    "              [5, 2, 0, 6]])\n",
    "\n",
    "C = np.array([[True, False, False],\n",
    "              [True, True, True]])\n",
    "\n",
    "D = np.array([0.1, 0.3])\n",
    "```\n",
    "\n",
    "__Tip:__ Use the function _np.all()_."
   ]
  },
  {
   "cell_type": "code",
   "execution_count": 2,
   "metadata": {
    "id": "B0IVx0-CpcDW"
   },
   "outputs": [
    {
     "name": "stdout",
     "output_type": "stream",
     "text": [
      "True\n",
      "False\n",
      "False\n",
      "True\n"
     ]
    }
   ],
   "source": [
    "import numpy as np\n",
    "\n",
    "A = np.array([[3, 2, 1, 4],\n",
    "              [5, 2, 1, 6]])\n",
    "\n",
    "B = np.array([[3, 2, 1, 4],\n",
    "              [5, 2, 0, 6]])\n",
    "\n",
    "C = np.array([[True, False, False],\n",
    "              [True, True, True]])\n",
    "\n",
    "D = np.array([0.1, 0.3])\n",
    "print(np.all(A))\n",
    "print(np.all(B))\n",
    "print(np.all(C))\n",
    "print(np.all(D))\n"
   ]
  },
  {
   "cell_type": "markdown",
   "metadata": {
    "id": "J9pY1rtr1sC0"
   },
   "source": [
    "### <a name='2'></a> Exercise 2\n",
    "Check if all array elements $ A, B $ and $ C $ return the logical value _True_ along the axis with index 1.\n",
    "\n",
    "```\n",
    "A = np.array([[3, 2, 1, 4],\n",
    "              [5, 2, 1, 6]])\n",
    "\n",
    "B = np.array([[3, 2, 1, 4],\n",
    "              [5, 2, 0, 6]])\n",
    "\n",
    "C = np.array([[True, False, False],\n",
    "              [True, True, True]])\n",
    "```\n",
    "\n",
    "__Tip:__ Use the function _np.all()_ with the parameter _axis_."
   ]
  },
  {
   "cell_type": "code",
   "execution_count": 3,
   "metadata": {
    "id": "8Vt03pJyp78D"
   },
   "outputs": [
    {
     "name": "stdout",
     "output_type": "stream",
     "text": [
      "[ True  True]\n",
      "[ True False]\n",
      "[False  True]\n"
     ]
    }
   ],
   "source": [
    "import numpy as np\n",
    "\n",
    "A = np.array([[3, 2, 1, 4],\n",
    "              [5, 2, 1, 6]])\n",
    "\n",
    "B = np.array([[3, 2, 1, 4],\n",
    "              [5, 2, 0, 6]])\n",
    "\n",
    "C = np.array([[True, False, False],\n",
    "              [True, True, True]])\n",
    "print(np.all(A,axis=1))\n",
    "print(np.all(B,axis=1))\n",
    "print(np.all(C,axis=1))\n"
   ]
  },
  {
   "cell_type": "markdown",
   "metadata": {
    "id": "XQLYT2m11wVG"
   },
   "source": [
    "### <a name='3'></a> Exercise 3\n",
    "Check if any element of arrays $ A, B, C $ and $ D $ returns the logical value _True_.\n",
    "\n",
    "```\n",
    "A = np.array([[0, 0, 0],\n",
    "              [0, 0, 0]])\n",
    "\n",
    "B = np.array([[0, 0, 0],\n",
    "              [0, 1, 0]])\n",
    "\n",
    "C = np.array([[False, False, False],\n",
    "              [True, False, False]])\n",
    "\n",
    "D = np.array([[0.1, 0.0]])\n",
    "```\n",
    "\n",
    "__Tip:__ Use the _np.any()_ function."
   ]
  },
  {
   "cell_type": "code",
   "execution_count": 4,
   "metadata": {
    "id": "dQ4cIqS7p9zd"
   },
   "outputs": [
    {
     "name": "stdout",
     "output_type": "stream",
     "text": [
      "False\n",
      "True\n",
      "True\n",
      "True\n"
     ]
    }
   ],
   "source": [
    "import numpy as np\n",
    "\n",
    "A = np.array([[0, 0, 0],\n",
    "              [0, 0, 0]])\n",
    "\n",
    "B = np.array([[0, 0, 0],\n",
    "              [0, 1, 0]])\n",
    "\n",
    "C = np.array([[False, False, False],\n",
    "              [True, False, False]])\n",
    "\n",
    "D = np.array([[0.1, 0.0]])\n",
    "print(np.any(A))\n",
    "print(np.any(B))\n",
    "print(np.any(C))\n",
    "print(np.any(D))"
   ]
  },
  {
   "cell_type": "markdown",
   "metadata": {
    "id": "4xTKSUzg10MK"
   },
   "source": [
    "### <a name='4'></a> Exercise 4\n",
    "Check if any element of arrays $ A, B, C $ and $ D $ returns the logical value _True_ along the axis with index 0.\n",
    "\n",
    "```\n",
    "A = np.array([[0, 0, 0],\n",
    "              [0, 0, 0]])\n",
    "\n",
    "B = np.array([[0, 0, 0],\n",
    "              [0, 1, 0]])\n",
    "\n",
    "C = np.array([[False, False, False],\n",
    "              [True, False, False]])\n",
    "\n",
    "D = np.array([[0.1, 0.0]])\n",
    "```\n",
    "\n",
    "__Tip:__ Use the _np.any()_ function with the parameter _axis_.\n"
   ]
  },
  {
   "cell_type": "code",
   "execution_count": 5,
   "metadata": {
    "id": "yR-X87M1qKFE"
   },
   "outputs": [
    {
     "name": "stdout",
     "output_type": "stream",
     "text": [
      "[False False]\n",
      "[False  True]\n",
      "[False  True]\n",
      "[ True]\n"
     ]
    }
   ],
   "source": [
    "import numpy as np\n",
    "\n",
    "A = np.array([[0, 0, 0],\n",
    "              [0, 0, 0]])\n",
    "\n",
    "B = np.array([[0, 0, 0],\n",
    "              [0, 1, 0]])\n",
    "\n",
    "C = np.array([[False, False, False],\n",
    "              [True, False, False]])\n",
    "\n",
    "D = np.array([[0.1, 0.0]])\n",
    "print(np.any(A,axis=1))\n",
    "print(np.any(B,axis=1))\n",
    "print(np.any(C,axis=1))\n",
    "print(np.any(D,axis=1))"
   ]
  },
  {
   "cell_type": "markdown",
   "metadata": {
    "id": "o3HKIKlP15Ro"
   },
   "source": [
    "### <a name='5'></a> Exercise 5\n",
    "Check the array $ A $ for missing data (_np.nan_).\n",
    "\n",
    "```\n",
    "A = np.array([[3, 2, 1, np.nan],\n",
    "              [5, np.nan, 1, 6]])\n",
    "```\n",
    "__Tip:__ Use the _np.isnan()_ function.\n"
   ]
  },
  {
   "cell_type": "code",
   "execution_count": 6,
   "metadata": {
    "id": "Bf65a1SFqn7L"
   },
   "outputs": [
    {
     "data": {
      "text/plain": [
       "array([[False, False, False,  True],\n",
       "       [False,  True, False, False]])"
      ]
     },
     "execution_count": 6,
     "metadata": {},
     "output_type": "execute_result"
    }
   ],
   "source": [
    "import numpy as np\n",
    "A = np.array([[3, 2, 1, np.nan],\n",
    "              [5, np.nan, 1, 6]])\n",
    "np.isnan(A)"
   ]
  },
  {
   "cell_type": "markdown",
   "metadata": {
    "id": "PunXd_Ey16so"
   },
   "source": [
    "### <a name='6'></a> Exercise 6\n",
    "Check if the following arrays $ A $ and $ B $ are equal in terms of elements (element-wise) with the specified tolerance level. Use the _np.allclose()_ function with default parameters.\n",
    "\n",
    "```\n",
    "A = np.array([0.4, 0.5, 0.3])\n",
    "B = np.array([0.39999999, 0.5000001, 0.3])\n",
    "```"
   ]
  },
  {
   "cell_type": "code",
   "execution_count": 7,
   "metadata": {
    "id": "GFvNmr9erl1D"
   },
   "outputs": [
    {
     "name": "stdout",
     "output_type": "stream",
     "text": [
      "True\n"
     ]
    }
   ],
   "source": [
    "import numpy as np\n",
    "A = np.array([0.4, 0.5, 0.3])\n",
    "B = np.array([0.39999999, 0.5000001, 0.3])\n",
    "print(np.allclose(A,B))"
   ]
  },
  {
   "cell_type": "markdown",
   "metadata": {
    "id": "hOhqDRz618Tx"
   },
   "source": [
    "### <a name='7'></a> Exercise 7\n",
    "Check if the following arrays $ A $ and $ B $ are equal in terms of elements (element-wise). Use the comparison operator _==_.\n",
    "\n",
    "```\n",
    "A = np.array([0.4, 0.5, 0.3])\n",
    "B = np.array([0.3999999999, 0.5000000001, 0.3])\n",
    "```"
   ]
  },
  {
   "cell_type": "code",
   "execution_count": 8,
   "metadata": {
    "id": "gX6r6i6BrwUL"
   },
   "outputs": [
    {
     "name": "stdout",
     "output_type": "stream",
     "text": [
      "[False False  True]\n"
     ]
    }
   ],
   "source": [
    "import numpy as np\n",
    "A = np.array([0.4, 0.5, 0.3])\n",
    "B = np.array([0.39999999, 0.5000001, 0.3])\n",
    "print(A==B)"
   ]
  },
  {
   "cell_type": "markdown",
   "metadata": {
    "id": "TXUd_4631-gw"
   },
   "source": [
    "### <a name='8'></a> Exercise 8\n",
    "\n",
    "Check which elements (element-wise) from the array $ A $ below have higher values than the array $ B $.\n",
    "\n",
    "```\n",
    "A = np.array([0.4, 0.5, 0.3, 0.9])\n",
    "B = np.array([0.38, 0.51, 0.3, 0.91])\n",
    "```"
   ]
  },
  {
   "cell_type": "code",
   "execution_count": 9,
   "metadata": {
    "id": "KkK9env2sCv8"
   },
   "outputs": [
    {
     "name": "stdout",
     "output_type": "stream",
     "text": [
      "[ True False False False]\n"
     ]
    }
   ],
   "source": [
    "import numpy as np\n",
    "A = np.array([0.4, 0.5, 0.3, 0.9])\n",
    "B = np.array([0.38, 0.51, 0.3, 0.91])\n",
    "print(np.greater(A,B))"
   ]
  },
  {
   "cell_type": "markdown",
   "metadata": {
    "id": "tgI6xEn-2AQo"
   },
   "source": [
    "### <a name='9'></a> Exercise 9\n",
    "\n",
    "Create an array of numpy dimensions _4x4_ filled with zeros. Set the data type to _int_.\n",
    "\n",
    "__Expected result:__\n",
    "\n",
    "```\n",
    "array([[0, 0, 0, 0],\n",
    "       [0, 0, 0, 0],\n",
    "       [0, 0, 0, 0],\n",
    "       [0, 0, 0, 0]])\n",
    "```\n",
    "__Tip:__ Use the _np.zeros()_ function."
   ]
  },
  {
   "cell_type": "code",
   "execution_count": 10,
   "metadata": {
    "id": "FwHWvOAWsbYn"
   },
   "outputs": [
    {
     "data": {
      "text/plain": [
       "array([[0., 0., 0., 0.],\n",
       "       [0., 0., 0., 0.],\n",
       "       [0., 0., 0., 0.],\n",
       "       [0., 0., 0., 0.]])"
      ]
     },
     "execution_count": 10,
     "metadata": {},
     "output_type": "execute_result"
    }
   ],
   "source": [
    "import numpy as np\n",
    "np.zeros((4,4))"
   ]
  },
  {
   "cell_type": "markdown",
   "metadata": {
    "id": "wxhpf-uq2B1I"
   },
   "source": [
    "### <a name='10'></a> Exercise 10\n",
    "Create an array of numpy dimensions _10x10_ filled with number 255. Set the data type to _float_.\n",
    "\n",
    "__Expected result:__\n",
    "```\n",
    "array([[255., 255., 255., 255., 255., 255., 255., 255., 255., 255.],\n",
    "       [255., 255., 255., 255., 255., 255., 255., 255., 255., 255.],\n",
    "       [255., 255., 255., 255., 255., 255., 255., 255., 255., 255.],\n",
    "       [255., 255., 255., 255., 255., 255., 255., 255., 255., 255.],\n",
    "       [255., 255., 255., 255., 255., 255., 255., 255., 255., 255.],\n",
    "       [255., 255., 255., 255., 255., 255., 255., 255., 255., 255.],\n",
    "       [255., 255., 255., 255., 255., 255., 255., 255., 255., 255.],\n",
    "       [255., 255., 255., 255., 255., 255., 255., 255., 255., 255.],\n",
    "       [255., 255., 255., 255., 255., 255., 255., 255., 255., 255.],\n",
    "       [255., 255., 255., 255., 255., 255., 255., 255., 255., 255.]])\n",
    "```\n",
    "\n",
    "__Tip:__ Use the _np.ones()_ or _np.full()_ functions."
   ]
  },
  {
   "cell_type": "code",
   "execution_count": 11,
   "metadata": {
    "id": "YFc0KW6URsuc"
   },
   "outputs": [
    {
     "data": {
      "text/plain": [
       "array([[255., 255., 255., 255., 255., 255., 255., 255., 255., 255.],\n",
       "       [255., 255., 255., 255., 255., 255., 255., 255., 255., 255.],\n",
       "       [255., 255., 255., 255., 255., 255., 255., 255., 255., 255.],\n",
       "       [255., 255., 255., 255., 255., 255., 255., 255., 255., 255.],\n",
       "       [255., 255., 255., 255., 255., 255., 255., 255., 255., 255.],\n",
       "       [255., 255., 255., 255., 255., 255., 255., 255., 255., 255.],\n",
       "       [255., 255., 255., 255., 255., 255., 255., 255., 255., 255.],\n",
       "       [255., 255., 255., 255., 255., 255., 255., 255., 255., 255.],\n",
       "       [255., 255., 255., 255., 255., 255., 255., 255., 255., 255.],\n",
       "       [255., 255., 255., 255., 255., 255., 255., 255., 255., 255.]])"
      ]
     },
     "execution_count": 11,
     "metadata": {},
     "output_type": "execute_result"
    }
   ],
   "source": [
    "import numpy as np\n",
    "np.ones((10,10))*255"
   ]
  },
  {
   "cell_type": "markdown",
   "metadata": {
    "id": "vI1xmtEpdVSs"
   },
   "source": [
    "### <a name='1'></a> Exercise 11\n",
    "Build a one-dimensional numpy array of two-digit numbers.\n",
    "\n",
    "__Expected result:__\n",
    "```\n",
    "array([10, 11, 12, 13, 14, 15, 16, 17, 18, 19, 20, 21, 22, 23, 24, 25, 26,\n",
    "       27, 28, 29, 30, 31, 32, 33, 34, 35, 36, 37, 38, 39, 40, 41, 42, 43,\n",
    "       44, 45, 46, 47, 48, 49, 50, 51, 52, 53, 54, 55, 56, 57, 58, 59, 60,\n",
    "       61, 62, 63, 64, 65, 66, 67, 68, 69, 70, 71, 72, 73, 74, 75, 76, 77,\n",
    "       78, 79, 80, 81, 82, 83, 84, 85, 86, 87, 88, 89, 90, 91, 92, 93, 94,\n",
    "       95, 96, 97, 98, 99])\n",
    "```\n",
    "\n",
    "__Tip:__ Use the _np.arange()_ function.\n"
   ]
  },
  {
   "cell_type": "code",
   "execution_count": 12,
   "metadata": {
    "id": "6EVaM-bVd4XW"
   },
   "outputs": [
    {
     "data": {
      "text/plain": [
       "array([10, 11, 12, 13, 14, 15, 16, 17, 18, 19, 20, 21, 22, 23, 24, 25, 26,\n",
       "       27, 28, 29, 30, 31, 32, 33, 34, 35, 36, 37, 38, 39, 40, 41, 42, 43,\n",
       "       44, 45, 46, 47, 48, 49, 50, 51, 52, 53, 54, 55, 56, 57, 58, 59, 60,\n",
       "       61, 62, 63, 64, 65, 66, 67, 68, 69, 70, 71, 72, 73, 74, 75, 76, 77,\n",
       "       78, 79, 80, 81, 82, 83, 84, 85, 86, 87, 88, 89, 90, 91, 92, 93, 94,\n",
       "       95, 96, 97, 98, 99])"
      ]
     },
     "execution_count": 12,
     "metadata": {},
     "output_type": "execute_result"
    }
   ],
   "source": [
    "import numpy as np\n",
    "np.arange(10,100)"
   ]
  },
  {
   "cell_type": "markdown",
   "metadata": {
    "id": "0RWvvmRZd665"
   },
   "source": [
    "### <a name='2'></a> Exercise 12\n",
    "\n",
    "Build the numpy array specified below:\n",
    "\n",
    "```\n",
    "array([[10, 11, 12, 13, 14, 15, 16, 17, 18, 19],\n",
    "       [20, 21, 22, 23, 24, 25, 26, 27, 28, 29],\n",
    "       [30, 31, 32, 33, 34, 35, 36, 37, 38, 39],\n",
    "       [40, 41, 42, 43, 44, 45, 46, 47, 48, 49],\n",
    "       [50, 51, 52, 53, 54, 55, 56, 57, 58, 59],\n",
    "       [60, 61, 62, 63, 64, 65, 66, 67, 68, 69],\n",
    "       [70, 71, 72, 73, 74, 75, 76, 77, 78, 79],\n",
    "       [80, 81, 82, 83, 84, 85, 86, 87, 88, 89],\n",
    "       [90, 91, 92, 93, 94, 95, 96, 97, 98, 99]])\n",
    "```\n",
    "\n",
    "Note that the shape of the array is (9, 10).\n",
    "\n",
    "__Tip:__ Use the _np.arange()_ function and the _np.ndarray.reshape()_ method.\n",
    "\n"
   ]
  },
  {
   "cell_type": "code",
   "execution_count": 13,
   "metadata": {
    "id": "az9duDcWeEJa"
   },
   "outputs": [
    {
     "data": {
      "text/plain": [
       "array([[10, 11, 12, 13, 14, 15, 16, 17, 18, 19],\n",
       "       [20, 21, 22, 23, 24, 25, 26, 27, 28, 29],\n",
       "       [30, 31, 32, 33, 34, 35, 36, 37, 38, 39],\n",
       "       [40, 41, 42, 43, 44, 45, 46, 47, 48, 49],\n",
       "       [50, 51, 52, 53, 54, 55, 56, 57, 58, 59],\n",
       "       [60, 61, 62, 63, 64, 65, 66, 67, 68, 69],\n",
       "       [70, 71, 72, 73, 74, 75, 76, 77, 78, 79],\n",
       "       [80, 81, 82, 83, 84, 85, 86, 87, 88, 89],\n",
       "       [90, 91, 92, 93, 94, 95, 96, 97, 98, 99]])"
      ]
     },
     "execution_count": 13,
     "metadata": {},
     "output_type": "execute_result"
    }
   ],
   "source": [
    "import numpy as np\n",
    "np.arange(10,100).reshape(9,10)"
   ]
  },
  {
   "cell_type": "markdown",
   "metadata": {
    "id": "dNpXvFW9eG_5"
   },
   "source": [
    "### Reminder\n",
    "\n",
    "### Identity matrix:\n",
    "\n",
    "Identity matrix - a square matrix which coefficients are given by the formula:\n",
    "$${\\displaystyle a_{ij}={\\begin{cases}1\\quad {\\text{dla}}\\quad i=j\\\\[2pt]0\\quad {\\text{dla}}\\quad i\\neq j\\end{cases}}}$$\n",
    "\n",
    "#### Examples:\n",
    "${\\displaystyle I_{1}={\\begin{bmatrix}1\\end{bmatrix}},\\;I_{2}={\\begin{bmatrix}1&0\\\\0&1\\end{bmatrix}},\\;I_{3}={\\begin{bmatrix}1&0&0\\\\0&1&0\\\\0&0&1\\end{bmatrix}}}$"
   ]
  },
  {
   "cell_type": "markdown",
   "metadata": {
    "id": "w6KVlc_6eOmZ"
   },
   "source": [
    "### <a name='3'></a> Exercise 13\n",
    "\n",
    "Build a _6x6_ two-dimensional array - identity matrix. Use the _int_ data type.\n",
    "\n",
    "__Expected result:__\n",
    "\n",
    "```\n",
    "array([[1, 0, 0, 0, 0, 0],\n",
    "       [0, 1, 0, 0, 0, 0],\n",
    "       [0, 0, 1, 0, 0, 0],\n",
    "       [0, 0, 0, 1, 0, 0],\n",
    "       [0, 0, 0, 0, 1, 0],\n",
    "       [0, 0, 0, 0, 0, 1]])\n",
    "```\n",
    "__Tip:__ Use the _np.eye()_ function.\n"
   ]
  },
  {
   "cell_type": "code",
   "execution_count": 14,
   "metadata": {
    "id": "n1FWPE4KeWjV"
   },
   "outputs": [
    {
     "data": {
      "text/plain": [
       "array([[1, 0, 0, 0, 0, 0],\n",
       "       [0, 1, 0, 0, 0, 0],\n",
       "       [0, 0, 1, 0, 0, 0],\n",
       "       [0, 0, 0, 1, 0, 0],\n",
       "       [0, 0, 0, 0, 1, 0],\n",
       "       [0, 0, 0, 0, 0, 1]])"
      ]
     },
     "execution_count": 14,
     "metadata": {},
     "output_type": "execute_result"
    }
   ],
   "source": [
    "import numpy as np\n",
    "np.eye(6,dtype=int)"
   ]
  },
  {
   "cell_type": "markdown",
   "metadata": {
    "id": "SYef7AddeZS6"
   },
   "source": [
    "### <a name='4'></a> Exercise 14\n",
    "\n",
    "Set the random seed to 10. Then build a one-dimensional array consisting of 30 pseudo-randomly generated values from the uniform distribution above the $ [0, 1) $ interval.\n",
    "\n",
    "__Expected result:__\n",
    "\n",
    "```\n",
    "array([0.77132064, 0.02075195, 0.63364823, 0.74880388, 0.49850701,\n",
    "       0.22479665, 0.19806286, 0.76053071, 0.16911084, 0.08833981,\n",
    "       0.68535982, 0.95339335, 0.00394827, 0.51219226, 0.81262096,\n",
    "       0.61252607, 0.72175532, 0.29187607, 0.91777412, 0.71457578,\n",
    "       0.54254437, 0.14217005, 0.37334076, 0.67413362, 0.44183317,\n",
    "       0.43401399, 0.61776698, 0.51313824, 0.65039718, 0.60103895])\n",
    "```\n",
    "__Tip:__ Use the function _np.random.rand()_.\n"
   ]
  },
  {
   "cell_type": "code",
   "execution_count": 15,
   "metadata": {
    "id": "g5Zjyp25ecil"
   },
   "outputs": [
    {
     "data": {
      "text/plain": [
       "array([[0.77132064, 0.02075195, 0.63364823, 0.74880388, 0.49850701],\n",
       "       [0.22479665, 0.19806286, 0.76053071, 0.16911084, 0.08833981],\n",
       "       [0.68535982, 0.95339335, 0.00394827, 0.51219226, 0.81262096],\n",
       "       [0.61252607, 0.72175532, 0.29187607, 0.91777412, 0.71457578],\n",
       "       [0.54254437, 0.14217005, 0.37334076, 0.67413362, 0.44183317]])"
      ]
     },
     "execution_count": 15,
     "metadata": {},
     "output_type": "execute_result"
    }
   ],
   "source": [
    "import numpy as np\n",
    "np.random.seed(10) \n",
    "\n",
    "np.random.rand(5,5)"
   ]
  },
  {
   "cell_type": "markdown",
   "metadata": {
    "id": "1N0Oi6UCei3S"
   },
   "source": [
    "### <a name='5'></a> Exercise 15\n",
    "\n",
    "Set the random seed to 20. Then build a two-dimensional array with the shape _(10, 4)_ pseudo-random values generated from the standard normal distribution $ N (0, 1) $.\n",
    "\n",
    "__Expected result:__\n",
    "```\n",
    "array([[ 0.88389311,  0.19586502,  0.35753652, -2.34326191],\n",
    "       [-1.08483259,  0.55969629,  0.93946935, -0.97848104],\n",
    "       [ 0.50309684,  0.40641447,  0.32346101, -0.49341088],\n",
    "       [-0.79201679, -0.84236793, -1.27950266,  0.24571517],\n",
    "       [-0.0441948 ,  1.56763255,  1.05110868,  0.40636843],\n",
    "       [-0.1686461 , -3.18970279,  1.12013226,  1.33277821],\n",
    "       [-0.24333877, -0.13003071, -0.10901737,  1.55618644],\n",
    "       [ 0.12877835, -2.06694872, -0.88549315, -1.10457948],\n",
    "       [ 0.93286635,  2.059838  , -0.93493796, -1.61299022],\n",
    "       [ 0.52706972, -1.55110074,  0.32961334, -1.13652654]])\n",
    "```\n",
    "__Tip:__ Use the function _np.random.randn()_.\n"
   ]
  },
  {
   "cell_type": "code",
   "execution_count": 16,
   "metadata": {
    "id": "R7x3j9Txejua"
   },
   "outputs": [
    {
     "data": {
      "text/plain": [
       "array([[ 0.88389311,  0.19586502,  0.35753652, -2.34326191],\n",
       "       [-1.08483259,  0.55969629,  0.93946935, -0.97848104],\n",
       "       [ 0.50309684,  0.40641447,  0.32346101, -0.49341088],\n",
       "       [-0.79201679, -0.84236793, -1.27950266,  0.24571517],\n",
       "       [-0.0441948 ,  1.56763255,  1.05110868,  0.40636843],\n",
       "       [-0.1686461 , -3.18970279,  1.12013226,  1.33277821],\n",
       "       [-0.24333877, -0.13003071, -0.10901737,  1.55618644],\n",
       "       [ 0.12877835, -2.06694872, -0.88549315, -1.10457948],\n",
       "       [ 0.93286635,  2.059838  , -0.93493796, -1.61299022],\n",
       "       [ 0.52706972, -1.55110074,  0.32961334, -1.13652654]])"
      ]
     },
     "execution_count": 16,
     "metadata": {},
     "output_type": "execute_result"
    }
   ],
   "source": [
    "import numpy as np\n",
    "np.random.seed(20) \n",
    "\n",
    "np.random.randn(10,4)"
   ]
  },
  {
   "cell_type": "markdown",
   "metadata": {
    "id": "XNN_2jpie4mh"
   },
   "source": [
    "### <a name='6'></a> Exercise 16\n",
    "Set the random seed to 30. Then build a two-dimensional array with the shape _(10, 4)_ pseudo-random values generated from the normal distribution $ N (100, 5) $.\n",
    "$\\mu=100$   \n",
    "$\\sigma^{2}=5$\n",
    "\n",
    "__Expected result:__\n",
    "```\n",
    "array([[ 97.17349231, 103.41650023,  97.82942436, 101.05220329],\n",
    "       [ 99.7748353 , 100.67930221,  96.14063068, 103.544381  ],\n",
    "       [100.30029631,  97.52499594, 103.52901961, 100.24037271],\n",
    "       [ 98.29153712,  98.2666258 , 103.09437633, 101.70027274],\n",
    "       [ 99.36127721, 101.20382627,  95.34026547, 102.09694365],\n",
    "       [ 99.98708001,  98.95468525,  99.05410904, 102.38025432],\n",
    "       [ 93.50787269, 103.61547679, 103.18753701,  98.51356237],\n",
    "       [102.20256689,  96.19764407,  97.54000366,  97.05813038],\n",
    "       [101.81233513,  97.66380453,  98.45883627,  98.09317768],\n",
    "       [102.48979932,  95.70413391,  98.43161651, 101.89861815]])\n",
    "```\n",
    "__Tip:__ Use the function _np.random.rand()_.\n"
   ]
  },
  {
   "cell_type": "code",
   "execution_count": 17,
   "metadata": {
    "id": "4WeO2gcLe7Br"
   },
   "outputs": [
    {
     "name": "stdout",
     "output_type": "stream",
     "text": [
      "[[ 97.83850035 102.6126814   98.34010764 100.80464562]\n",
      " [ 99.82781104 100.51947904  97.04864576 102.71047495]\n",
      " [100.22964394  98.10730378 102.69872773 100.1838189 ]\n",
      " [ 98.69349659  98.67444629 102.36634537 101.30024021]\n",
      " [ 99.51155304 100.92059544  96.43658688 101.60358417]\n",
      " [ 99.99011977  99.20062221  99.27665401 101.82023877]\n",
      " [ 95.03531125 102.76484365 102.43758762  98.86328474]\n",
      " [101.68435685  97.0922453   98.11878055  97.75028025]\n",
      " [101.38593706  98.21345411  98.82143435  98.54180627]\n",
      " [101.90401052  96.71484599  98.80061874 101.4519198 ]]\n"
     ]
    }
   ],
   "source": [
    "import numpy as np \n",
    "np.random.seed(30) \n",
    "cbrt = np.cbrt(5)\n",
    "nd1 = 100\n",
    "print(cbrt * np.random.randn(10, 4) + nd1) "
   ]
  },
  {
   "cell_type": "markdown",
   "metadata": {
    "id": "Jkc8U5OBfBTS"
   },
   "source": [
    "### <a name='7'></a> Exercise 17\n",
    "Iterating by array numpy $ A $ element by element (element-wise) print each element of the array to the console.\n",
    "\n",
    "```\n",
    "A = np.array([[1, 4, 3],\n",
    "              [5, 2, 6]])\n",
    "```\n",
    "\n",
    "__Tip:__ Use the _np.nditer()_ function.\n"
   ]
  },
  {
   "cell_type": "code",
   "execution_count": 18,
   "metadata": {
    "id": "zMthtdFGfCRa"
   },
   "outputs": [
    {
     "name": "stdout",
     "output_type": "stream",
     "text": [
      "1\n",
      "4\n",
      "3\n",
      "5\n",
      "2\n",
      "6\n"
     ]
    }
   ],
   "source": [
    "import numpy as np\n",
    "A = np.array([[1, 4, 3],\n",
    "              [5, 2, 6]])\n",
    "for x in np.nditer(A):\n",
    "  print(x)\n"
   ]
  },
  {
   "cell_type": "markdown",
   "metadata": {
    "id": "DKJz_EsCfHlB"
   },
   "source": [
    "### <a name='8'></a> Exercise 18\n",
    "Create a one-dimensional numpy array (vector) consisting of 11 equally spaced points from the interval $ [0, 1]. $\n",
    "\n",
    "__Expected result:__\n",
    "```\n",
    "array([0. , 0.1, 0.2, 0.3, 0.4, 0.5, 0.6, 0.7, 0.8, 0.9, 1. ])\n",
    "```\n",
    "__Tip:__ Use the _np.linspace()_ function.\n",
    "\n"
   ]
  },
  {
   "cell_type": "code",
   "execution_count": 19,
   "metadata": {
    "id": "1_IlLjGTfJMB"
   },
   "outputs": [
    {
     "data": {
      "text/plain": [
       "array([0. , 0.1, 0.2, 0.3, 0.4, 0.5, 0.6, 0.7, 0.8, 0.9, 1. ])"
      ]
     },
     "execution_count": 19,
     "metadata": {},
     "output_type": "execute_result"
    }
   ],
   "source": [
    "import numpy as np\n",
    "np.linspace(0,1,11)"
   ]
  },
  {
   "cell_type": "markdown",
   "metadata": {
    "id": "UAdzIcgxfNnj"
   },
   "source": [
    "### <a name='9'></a> Exercise 19\n",
    "\n",
    "Set the random seed to 42. Generate a one-dimensional array (vector) containing the possible result from the Big Lotto game.\n",
    "\n",
    "__Expected result:__\n",
    "```\n",
    "array([39, 29, 15, 43,  8, 21])\n",
    "```\n",
    "\n",
    "__Tip:__ The result of the game is a 6-element vector of values from 1 to 49 inclusive.\n",
    "\n"
   ]
  },
  {
   "cell_type": "code",
   "execution_count": 20,
   "metadata": {
    "id": "lSrE2PwxfOgy"
   },
   "outputs": [
    {
     "data": {
      "text/plain": [
       "array([39, 29, 15, 43,  8, 21])"
      ]
     },
     "execution_count": 20,
     "metadata": {},
     "output_type": "execute_result"
    }
   ],
   "source": [
    "import numpy as np \n",
    "np.random.seed(42) \n",
    "np.random.randint(1,49,size=6)"
   ]
  },
  {
   "cell_type": "markdown",
   "metadata": {
    "id": "FmX1xoLCfTyZ"
   },
   "source": [
    "### <a name='10'></a> Exercise 20\n",
    "Build the two-dimensional _6x6_ size array below:\n",
    "\n",
    "```\n",
    "array([[0, 0, 0, 0, 0, 0],\n",
    "       [0, 1, 0, 0, 0, 0],\n",
    "       [0, 0, 2, 0, 0, 0],\n",
    "       [0, 0, 0, 3, 0, 0],\n",
    "       [0, 0, 0, 0, 4, 0],\n",
    "       [0, 0, 0, 0, 0, 5]])\n",
    "```\n",
    "__Tip:__ Use the _np.diag()_ function.\n",
    "\n"
   ]
  },
  {
   "cell_type": "code",
   "execution_count": 21,
   "metadata": {
    "id": "t1MEOBXDfUnK"
   },
   "outputs": [
    {
     "data": {
      "text/plain": [
       "array([[0, 0, 0, 0, 0, 0],\n",
       "       [0, 1, 0, 0, 0, 0],\n",
       "       [0, 0, 2, 0, 0, 0],\n",
       "       [0, 0, 0, 3, 0, 0],\n",
       "       [0, 0, 0, 0, 4, 0],\n",
       "       [0, 0, 0, 0, 0, 5]])"
      ]
     },
     "execution_count": 21,
     "metadata": {},
     "output_type": "execute_result"
    }
   ],
   "source": [
    "import numpy as np\n",
    "a=np.arange(6)\n",
    "np.diag(a)"
   ]
  },
  {
   "cell_type": "markdown",
   "metadata": {
    "id": "a7P_lJHcfnrV"
   },
   "source": [
    "### <a name='1'></a> Exercise 21\n",
    "Generate the following numpy array. Save the array to a binary file named _'array.npy'_ and then load that file back into another variable.\n",
    "\n",
    "```\n",
    "array([[ 0,  1,  2,  3],\n",
    "       [ 4,  5,  6,  7],\n",
    "       [ 8,  9, 10, 11]])\n",
    "```\n",
    "__Tip:__ Use the _np.save()_ and _np.load()_ functions.\n"
   ]
  },
  {
   "cell_type": "code",
   "execution_count": 22,
   "metadata": {
    "id": "qtIewTnIfopZ"
   },
   "outputs": [
    {
     "data": {
      "text/plain": [
       "array([[ 0,  1,  2,  3],\n",
       "       [ 4,  5,  6,  7],\n",
       "       [ 8,  9, 10, 11]])"
      ]
     },
     "execution_count": 22,
     "metadata": {},
     "output_type": "execute_result"
    }
   ],
   "source": [
    "import numpy as np\n",
    "a=np.arange(12).reshape(3,4)\n",
    "np.save('array.npy',a)\n",
    "b=np.load('array.npy')\n",
    "b"
   ]
  },
  {
   "cell_type": "markdown",
   "metadata": {
    "id": "S_Kj4ym_fr6g"
   },
   "source": [
    "### <a name='2'></a> Exercise 22\n",
    "Generate the following numpy array:\n",
    "```\n",
    "array([[ 0,  1,  2,  3],\n",
    "       [ 4,  5,  6,  7],\n",
    "       [ 8,  9, 10, 11]])\n",
    "```\n",
    "\n",
    "Save the array to a text file named _'array.txt'_ with two decimal places and then load the file back into another variable.\n",
    "\n",
    "__Tip:__ Use the _np.savetxt()_ and _np.loadtxt()_ functions.\n"
   ]
  },
  {
   "cell_type": "code",
   "execution_count": 23,
   "metadata": {
    "id": "9mYHUMIaftdI"
   },
   "outputs": [
    {
     "data": {
      "text/plain": [
       "array([[ 0.,  1.,  2.,  3.],\n",
       "       [ 4.,  5.,  6.,  7.],\n",
       "       [ 8.,  9., 10., 11.]])"
      ]
     },
     "execution_count": 23,
     "metadata": {},
     "output_type": "execute_result"
    }
   ],
   "source": [
    "import numpy as np\n",
    "a=np.arange(12).reshape(3,4)\n",
    "np.savetxt('array.npy',a)\n",
    "b=np.loadtxt('array.npy')\n",
    "b"
   ]
  },
  {
   "cell_type": "markdown",
   "metadata": {
    "id": "Sol69Ss6fw4I"
   },
   "source": [
    "### <a name='3'></a> Exercise 23\n",
    "Generate and convert the following numpy array into a list:\n",
    "\n",
    "```\n",
    "array([[ 0,  1,  2,  3],\n",
    "       [ 4,  5,  6,  7],\n",
    "       [ 8,  9, 10, 11]])\n",
    "```\n",
    "__Tip:__ Use the _np.array.tolist()_ method.\n"
   ]
  },
  {
   "cell_type": "code",
   "execution_count": 24,
   "metadata": {
    "id": "vPVQzZhHfx4R"
   },
   "outputs": [
    {
     "data": {
      "text/plain": [
       "[[0, 1, 2, 3], [4, 5, 6, 7], [8, 9, 10, 11]]"
      ]
     },
     "execution_count": 24,
     "metadata": {},
     "output_type": "execute_result"
    }
   ],
   "source": [
    "import numpy as np\n",
    "a=np.arange(12).reshape(3,4)\n",
    "a.tolist() "
   ]
  },
  {
   "cell_type": "markdown",
   "metadata": {
    "id": "CjnmStc9f2MI"
   },
   "source": [
    "### <a name='4'></a> Exercise 24\n",
    "The following numpy array is given:\n",
    "```\n",
    "array([[ 0,  1,  2,  3],\n",
    "       [ 4,  5,  6,  7],\n",
    "       [ 8,  9, 10, 11]])\n",
    "```\n",
    "\n",
    "Using the cut operator, transform the array into the following:\n",
    "\n",
    "* swap rows (first with last)\n",
    "\n",
    "```\n",
    "array([[ 8,  9, 10, 11],\n",
    "       [ 4,  5,  6,  7],\n",
    "       [ 0,  1,  2,  3]])\n",
    "```"
   ]
  },
  {
   "cell_type": "code",
   "execution_count": 25,
   "metadata": {
    "id": "JJa62LhOgNRI"
   },
   "outputs": [
    {
     "data": {
      "text/plain": [
       "array([[ 8,  9, 10, 11],\n",
       "       [ 4,  5,  6,  7],\n",
       "       [ 0,  1,  2,  3]])"
      ]
     },
     "execution_count": 25,
     "metadata": {},
     "output_type": "execute_result"
    }
   ],
   "source": [
    "import numpy as np\n",
    "a=np.arange(12).reshape(3,4)\n",
    "a[::-1,::]"
   ]
  },
  {
   "cell_type": "markdown",
   "metadata": {
    "id": "SC7dOmQLhelB"
   },
   "source": [
    "* swap columns (reverse order)\n",
    "\n",
    "```\n",
    "array([[ 3,  2,  1,  0],\n",
    "       [ 7,  6,  5,  4],\n",
    "       [11, 10,  9,  8]])\n",
    "```"
   ]
  },
  {
   "cell_type": "code",
   "execution_count": 26,
   "metadata": {
    "id": "Hx7nJdcWhfzy"
   },
   "outputs": [
    {
     "data": {
      "text/plain": [
       "array([[ 3,  2,  1,  0],\n",
       "       [ 7,  6,  5,  4],\n",
       "       [11, 10,  9,  8]])"
      ]
     },
     "execution_count": 26,
     "metadata": {},
     "output_type": "execute_result"
    }
   ],
   "source": [
    "import numpy as np\n",
    "a=np.arange(12).reshape(3,4)\n",
    "a[::,::-1]"
   ]
  },
  {
   "cell_type": "markdown",
   "metadata": {
    "id": "5sCqct3Fhm2R"
   },
   "source": [
    "* swapp rows and columns (reverse order)\n",
    "\n",
    "```\n",
    "array([[11, 10,  9,  8],\n",
    "       [ 7,  6,  5,  4],\n",
    "       [ 3,  2,  1,  0]])\n",
    "``` "
   ]
  },
  {
   "cell_type": "code",
   "execution_count": 27,
   "metadata": {
    "id": "IpYoHAplhpqw"
   },
   "outputs": [
    {
     "data": {
      "text/plain": [
       "array([[11, 10,  9,  8],\n",
       "       [ 7,  6,  5,  4],\n",
       "       [ 3,  2,  1,  0]])"
      ]
     },
     "execution_count": 27,
     "metadata": {},
     "output_type": "execute_result"
    }
   ],
   "source": [
    "import numpy as np\n",
    "a=np.arange(12).reshape(3,4)\n",
    "a[::-1,::-1]"
   ]
  },
  {
   "cell_type": "markdown",
   "metadata": {
    "id": "wMGJQSSDht0Y"
   },
   "source": [
    "### <a name='5'></a> Exercise 25\n",
    "The following numpy array:\n",
    "\n",
    "```\n",
    "array([[1., 1., 1., 1.],\n",
    "       [1., 1., 1., 1.],\n",
    "       [1., 1., 1., 1.],\n",
    "       [1., 1., 1., 1.]])\n",
    "```\n",
    "Transform to array:\n",
    "\n",
    "```\n",
    "array([[0., 0., 0., 0., 0., 0.],\n",
    "       [0., 1., 1., 1., 1., 0.],\n",
    "       [0., 1., 1., 1., 1., 0.],\n",
    "       [0., 1., 1., 1., 1., 0.],\n",
    "       [0., 1., 1., 1., 1., 0.],\n",
    "       [0., 0., 0., 0., 0., 0.]])\n",
    "```\n",
    "\n",
    "__Tip:__ Use the _np.pad()_ function."
   ]
  },
  {
   "cell_type": "code",
   "execution_count": 28,
   "metadata": {
    "id": "ZeDUu5O3huro"
   },
   "outputs": [
    {
     "data": {
      "text/plain": [
       "array([[0., 0., 0., 0., 0., 0.],\n",
       "       [0., 1., 1., 1., 1., 0.],\n",
       "       [0., 1., 1., 1., 1., 0.],\n",
       "       [0., 1., 1., 1., 1., 0.],\n",
       "       [0., 1., 1., 1., 1., 0.],\n",
       "       [0., 0., 0., 0., 0., 0.]])"
      ]
     },
     "execution_count": 28,
     "metadata": {},
     "output_type": "execute_result"
    }
   ],
   "source": [
    "import numpy as np\n",
    "a=np.array([[1., 1., 1., 1.],\n",
    "       [1., 1., 1., 1.],\n",
    "       [1., 1., 1., 1.],\n",
    "       [1., 1., 1., 1.]])\n",
    "np.pad(a,pad_width=1, mode='constant')"
   ]
  },
  {
   "cell_type": "markdown",
   "metadata": {
    "id": "42KJW-6Hh7O4"
   },
   "source": [
    "### <a name='6'></a> Exercise 26\n",
    "The following numpy array:\n",
    "```\n",
    "array([[0, 0, 0, 0, 0, 0],\n",
    "       [0, 0, 0, 0, 0, 0],\n",
    "       [0, 0, 0, 0, 0, 0],\n",
    "       [0, 0, 0, 0, 0, 0],\n",
    "       [0, 0, 0, 0, 0, 0],\n",
    "       [0, 0, 0, 0, 0, 0]])\n",
    "```\n",
    "\n",
    "Transform to array:\n",
    "```\n",
    "array([[10,  0, 10,  0, 10,  0],\n",
    "       [ 5,  0,  5,  0,  5,  0],\n",
    "       [10,  0, 10,  0, 10,  0],\n",
    "       [ 5,  0,  5,  0,  5,  0],\n",
    "       [10,  0, 10,  0, 10,  0],\n",
    "       [ 5,  0,  5,  0,  5,  0]])\n",
    "```\n",
    "\n",
    "__Tip:__ Use the cut operator and assign the appropriate values.\n"
   ]
  },
  {
   "cell_type": "code",
   "execution_count": 29,
   "metadata": {
    "id": "UChhZY-uh79M"
   },
   "outputs": [
    {
     "data": {
      "text/plain": [
       "array([[0, 0, 0, 0, 0, 0],\n",
       "       [0, 0, 0, 0, 0, 0],\n",
       "       [0, 0, 0, 0, 0, 0],\n",
       "       [0, 0, 0, 0, 0, 0],\n",
       "       [0, 0, 0, 0, 0, 0],\n",
       "       [0, 0, 0, 0, 0, 0]])"
      ]
     },
     "execution_count": 29,
     "metadata": {},
     "output_type": "execute_result"
    }
   ],
   "source": [
    "import numpy as np\n",
    "a=np.array([[0, 0, 0, 0, 0, 0],\n",
    "       [0, 0, 0, 0, 0, 0],\n",
    "       [0, 0, 0, 0, 0, 0],\n",
    "       [0, 0, 0, 0, 0, 0],\n",
    "       [0, 0, 0, 0, 0, 0],\n",
    "       [0, 0, 0, 0, 0, 0]])\n",
    "a"
   ]
  },
  {
   "cell_type": "markdown",
   "metadata": {
    "id": "O0xOhVtwiACe"
   },
   "source": [
    "### <a name='7'></a> Exercise 27\n",
    "Combine the following arrays: $ A $ and $ B $ into one array.\n",
    "\n",
    "```\n",
    "A = np.arange(12).reshape(-1, 4)\n",
    "B = np.array([[4, 3, 7, 2],\n",
    "              [0, 5, 2, 6]])\n",
    "```\n",
    "\n",
    "__The expected result:__\n",
    "\n",
    "```\n",
    "array([[ 0,  1,  2,  3],\n",
    "       [ 4,  5,  6,  7],\n",
    "       [ 8,  9, 10, 11],\n",
    "       [ 4,  3,  7,  2],\n",
    "       [ 0,  5,  2,  6]])\n",
    "```\n",
    "\n",
    "__Tip:__ Use the _np.append()_ function.\n"
   ]
  },
  {
   "cell_type": "code",
   "execution_count": 30,
   "metadata": {
    "id": "HlJYAxb6iA3m"
   },
   "outputs": [
    {
     "data": {
      "text/plain": [
       "array([[ 0,  1,  2,  3],\n",
       "       [ 4,  5,  6,  7],\n",
       "       [ 8,  9, 10, 11],\n",
       "       [ 4,  3,  7,  2],\n",
       "       [ 0,  5,  2,  6]])"
      ]
     },
     "execution_count": 30,
     "metadata": {},
     "output_type": "execute_result"
    }
   ],
   "source": [
    "import numpy as np\n",
    "A = np.arange(12).reshape(-1, 4)\n",
    "B = np.array([[4, 3, 7, 2],\n",
    "              [0, 5, 2, 6]])\n",
    "np.append(A,B,axis=0)"
   ]
  },
  {
   "cell_type": "markdown",
   "metadata": {
    "id": "aRMp4UpqiFqn"
   },
   "source": [
    "### <a name='8'></a> Exercise 28\n",
    "Use the $ A $ and $ B $ arrays below to extract the common elements (intersection) of the arrays.\n",
    "\n",
    "```\n",
    "A = np.arange(8).reshape(-1, 4)\n",
    "B = np.array([[9, 10, 11, 3],\n",
    "              [2, 8, 0, 9]])      \n",
    "```\n",
    "__Tip:__ Use the _np.intersect1d()_ function."
   ]
  },
  {
   "cell_type": "code",
   "execution_count": 31,
   "metadata": {
    "id": "IwBiE5XfiGz-"
   },
   "outputs": [
    {
     "data": {
      "text/plain": [
       "array([0, 2, 3])"
      ]
     },
     "execution_count": 31,
     "metadata": {},
     "output_type": "execute_result"
    }
   ],
   "source": [
    "import numpy as np\n",
    "A = np.arange(8).reshape(-1, 4)\n",
    "B = np.array([[9, 10, 11, 3],\n",
    "              [2, 8, 0, 9]])  \n",
    "np.intersect1d(A,B)"
   ]
  },
  {
   "cell_type": "markdown",
   "metadata": {
    "id": "DcCFm9wbiMjW"
   },
   "source": [
    "### <a name='9'></a> Exercise 29\n",
    "The following numpy array $ A $ is given.\n",
    "Find the unique values of this array.\n",
    "\n",
    "```\n",
    "A = np.array([[5, 1, 2, 1, 2],\n",
    "              [9, 1, 9, 7, 5],\n",
    "              [4, 1, 5, 7, 9]])\n",
    "```\n",
    "\n",
    "__Tip:__ Use the _np.unique()_ function."
   ]
  },
  {
   "cell_type": "code",
   "execution_count": 32,
   "metadata": {
    "id": "iPNc7v7CiNU4"
   },
   "outputs": [
    {
     "data": {
      "text/plain": [
       "array([1, 2, 4, 5, 7, 9])"
      ]
     },
     "execution_count": 32,
     "metadata": {},
     "output_type": "execute_result"
    }
   ],
   "source": [
    "import numpy as np\n",
    "A = np.array([[5, 1, 2, 1, 2],\n",
    "              [9, 1, 9, 7, 5],\n",
    "              [4, 1, 5, 7, 9]])\n",
    "np.unique(A)"
   ]
  },
  {
   "cell_type": "markdown",
   "metadata": {
    "id": "gZByuoPAiRsA"
   },
   "source": [
    "### <a name='10'></a> Exercise 30\n",
    "The array below is given:\n",
    "```\n",
    "A = np.array([[0.4, 0.3, 0.3],\n",
    "              [0.1, 0.1, 0.8],\n",
    "              [0.2, 0.5, 0.3]])\n",
    "```\n",
    "Return indexes with maximum values for a given row.\n",
    "\n",
    "__Tip:__ Use the _np.argmax()_ function."
   ]
  },
  {
   "cell_type": "code",
   "execution_count": 33,
   "metadata": {
    "id": "eQ4WLEcCiScR"
   },
   "outputs": [
    {
     "data": {
      "text/plain": [
       "5"
      ]
     },
     "execution_count": 33,
     "metadata": {},
     "output_type": "execute_result"
    }
   ],
   "source": [
    "import numpy as np\n",
    "A = np.array([[0.4, 0.3, 0.3],\n",
    "              [0.1, 0.1, 0.8],\n",
    "              [0.2, 0.5, 0.3]])\n",
    "np.argmax(A) "
   ]
  },
  {
   "cell_type": "markdown",
   "metadata": {
    "id": "hZg8-irYjmNf"
   },
   "source": [
    "### <a name='1'></a> Exercise 31\n",
    "Sort the array $ A $ below:\n",
    "* by row (ascending)\n",
    "* by column (ascending)\n",
    "\n",
    "```\n",
    "A = np.array([[4.99, 3.49, 9.99],\n",
    "              [1.99, 9.99, 4.99],\n",
    "              [14.99, 2.39, 7.29]])\n",
    "```\n",
    "__Tip:__ Use the _np.sort()_ function.\n"
   ]
  },
  {
   "cell_type": "code",
   "execution_count": 34,
   "metadata": {
    "id": "s2hSadfHjnEX"
   },
   "outputs": [
    {
     "data": {
      "text/plain": [
       "array([[ 1.99,  2.39,  4.99],\n",
       "       [ 4.99,  3.49,  7.29],\n",
       "       [14.99,  9.99,  9.99]])"
      ]
     },
     "execution_count": 34,
     "metadata": {},
     "output_type": "execute_result"
    }
   ],
   "source": [
    "import numpy as np\n",
    "A = np.array([[4.99, 3.49, 9.99],\n",
    "              [1.99, 9.99, 4.99],\n",
    "              [14.99, 2.39, 7.29]])\n",
    "np.sort(A,axis=0)"
   ]
  },
  {
   "cell_type": "markdown",
   "metadata": {
    "id": "Peo2HjmUjqkA"
   },
   "source": [
    "### <a name='2'></a> Exercise 32\n",
    "Extract all elements of the $ A $ array with a value greater than 8.\n",
    "```\n",
    "A = np.array([[4.99, 3.49, 9.99],\n",
    "              [1.99, 9.99, 4.99],\n",
    "              [14.99, 2.39, 7.29]])\n",
    "```"
   ]
  },
  {
   "cell_type": "code",
   "execution_count": 35,
   "metadata": {
    "id": "Jac26ZVsjtpH"
   },
   "outputs": [
    {
     "name": "stdout",
     "output_type": "stream",
     "text": [
      "[ 9.99  9.99 14.99]\n"
     ]
    }
   ],
   "source": [
    "import numpy as np\n",
    "A = np.array([[4.99, 3.49, 9.99],\n",
    "              [1.99, 9.99, 4.99],\n",
    "              [14.99, 2.39, 7.29]])\n",
    "print(A[A>8])"
   ]
  },
  {
   "cell_type": "markdown",
   "metadata": {
    "id": "Ii4UiYfcj5u3"
   },
   "source": [
    "### <a name='3'></a> Exercise 33\n",
    "The following array $ A $ is given. Replace elements above 10 with a fixed value of 10 (truncation to 10).\n",
    "\n",
    "```\n",
    "A = np.array([[4.99, 3.49, 9.99],\n",
    "              [1.99, 9.99, 14.99],\n",
    "              [14.99, 2.39, 7.29]])\n",
    "```\n",
    "__Tip:__ Use the _np.where()_ function.\n"
   ]
  },
  {
   "cell_type": "code",
   "execution_count": 36,
   "metadata": {
    "id": "WaiLTwlIj6-l"
   },
   "outputs": [
    {
     "data": {
      "text/plain": [
       "array([[ 4.99,  3.49,  9.99],\n",
       "       [ 1.99,  9.99, 10.  ],\n",
       "       [10.  ,  2.39,  7.29]])"
      ]
     },
     "execution_count": 36,
     "metadata": {},
     "output_type": "execute_result"
    }
   ],
   "source": [
    "import numpy as np\n",
    "A = np.array([[4.99, 3.49, 9.99],\n",
    "              [1.99, 9.99, 14.99],\n",
    "              [14.99, 2.39, 7.29]])\n",
    "np.where(A<10,A,10)"
   ]
  },
  {
   "cell_type": "markdown",
   "metadata": {
    "id": "ViIvcSEij-rG"
   },
   "source": [
    "### <a name='4'></a> Exercise 34\n",
    "Present the following $ A $ two-dimensional array as a \"flattened\" one-dimensional array.\n",
    "```\n",
    "A = np.array([[4.99, 3.49, 9.99],\n",
    "              [1.99, 9.99, 14.99],\n",
    "              [14.99, 2.39, 7.29]])\n",
    "```\n",
    "__Expected result:__\n",
    "```\n",
    "array([ 4.99,  3.49,  9.99,  1.99,  9.99, 14.99, 14.99,  2.39,  7.29])\n",
    "```\n",
    "\n",
    "__Tip:__ Use the _np.ravel()_ function."
   ]
  },
  {
   "cell_type": "code",
   "execution_count": 37,
   "metadata": {
    "id": "6qCMQMxdkBkI"
   },
   "outputs": [
    {
     "data": {
      "text/plain": [
       "array([ 4.99,  3.49,  9.99,  1.99,  9.99, 14.99, 14.99,  2.39,  7.29])"
      ]
     },
     "execution_count": 37,
     "metadata": {},
     "output_type": "execute_result"
    }
   ],
   "source": [
    "import numpy as np\n",
    "A = np.array([[4.99, 3.49, 9.99],\n",
    "              [1.99, 9.99, 14.99],\n",
    "              [14.99, 2.39, 7.29]])\n",
    "np.ravel(A)"
   ]
  },
  {
   "cell_type": "markdown",
   "metadata": {
    "id": "YJ-wBbtwkEn_"
   },
   "source": [
    "### <a name='5'></a> Exercise 35\n",
    "Build an array of the same shape and data type as the $ A $ array and fill it with a constant value of 0.0.\n",
    "\n",
    "```\n",
    "A = np.array([[4.99, 3.49, 9.99],\n",
    "              [1.99, 9.99, 14.99],\n",
    "              [14.99, 2.39, 7.29]])\n",
    "```\n",
    "__Expected result:__\n",
    "```\n",
    "array([[0., 0., 0.],\n",
    "       [0., 0., 0.],\n",
    "       [0., 0., 0.]])\n",
    "```\n",
    "\n",
    "__Tip:__ Use the _np.zeros_like()_ function."
   ]
  },
  {
   "cell_type": "code",
   "execution_count": 38,
   "metadata": {
    "id": "6Znu9sB_kF3_"
   },
   "outputs": [
    {
     "data": {
      "text/plain": [
       "array([[0., 0., 0.],\n",
       "       [0., 0., 0.],\n",
       "       [0., 0., 0.]])"
      ]
     },
     "execution_count": 38,
     "metadata": {},
     "output_type": "execute_result"
    }
   ],
   "source": [
    "import numpy as np\n",
    "A = np.array([[4.99, 3.49, 9.99],\n",
    "              [1.99, 9.99, 14.99],\n",
    "              [14.99, 2.39, 7.29]])\n",
    "np.zeros_like(A)"
   ]
  },
  {
   "cell_type": "markdown",
   "metadata": {
    "id": "948S19m_kJvH"
   },
   "source": [
    "### <a name='6'></a> Exercise 36\n",
    "\n",
    "Build an array of the same shape and data type as the $ A $ array and fill it with a constant value of 9.99.\n",
    "\n",
    "```\n",
    "A = np.array([[4.99, 3.49, 9.99],\n",
    "              [1.99, 9.99, 14.99],\n",
    "              [14.99, 2.39, 7.29]])\n",
    "```\n",
    "__Expected result:__\n",
    "\n",
    "```\n",
    "array([[9.99, 9.99, 9.99],\n",
    "       [9.99, 9.99, 9.99],\n",
    "       [9.99, 9.99, 9.99]])\n",
    "```\n",
    "\n",
    "__Tip:__ Use the function _np.full_like()_.\n",
    "\n",
    "\n"
   ]
  },
  {
   "cell_type": "code",
   "execution_count": 39,
   "metadata": {
    "id": "WBuGRZHUkKYo"
   },
   "outputs": [
    {
     "data": {
      "text/plain": [
       "array([[9.99, 9.99, 9.99],\n",
       "       [9.99, 9.99, 9.99],\n",
       "       [9.99, 9.99, 9.99]])"
      ]
     },
     "execution_count": 39,
     "metadata": {},
     "output_type": "execute_result"
    }
   ],
   "source": [
    "import numpy as np\n",
    "A = np.array([[4.99, 3.49, 9.99],\n",
    "              [1.99, 9.99, 14.99],\n",
    "              [14.99, 2.39, 7.29]])\n",
    "np.full_like(A,9.99)"
   ]
  },
  {
   "cell_type": "markdown",
   "metadata": {
    "id": "hKth-eu4kNww"
   },
   "source": [
    "### <a name='7'></a> Exercise 37\n",
    "Build a two-dimensional array (lower triangular matrix) below:\n",
    "```\n",
    "array([[1., 0., 0., 0., 0.],\n",
    "       [1., 1., 0., 0., 0.],\n",
    "       [1., 1., 1., 0., 0.],\n",
    "       [1., 1., 1., 1., 0.],\n",
    "       [1., 1., 1., 1., 1.]])\n",
    "```\n",
    "__Tip:__ Use the _np.tri()_ function."
   ]
  },
  {
   "cell_type": "code",
   "execution_count": 40,
   "metadata": {
    "id": "4JVxySHlkPgb"
   },
   "outputs": [
    {
     "data": {
      "text/plain": [
       "array([[1., 0., 0., 0., 0.],\n",
       "       [1., 1., 0., 0., 0.],\n",
       "       [1., 1., 1., 0., 0.],\n",
       "       [1., 1., 1., 1., 0.],\n",
       "       [1., 1., 1., 1., 1.]])"
      ]
     },
     "execution_count": 40,
     "metadata": {},
     "output_type": "execute_result"
    }
   ],
   "source": [
    "import numpy as np\n",
    "np.tri(5)"
   ]
  },
  {
   "cell_type": "markdown",
   "metadata": {
    "id": "1AIA1ahdkSjn"
   },
   "source": [
    "### <a name='8'></a> Exercise 38\n",
    "Create any $ (2, 3, 4) $ 3-dimensional array."
   ]
  },
  {
   "cell_type": "code",
   "execution_count": 41,
   "metadata": {
    "id": "INKW2aDLkTgY"
   },
   "outputs": [
    {
     "data": {
      "text/plain": [
       "array([[[ 0,  1,  2,  3],\n",
       "        [ 4,  5,  6,  7],\n",
       "        [ 8,  9, 10, 11]],\n",
       "\n",
       "       [[12, 13, 14, 15],\n",
       "        [16, 17, 18, 19],\n",
       "        [20, 21, 22, 23]]])"
      ]
     },
     "execution_count": 41,
     "metadata": {},
     "output_type": "execute_result"
    }
   ],
   "source": [
    "import numpy as np\n",
    "np.arange(24).reshape(2,3,4)"
   ]
  },
  {
   "cell_type": "markdown",
   "metadata": {
    "id": "lysAQpLwl9Pl"
   },
   "source": [
    "### <a name='1'></a> Exercise 41\n",
    "The following array $ A $ with the shape (2, 3) is given.\n",
    "```\n",
    "A = np.array([[4, 2, 1],\n",
    "              [6, 4, 2]])\n",
    "```"
   ]
  },
  {
   "cell_type": "markdown",
   "metadata": {
    "id": "SJ5VKayzmD5w"
   },
   "source": [
    "* Expand the array $ A $ by one dimension (add a new dimension at the beginning). Expected shape of the output array: _(1, 2, 3)_.\n",
    "\n",
    "__Tip:__ Use the _np.expand_dims()_ function."
   ]
  },
  {
   "cell_type": "code",
   "execution_count": 42,
   "metadata": {
    "id": "6NGvg3IfmFu6"
   },
   "outputs": [
    {
     "name": "stdout",
     "output_type": "stream",
     "text": [
      "[[[4 2 1]\n",
      "  [6 4 2]]]\n",
      "(1, 2, 3)\n"
     ]
    }
   ],
   "source": [
    "import numpy as np\n",
    "A = np.array([[4, 2, 1],\n",
    "              [6, 4, 2]])\n",
    "B=np.expand_dims(A,axis=0)\n",
    "print(B)\n",
    "print(np.shape(B))"
   ]
  },
  {
   "cell_type": "markdown",
   "metadata": {
    "id": "8pFHSbuHmIFO"
   },
   "source": [
    "* Expand the array $ A $ by one dimension (add a new dimension at the end). Expected shape of the output array: _(2, 3, 1)_.\n",
    "\n",
    "__Tip:__ Use the _np.expand_dims()_ function."
   ]
  },
  {
   "cell_type": "code",
   "execution_count": 43,
   "metadata": {
    "id": "dl8SzpbqmJxe"
   },
   "outputs": [
    {
     "name": "stdout",
     "output_type": "stream",
     "text": [
      "[[[4 2 1]]\n",
      "\n",
      " [[6 4 2]]]\n",
      "(2, 1, 3)\n"
     ]
    }
   ],
   "source": [
    "import numpy as np\n",
    "A = np.array([[4, 2, 1],\n",
    "              [6, 4, 2]])\n",
    "B=np.expand_dims(A,axis=1)\n",
    "print(B)\n",
    "print(np.shape(B))"
   ]
  },
  {
   "cell_type": "markdown",
   "metadata": {
    "id": "ZrwkIUrLmOqW"
   },
   "source": [
    "### <a name='2'></a> Exercise 42\n",
    "Generate a three-dimensional array named _image_ with shape _(200, 300, 3)_ filled with random values from 0 to 255 inclusive and data type _np.uint8_."
   ]
  },
  {
   "cell_type": "code",
   "execution_count": 44,
   "metadata": {
    "id": "dUf3YxE8mP9m"
   },
   "outputs": [
    {
     "name": "stdout",
     "output_type": "stream",
     "text": [
      "[[[215  42 224]\n",
      "  [219  43 166]\n",
      "  [ 69  15 133]\n",
      "  ...\n",
      "  [ 57 158 169]\n",
      "  [122 123  36]\n",
      "  [147  22 136]]\n",
      "\n",
      " [[214  33  22]\n",
      "  [145 207 210]\n",
      "  [160 212 206]\n",
      "  ...\n",
      "  [ 10   3  90]\n",
      "  [ 12 178  84]\n",
      "  [  5   0  47]]\n",
      "\n",
      " [[ 75  72 188]\n",
      "  [183 246  29]\n",
      "  [ 50  52 133]\n",
      "  ...\n",
      "  [234 122  34]\n",
      "  [ 62 151  57]\n",
      "  [128  33 110]]\n",
      "\n",
      " ...\n",
      "\n",
      " [[ 24 213 221]\n",
      "  [167  65 185]\n",
      "  [102  23 182]\n",
      "  ...\n",
      "  [141 137  97]\n",
      "  [ 77  41 227]\n",
      "  [109 135 196]]\n",
      "\n",
      " [[154 142 142]\n",
      "  [  7 191  67]\n",
      "  [248  58  17]\n",
      "  ...\n",
      "  [ 65 157 207]\n",
      "  [146 146 206]\n",
      "  [101 242 156]]\n",
      "\n",
      " [[ 73 250 160]\n",
      "  [ 16 147  91]\n",
      "  [250  54   0]\n",
      "  ...\n",
      "  [177 133 183]\n",
      "  [198 115 198]\n",
      "  [167  31 158]]]\n"
     ]
    }
   ],
   "source": [
    "import numpy as np   \n",
    "np.random.seed(32) \n",
    "image = np.random.randint(low=0, high=256, size=(200,300,3), dtype=np.uint8)\n",
    "print(image)"
   ]
  },
  {
   "cell_type": "markdown",
   "metadata": {
    "id": "BPUVqBTkmV9V"
   },
   "source": [
    "Then run the following block of code. As a result, you'll get a preview of a randomly generated color image."
   ]
  },
  {
   "cell_type": "code",
   "execution_count": 45,
   "metadata": {
    "id": "Ejzaq-qcmk_l"
   },
   "outputs": [
    {
     "data": {
      "image/png": "[encoded data removed]",
      "text/plain": [
       "<PIL.Image.Image image mode=RGB size=300x200>"
      ]
     },
     "execution_count": 45,
     "metadata": {},
     "output_type": "execute_result"
    }
   ],
   "source": [
    "from PIL import Image as im\n",
    "im.fromarray(image)"
   ]
  },
  {
   "cell_type": "markdown",
   "metadata": {
    "id": "I76ZzmFBnOLv"
   },
   "source": [
    "### <a name='8'></a> Exercise 48\n",
    "The following array $ A $ with the shape _(1, 2, 3)_ is given.\n",
    "\n",
    "```\n",
    "A = np.array([[[1, 2, 3],\n",
    "               [6, 3, 2]]])\n",
    "```\n",
    "\n",
    "Remove the unnecessary first dimension and get an array of _(2, 3)_.\n",
    "\n",
    "__Tip:__ Use the _np.squeeze()_ function.\n"
   ]
  },
  {
   "cell_type": "code",
   "execution_count": 46,
   "metadata": {
    "id": "oxTXcORcnS7t"
   },
   "outputs": [
    {
     "name": "stdout",
     "output_type": "stream",
     "text": [
      "[[1 2 3]\n",
      " [6 3 2]]\n",
      "(2, 3)\n"
     ]
    }
   ],
   "source": [
    "import numpy as np\n",
    "A = np.array([[[1, 2, 3],\n",
    "               [6, 3, 2]]])\n",
    "B=np.squeeze(A,axis=0)\n",
    "print(B)\n",
    "print(B.shape)"
   ]
  },
  {
   "cell_type": "markdown",
   "metadata": {
    "id": "UE6TR85AnVHw"
   },
   "source": [
    "### <a name='9'></a> Exercise 49\n",
    "The following array $ A $ with the shape _(4, 1)_ is given.\n",
    "```\n",
    "A = np.array([[0.4],\n",
    "              [0.9],\n",
    "              [0.5],\n",
    "              [0.6]])\n",
    "```\n",
    "Remove the unnecessary dimension and get an array with the shape _(4,)_.\n",
    "\n",
    "__Tip:__ Use the _np.squeeze()_ function."
   ]
  },
  {
   "cell_type": "code",
   "execution_count": 47,
   "metadata": {
    "id": "f3FKL5zNnXN9"
   },
   "outputs": [
    {
     "data": {
      "text/plain": [
       "array([0.4, 0.9, 0.5, 0.6])"
      ]
     },
     "execution_count": 47,
     "metadata": {},
     "output_type": "execute_result"
    }
   ],
   "source": [
    "import numpy as np\n",
    "A = np.array([[0.4],\n",
    "              [0.9],\n",
    "              [0.5],\n",
    "              [0.6]])\n",
    "np.squeeze(A,axis=1)"
   ]
  },
  {
   "cell_type": "markdown",
   "metadata": {
    "id": "mJC9TYmJna3N"
   },
   "source": [
    "### <a name='10'></a> Exercise 50\n",
    "The first image was extract from the _images_ array as follows:"
   ]
  },
  {
   "cell_type": "code",
   "execution_count": 56,
   "metadata": {
    "id": "Ek2nrrA3ndAH"
   },
   "outputs": [
    {
     "data": {
      "text/plain": [
       "array([[[215,  42, 224],\n",
       "        [219,  43, 166],\n",
       "        [ 69,  15, 133],\n",
       "        [255, 105,  95],\n",
       "        [ 54,  37, 201],\n",
       "        [107, 124, 235],\n",
       "        [ 28, 142, 190],\n",
       "        [ 79, 148,  84],\n",
       "        [ 88, 232, 165],\n",
       "        [244, 147, 221],\n",
       "        [  5, 193, 252],\n",
       "        [ 96, 150, 188],\n",
       "        [ 71,  76,  83],\n",
       "        [187, 254, 209],\n",
       "        [242, 208,  89],\n",
       "        [154, 133,  90],\n",
       "        [  3, 207, 224],\n",
       "        [ 25, 229, 179],\n",
       "        [185, 116, 234],\n",
       "        [100, 177, 237],\n",
       "        [  9, 160,   6],\n",
       "        [ 73,   4, 148],\n",
       "        [238, 155, 139],\n",
       "        [ 94,  23, 196],\n",
       "        [209, 185, 183],\n",
       "        [152,   3,  37],\n",
       "        [186, 211,  65],\n",
       "        [ 42, 127,  23],\n",
       "        [162,  69, 238],\n",
       "        [  9,  35,  32],\n",
       "        [ 94,  88,  24],\n",
       "        [115,  52,  80],\n",
       "        [ 42,  38, 170],\n",
       "        [169,  82, 126],\n",
       "        [ 99, 227, 138],\n",
       "        [ 34,  20, 113],\n",
       "        [212,   7,  37],\n",
       "        [217, 178,  77],\n",
       "        [ 46, 141, 100],\n",
       "        [218, 164, 181],\n",
       "        [100, 128,  38],\n",
       "        [180, 185,  96],\n",
       "        [186, 195, 197],\n",
       "        [255, 226, 150],\n",
       "        [249,  16,  76],\n",
       "        [ 37, 166, 100],\n",
       "        [200,  12,  77],\n",
       "        [174, 130, 133],\n",
       "        [ 11, 151, 209],\n",
       "        [143,  62, 220],\n",
       "        [111,  93, 139],\n",
       "        [ 17,  48, 196],\n",
       "        [120, 200, 224],\n",
       "        [254, 218,  73],\n",
       "        [ 49, 233, 157],\n",
       "        [186, 157, 108],\n",
       "        [ 52, 242, 200],\n",
       "        [ 23, 221,  88],\n",
       "        [ 35, 249,  90],\n",
       "        [164,  11, 231],\n",
       "        [239, 134, 199],\n",
       "        [115,  64, 128],\n",
       "        [  1, 118, 139],\n",
       "        [118,  32,  96],\n",
       "        [134, 123, 183],\n",
       "        [115, 110,  22],\n",
       "        [ 85,   0,  94],\n",
       "        [ 89, 218, 255],\n",
       "        [196,  87, 100],\n",
       "        [ 46,  62, 154],\n",
       "        [148,  41, 233],\n",
       "        [ 73,  57, 213],\n",
       "        [158,  79, 153],\n",
       "        [181, 208, 198],\n",
       "        [  9,  31, 211],\n",
       "        [168,  30,  41],\n",
       "        [ 50, 169,  29],\n",
       "        [180, 229,  16],\n",
       "        [143, 207,  74],\n",
       "        [ 66, 105, 186],\n",
       "        [163, 103, 255],\n",
       "        [  8,  61, 202],\n",
       "        [132, 236,  50],\n",
       "        [ 86, 238, 136],\n",
       "        [173, 236,  51],\n",
       "        [120, 152, 192],\n",
       "        [159,  42, 111],\n",
       "        [  7, 106,  57],\n",
       "        [139, 251, 243],\n",
       "        [ 78, 243, 181],\n",
       "        [170, 125, 221],\n",
       "        [ 53, 137,  11],\n",
       "        [175,  43,  46],\n",
       "        [173,  43,  83],\n",
       "        [ 19,  61, 203],\n",
       "        [ 44,  87, 161],\n",
       "        [178, 244, 193],\n",
       "        [172,  98, 200],\n",
       "        [ 58,  91, 105],\n",
       "        [ 60,  74, 200],\n",
       "        [235, 252,  15],\n",
       "        [ 17, 241, 187],\n",
       "        [248, 177,  68],\n",
       "        [170, 243, 227],\n",
       "        [220,  91,  54],\n",
       "        [ 84, 176,  31],\n",
       "        [132, 208,  84],\n",
       "        [223, 120, 126],\n",
       "        [210, 177, 150],\n",
       "        [167,  81, 209],\n",
       "        [ 44, 134, 187],\n",
       "        [ 36,  48, 128],\n",
       "        [250,  50, 109],\n",
       "        [ 76,  98, 151],\n",
       "        [ 29, 168,  80],\n",
       "        [ 65, 142, 118],\n",
       "        [146, 143,  62],\n",
       "        [100, 206, 210],\n",
       "        [ 26, 252,  25],\n",
       "        [175, 121,  83],\n",
       "        [198,  96,  74],\n",
       "        [128, 142, 230],\n",
       "        [180, 133, 125],\n",
       "        [ 19, 232, 101],\n",
       "        [246, 101,  52],\n",
       "        [102, 189,   0],\n",
       "        [ 88, 186, 186],\n",
       "        [101, 105, 212],\n",
       "        [ 51,  66,   3],\n",
       "        [221, 159, 216],\n",
       "        [  3,  91, 246],\n",
       "        [ 11, 179,   6],\n",
       "        [  0, 177, 119],\n",
       "        [212, 236, 144],\n",
       "        [ 62,  74, 126],\n",
       "        [ 80, 250,  31],\n",
       "        [ 78, 112,   0],\n",
       "        [202,  53,  31],\n",
       "        [241, 120, 105],\n",
       "        [203,   5, 117],\n",
       "        [207, 161,  52],\n",
       "        [118, 129,  16],\n",
       "        [198,   1, 240],\n",
       "        [153,  95, 231],\n",
       "        [142, 145,  89],\n",
       "        [107, 147, 164],\n",
       "        [ 40,  71, 225],\n",
       "        [ 25, 167,  84],\n",
       "        [ 76,  48, 231],\n",
       "        [129, 187, 182],\n",
       "        [169, 154,   7],\n",
       "        [ 78, 253, 241],\n",
       "        [232,  89,  26],\n",
       "        [ 83, 206, 149],\n",
       "        [ 22,  40,  70],\n",
       "        [ 69,  51, 251],\n",
       "        [198,   4, 115],\n",
       "        [163, 106,  94],\n",
       "        [150, 150,  98],\n",
       "        [155, 130, 252],\n",
       "        [249,  61, 143],\n",
       "        [ 33, 168,  59],\n",
       "        [ 45, 118, 124],\n",
       "        [203,  94, 133],\n",
       "        [145, 123, 138],\n",
       "        [184, 228, 120],\n",
       "        [164,  91, 200],\n",
       "        [216,  41, 143],\n",
       "        [217,   9, 215],\n",
       "        [  3,   9,  31],\n",
       "        [118, 227,  82],\n",
       "        [161, 175,  24],\n",
       "        [ 81, 167, 243],\n",
       "        [250, 119, 156],\n",
       "        [195, 200,  95],\n",
       "        [127, 178,  72],\n",
       "        [ 82,  18,  80],\n",
       "        [109, 160, 199],\n",
       "        [ 37, 118, 125],\n",
       "        [248, 172,  50],\n",
       "        [196,  99, 232],\n",
       "        [231,   0,  30],\n",
       "        [197, 159,  71],\n",
       "        [117, 138, 243],\n",
       "        [192, 249, 233],\n",
       "        [163, 112, 245],\n",
       "        [ 82, 176, 122],\n",
       "        [198,  76,  69],\n",
       "        [ 94,  71,  72],\n",
       "        [202, 227, 188],\n",
       "        [ 59,  33,  82],\n",
       "        [214, 122, 243],\n",
       "        [212,  97,   4],\n",
       "        [121, 200, 181],\n",
       "        [218, 181, 194],\n",
       "        [ 24,   0, 100],\n",
       "        [165,  49,  67],\n",
       "        [ 51, 136,  84],\n",
       "        [179, 103, 187],\n",
       "        [224, 120, 206],\n",
       "        [188,  77,  75],\n",
       "        [ 96,  78,  62],\n",
       "        [ 13, 163, 220],\n",
       "        [246, 203,  74],\n",
       "        [217, 103, 248],\n",
       "        [212, 190, 182],\n",
       "        [137, 141,  82],\n",
       "        [159,  77,  26],\n",
       "        [ 49,  46,  98],\n",
       "        [110, 176, 120],\n",
       "        [ 32,  36,  43],\n",
       "        [154, 164, 200],\n",
       "        [ 83,  92, 181],\n",
       "        [ 29,  70, 223],\n",
       "        [101, 179,  69],\n",
       "        [ 20,  65,  86],\n",
       "        [ 63, 197, 194],\n",
       "        [198, 222, 222],\n",
       "        [111,  58,  97],\n",
       "        [ 50, 175,  73],\n",
       "        [  6, 120, 153],\n",
       "        [166, 143,  44],\n",
       "        [215,  53,  48],\n",
       "        [150,  67, 105],\n",
       "        [107, 149,  13],\n",
       "        [129,   1,  81],\n",
       "        [137, 192,  47],\n",
       "        [125,  20,  34],\n",
       "        [128, 211,   8],\n",
       "        [  3, 191, 128],\n",
       "        [222,  43, 221],\n",
       "        [165, 117,   9],\n",
       "        [ 36, 190, 214],\n",
       "        [ 62,  59, 132],\n",
       "        [185, 164, 105],\n",
       "        [255, 235,  10],\n",
       "        [ 62,   5, 152],\n",
       "        [152,  48, 125],\n",
       "        [244,  57,  53],\n",
       "        [ 32,  75,  60],\n",
       "        [248, 250,  47],\n",
       "        [160, 102, 125],\n",
       "        [121, 157, 147],\n",
       "        [254,  98, 162],\n",
       "        [ 30, 249, 202],\n",
       "        [ 99,   7, 188],\n",
       "        [110, 136, 173],\n",
       "        [201, 142, 170],\n",
       "        [ 41,  58,  66],\n",
       "        [188,  38, 205],\n",
       "        [ 28, 130,  58],\n",
       "        [177, 174, 208],\n",
       "        [183, 116,  64],\n",
       "        [ 82,   6, 147],\n",
       "        [246,  95, 128],\n",
       "        [243, 244,  97],\n",
       "        [217, 102,  15],\n",
       "        [206,  97, 166],\n",
       "        [ 74,  99, 251],\n",
       "        [179,  48, 225],\n",
       "        [100, 219, 255],\n",
       "        [228, 144,  95],\n",
       "        [ 62, 150, 114],\n",
       "        [228, 248, 156],\n",
       "        [191, 156, 229],\n",
       "        [167, 141,  89],\n",
       "        [110, 173, 140],\n",
       "        [  7,  90,  74],\n",
       "        [ 67, 252, 221],\n",
       "        [ 33,  77,   8],\n",
       "        [108,  99, 246],\n",
       "        [126, 109,  72],\n",
       "        [165,  23, 151],\n",
       "        [ 32, 202, 170],\n",
       "        [  8,   7, 175],\n",
       "        [208, 122,  54],\n",
       "        [244, 168, 194],\n",
       "        [ 65, 196,  50],\n",
       "        [ 75, 193, 230],\n",
       "        [109, 115,  80],\n",
       "        [133, 222,  48],\n",
       "        [148, 232, 172],\n",
       "        [109,  23,   9],\n",
       "        [185, 191, 161],\n",
       "        [138,  50, 121],\n",
       "        [ 49,  84, 207],\n",
       "        [ 34, 245, 104],\n",
       "        [ 38, 156,  79],\n",
       "        [ 31, 253,  32],\n",
       "        [ 24,  57, 158],\n",
       "        [240, 130, 128],\n",
       "        [181, 178,  32],\n",
       "        [125,  20, 139],\n",
       "        [ 92,  40, 227],\n",
       "        [ 27, 104, 244],\n",
       "        [ 41, 252, 190],\n",
       "        [188,  35,   4],\n",
       "        [ 57, 158, 169],\n",
       "        [122, 123,  36],\n",
       "        [147,  22, 136]]], dtype=uint8)"
      ]
     },
     "execution_count": 56,
     "metadata": {},
     "output_type": "execute_result"
    }
   ],
   "source": [
    "image1 = image[:1,:]\n",
    "image1"
   ]
  },
  {
   "cell_type": "markdown",
   "metadata": {
    "id": "HLCFWfIWnfHl"
   },
   "source": [
    "Using the knowledge from previous exercises, remove the unnecessary first dimension of the _image1_ array."
   ]
  },
  {
   "cell_type": "code",
   "execution_count": 59,
   "metadata": {
    "id": "E4h33cu8nhru"
   },
   "outputs": [
    {
     "data": {
      "text/plain": [
       "array([[215,  42, 224],\n",
       "       [219,  43, 166],\n",
       "       [ 69,  15, 133],\n",
       "       [255, 105,  95],\n",
       "       [ 54,  37, 201],\n",
       "       [107, 124, 235],\n",
       "       [ 28, 142, 190],\n",
       "       [ 79, 148,  84],\n",
       "       [ 88, 232, 165],\n",
       "       [244, 147, 221],\n",
       "       [  5, 193, 252],\n",
       "       [ 96, 150, 188],\n",
       "       [ 71,  76,  83],\n",
       "       [187, 254, 209],\n",
       "       [242, 208,  89],\n",
       "       [154, 133,  90],\n",
       "       [  3, 207, 224],\n",
       "       [ 25, 229, 179],\n",
       "       [185, 116, 234],\n",
       "       [100, 177, 237],\n",
       "       [  9, 160,   6],\n",
       "       [ 73,   4, 148],\n",
       "       [238, 155, 139],\n",
       "       [ 94,  23, 196],\n",
       "       [209, 185, 183],\n",
       "       [152,   3,  37],\n",
       "       [186, 211,  65],\n",
       "       [ 42, 127,  23],\n",
       "       [162,  69, 238],\n",
       "       [  9,  35,  32],\n",
       "       [ 94,  88,  24],\n",
       "       [115,  52,  80],\n",
       "       [ 42,  38, 170],\n",
       "       [169,  82, 126],\n",
       "       [ 99, 227, 138],\n",
       "       [ 34,  20, 113],\n",
       "       [212,   7,  37],\n",
       "       [217, 178,  77],\n",
       "       [ 46, 141, 100],\n",
       "       [218, 164, 181],\n",
       "       [100, 128,  38],\n",
       "       [180, 185,  96],\n",
       "       [186, 195, 197],\n",
       "       [255, 226, 150],\n",
       "       [249,  16,  76],\n",
       "       [ 37, 166, 100],\n",
       "       [200,  12,  77],\n",
       "       [174, 130, 133],\n",
       "       [ 11, 151, 209],\n",
       "       [143,  62, 220],\n",
       "       [111,  93, 139],\n",
       "       [ 17,  48, 196],\n",
       "       [120, 200, 224],\n",
       "       [254, 218,  73],\n",
       "       [ 49, 233, 157],\n",
       "       [186, 157, 108],\n",
       "       [ 52, 242, 200],\n",
       "       [ 23, 221,  88],\n",
       "       [ 35, 249,  90],\n",
       "       [164,  11, 231],\n",
       "       [239, 134, 199],\n",
       "       [115,  64, 128],\n",
       "       [  1, 118, 139],\n",
       "       [118,  32,  96],\n",
       "       [134, 123, 183],\n",
       "       [115, 110,  22],\n",
       "       [ 85,   0,  94],\n",
       "       [ 89, 218, 255],\n",
       "       [196,  87, 100],\n",
       "       [ 46,  62, 154],\n",
       "       [148,  41, 233],\n",
       "       [ 73,  57, 213],\n",
       "       [158,  79, 153],\n",
       "       [181, 208, 198],\n",
       "       [  9,  31, 211],\n",
       "       [168,  30,  41],\n",
       "       [ 50, 169,  29],\n",
       "       [180, 229,  16],\n",
       "       [143, 207,  74],\n",
       "       [ 66, 105, 186],\n",
       "       [163, 103, 255],\n",
       "       [  8,  61, 202],\n",
       "       [132, 236,  50],\n",
       "       [ 86, 238, 136],\n",
       "       [173, 236,  51],\n",
       "       [120, 152, 192],\n",
       "       [159,  42, 111],\n",
       "       [  7, 106,  57],\n",
       "       [139, 251, 243],\n",
       "       [ 78, 243, 181],\n",
       "       [170, 125, 221],\n",
       "       [ 53, 137,  11],\n",
       "       [175,  43,  46],\n",
       "       [173,  43,  83],\n",
       "       [ 19,  61, 203],\n",
       "       [ 44,  87, 161],\n",
       "       [178, 244, 193],\n",
       "       [172,  98, 200],\n",
       "       [ 58,  91, 105],\n",
       "       [ 60,  74, 200],\n",
       "       [235, 252,  15],\n",
       "       [ 17, 241, 187],\n",
       "       [248, 177,  68],\n",
       "       [170, 243, 227],\n",
       "       [220,  91,  54],\n",
       "       [ 84, 176,  31],\n",
       "       [132, 208,  84],\n",
       "       [223, 120, 126],\n",
       "       [210, 177, 150],\n",
       "       [167,  81, 209],\n",
       "       [ 44, 134, 187],\n",
       "       [ 36,  48, 128],\n",
       "       [250,  50, 109],\n",
       "       [ 76,  98, 151],\n",
       "       [ 29, 168,  80],\n",
       "       [ 65, 142, 118],\n",
       "       [146, 143,  62],\n",
       "       [100, 206, 210],\n",
       "       [ 26, 252,  25],\n",
       "       [175, 121,  83],\n",
       "       [198,  96,  74],\n",
       "       [128, 142, 230],\n",
       "       [180, 133, 125],\n",
       "       [ 19, 232, 101],\n",
       "       [246, 101,  52],\n",
       "       [102, 189,   0],\n",
       "       [ 88, 186, 186],\n",
       "       [101, 105, 212],\n",
       "       [ 51,  66,   3],\n",
       "       [221, 159, 216],\n",
       "       [  3,  91, 246],\n",
       "       [ 11, 179,   6],\n",
       "       [  0, 177, 119],\n",
       "       [212, 236, 144],\n",
       "       [ 62,  74, 126],\n",
       "       [ 80, 250,  31],\n",
       "       [ 78, 112,   0],\n",
       "       [202,  53,  31],\n",
       "       [241, 120, 105],\n",
       "       [203,   5, 117],\n",
       "       [207, 161,  52],\n",
       "       [118, 129,  16],\n",
       "       [198,   1, 240],\n",
       "       [153,  95, 231],\n",
       "       [142, 145,  89],\n",
       "       [107, 147, 164],\n",
       "       [ 40,  71, 225],\n",
       "       [ 25, 167,  84],\n",
       "       [ 76,  48, 231],\n",
       "       [129, 187, 182],\n",
       "       [169, 154,   7],\n",
       "       [ 78, 253, 241],\n",
       "       [232,  89,  26],\n",
       "       [ 83, 206, 149],\n",
       "       [ 22,  40,  70],\n",
       "       [ 69,  51, 251],\n",
       "       [198,   4, 115],\n",
       "       [163, 106,  94],\n",
       "       [150, 150,  98],\n",
       "       [155, 130, 252],\n",
       "       [249,  61, 143],\n",
       "       [ 33, 168,  59],\n",
       "       [ 45, 118, 124],\n",
       "       [203,  94, 133],\n",
       "       [145, 123, 138],\n",
       "       [184, 228, 120],\n",
       "       [164,  91, 200],\n",
       "       [216,  41, 143],\n",
       "       [217,   9, 215],\n",
       "       [  3,   9,  31],\n",
       "       [118, 227,  82],\n",
       "       [161, 175,  24],\n",
       "       [ 81, 167, 243],\n",
       "       [250, 119, 156],\n",
       "       [195, 200,  95],\n",
       "       [127, 178,  72],\n",
       "       [ 82,  18,  80],\n",
       "       [109, 160, 199],\n",
       "       [ 37, 118, 125],\n",
       "       [248, 172,  50],\n",
       "       [196,  99, 232],\n",
       "       [231,   0,  30],\n",
       "       [197, 159,  71],\n",
       "       [117, 138, 243],\n",
       "       [192, 249, 233],\n",
       "       [163, 112, 245],\n",
       "       [ 82, 176, 122],\n",
       "       [198,  76,  69],\n",
       "       [ 94,  71,  72],\n",
       "       [202, 227, 188],\n",
       "       [ 59,  33,  82],\n",
       "       [214, 122, 243],\n",
       "       [212,  97,   4],\n",
       "       [121, 200, 181],\n",
       "       [218, 181, 194],\n",
       "       [ 24,   0, 100],\n",
       "       [165,  49,  67],\n",
       "       [ 51, 136,  84],\n",
       "       [179, 103, 187],\n",
       "       [224, 120, 206],\n",
       "       [188,  77,  75],\n",
       "       [ 96,  78,  62],\n",
       "       [ 13, 163, 220],\n",
       "       [246, 203,  74],\n",
       "       [217, 103, 248],\n",
       "       [212, 190, 182],\n",
       "       [137, 141,  82],\n",
       "       [159,  77,  26],\n",
       "       [ 49,  46,  98],\n",
       "       [110, 176, 120],\n",
       "       [ 32,  36,  43],\n",
       "       [154, 164, 200],\n",
       "       [ 83,  92, 181],\n",
       "       [ 29,  70, 223],\n",
       "       [101, 179,  69],\n",
       "       [ 20,  65,  86],\n",
       "       [ 63, 197, 194],\n",
       "       [198, 222, 222],\n",
       "       [111,  58,  97],\n",
       "       [ 50, 175,  73],\n",
       "       [  6, 120, 153],\n",
       "       [166, 143,  44],\n",
       "       [215,  53,  48],\n",
       "       [150,  67, 105],\n",
       "       [107, 149,  13],\n",
       "       [129,   1,  81],\n",
       "       [137, 192,  47],\n",
       "       [125,  20,  34],\n",
       "       [128, 211,   8],\n",
       "       [  3, 191, 128],\n",
       "       [222,  43, 221],\n",
       "       [165, 117,   9],\n",
       "       [ 36, 190, 214],\n",
       "       [ 62,  59, 132],\n",
       "       [185, 164, 105],\n",
       "       [255, 235,  10],\n",
       "       [ 62,   5, 152],\n",
       "       [152,  48, 125],\n",
       "       [244,  57,  53],\n",
       "       [ 32,  75,  60],\n",
       "       [248, 250,  47],\n",
       "       [160, 102, 125],\n",
       "       [121, 157, 147],\n",
       "       [254,  98, 162],\n",
       "       [ 30, 249, 202],\n",
       "       [ 99,   7, 188],\n",
       "       [110, 136, 173],\n",
       "       [201, 142, 170],\n",
       "       [ 41,  58,  66],\n",
       "       [188,  38, 205],\n",
       "       [ 28, 130,  58],\n",
       "       [177, 174, 208],\n",
       "       [183, 116,  64],\n",
       "       [ 82,   6, 147],\n",
       "       [246,  95, 128],\n",
       "       [243, 244,  97],\n",
       "       [217, 102,  15],\n",
       "       [206,  97, 166],\n",
       "       [ 74,  99, 251],\n",
       "       [179,  48, 225],\n",
       "       [100, 219, 255],\n",
       "       [228, 144,  95],\n",
       "       [ 62, 150, 114],\n",
       "       [228, 248, 156],\n",
       "       [191, 156, 229],\n",
       "       [167, 141,  89],\n",
       "       [110, 173, 140],\n",
       "       [  7,  90,  74],\n",
       "       [ 67, 252, 221],\n",
       "       [ 33,  77,   8],\n",
       "       [108,  99, 246],\n",
       "       [126, 109,  72],\n",
       "       [165,  23, 151],\n",
       "       [ 32, 202, 170],\n",
       "       [  8,   7, 175],\n",
       "       [208, 122,  54],\n",
       "       [244, 168, 194],\n",
       "       [ 65, 196,  50],\n",
       "       [ 75, 193, 230],\n",
       "       [109, 115,  80],\n",
       "       [133, 222,  48],\n",
       "       [148, 232, 172],\n",
       "       [109,  23,   9],\n",
       "       [185, 191, 161],\n",
       "       [138,  50, 121],\n",
       "       [ 49,  84, 207],\n",
       "       [ 34, 245, 104],\n",
       "       [ 38, 156,  79],\n",
       "       [ 31, 253,  32],\n",
       "       [ 24,  57, 158],\n",
       "       [240, 130, 128],\n",
       "       [181, 178,  32],\n",
       "       [125,  20, 139],\n",
       "       [ 92,  40, 227],\n",
       "       [ 27, 104, 244],\n",
       "       [ 41, 252, 190],\n",
       "       [188,  35,   4],\n",
       "       [ 57, 158, 169],\n",
       "       [122, 123,  36],\n",
       "       [147,  22, 136]], dtype=uint8)"
      ]
     },
     "execution_count": 59,
     "metadata": {},
     "output_type": "execute_result"
    }
   ],
   "source": [
    "image1.shape\n",
    "image1.reshape(300,3)"
   ]
  },
  {
   "cell_type": "markdown",
   "metadata": {
    "id": "aHRw1S7Qnyy0"
   },
   "source": [
    "### <a name='1'></a> Exercise 51\n",
    "Two arrays $ A $ and $ B $ are given below:\n",
    "\n",
    "```\n",
    "A = np.array([[3, 4, 5],\n",
    "              [8, 3, 1]])\n",
    "B = np.array([[0, 5, 2],\n",
    "              [4, 2, 1]])\n",
    "```\n",
    "* Concatenate these arrays as follows:\n",
    "\n",
    "```\n",
    "array([[3, 4, 5],\n",
    "       [8, 3, 1],\n",
    "       [0, 5, 2],\n",
    "       [4, 2, 1]])\n",
    "```\n",
    "\n",
    "__Tip:__ Use the _np.concatenate()_ function."
   ]
  },
  {
   "cell_type": "code",
   "execution_count": null,
   "metadata": {
    "id": "lHP2XXKVnzdG"
   },
   "outputs": [],
   "source": [
    "import numpy as np\n",
    "A = np.array([[3, 4, 5],\n",
    "              [8, 3, 1]])\n",
    "B = np.array([[0, 5, 2],\n",
    "              [4, 2, 1]])\n",
    "np.concatenate((A,B))\n"
   ]
  },
  {
   "cell_type": "markdown",
   "metadata": {
    "id": "S3i_GdIHn4OE"
   },
   "source": [
    "* Concatenate these arrays as follows:\n",
    "\n",
    "```\n",
    "array([[3, 4, 5, 0, 5, 2],\n",
    "       [8, 3, 1, 4, 2, 1]])\n",
    "```\n",
    "__Tip:__ Use the _np.concatenate()_ function."
   ]
  },
  {
   "cell_type": "code",
   "execution_count": null,
   "metadata": {
    "id": "X1tgQWGun6aW"
   },
   "outputs": [],
   "source": [
    "np.concatenate((A,B),axis=1)"
   ]
  },
  {
   "cell_type": "markdown",
   "metadata": {
    "id": "2guroH6gn8os"
   },
   "source": [
    "### <a name='2'></a> Exercise 52\n",
    "The first array is given containing the data (_data_) and the second array containing the target class (_target_) for the given row:\n",
    "\n",
    "```\n",
    "data = np.array([[4.3, 4.2],\n",
    "                 [3.1, 3.6]])\n",
    "target = np.array([[0],\n",
    "                   [1]])\n",
    "```"
   ]
  },
  {
   "cell_type": "markdown",
   "metadata": {
    "id": "BRvT5NEqn_r8"
   },
   "source": [
    "Concatenate these arrays into one as shown below:\n",
    "\n",
    "```\n",
    "array([[4.3, 4.2, 0. ],\n",
    "       [3.1, 3.6, 1. ]])\n",
    "```"
   ]
  },
  {
   "cell_type": "code",
   "execution_count": null,
   "metadata": {
    "id": "hu6KVvFJoAod"
   },
   "outputs": [],
   "source": [
    "import numpy as np\n",
    "data = np.array([[4.3, 4.2],\n",
    "                 [3.1, 3.6]])\n",
    "target = np.array([[0],\n",
    "                   [1]])\n",
    "np.concatenate((data,target),axis=1)"
   ]
  },
  {
   "cell_type": "markdown",
   "metadata": {
    "id": "JgczK-kOoEBF"
   },
   "source": [
    "### <a name='3'></a> Exercise 53\n",
    "The following three one-dimensional arrays are given:\n",
    "```\n",
    "feature1 = np.array([1.6, 0.9, 2.2])\n",
    "feature2 = np.array([0.4, 1.3, 3.2])\n",
    "feature3 = np.array([1.4, 0.3, 1.2])\n",
    "```\n",
    "Transform each of these arrays into a column and concatenate them into one large array.\n",
    "\n",
    "__Expected result:__\n",
    "```\n",
    "array([[1.6, 0.4, 1.4],\n",
    "       [0.9, 1.3, 0.3],\n",
    "       [2.2, 3.2, 1.2]])\n",
    "```\n",
    "__Tip:__ Use the function _np.column_stack()_.\n"
   ]
  },
  {
   "cell_type": "code",
   "execution_count": null,
   "metadata": {
    "id": "OOlaCGGGoGe0"
   },
   "outputs": [],
   "source": [
    "import numpy as np\n",
    "feature1 = np.array([1.6, 0.9, 2.2])\n",
    "feature2 = np.array([0.4, 1.3, 3.2])\n",
    "feature3 = np.array([1.4, 0.3, 1.2])\n",
    "np.column_stack((feature1,feature2,feature3))"
   ]
  },
  {
   "cell_type": "markdown",
   "metadata": {
    "id": "C3G2XiVaoI-M"
   },
   "source": [
    "### <a name='4'></a> Exercise 54\n",
    "The following two-dimensional array is given:\n",
    "```\n",
    "A = np.random.randint(low=0, high=7, size=(5, 8))\n",
    "A[:, :2] = 0\n",
    "A[:, -2:] = 1\n",
    "A\n",
    "```\n",
    "```\n",
    "array([[0, 0, 4, 6, 2, 4, 1, 1],\n",
    "       [0, 0, 6, 2, 2, 4, 1, 1],\n",
    "       [0, 0, 1, 3, 5, 5, 1, 1],\n",
    "       [0, 0, 3, 1, 5, 4, 1, 1],\n",
    "       [0, 0, 2, 6, 1, 3, 1, 1]])\n",
    "```\n",
    "Split an array into three parts so that the first two columns formed the first array $ A1 $, four consecutive second array $ A2 $ and the last two third array $ A3 $.\n",
    "\n",
    "__Tip:__ Use the function _np.split()_."
   ]
  },
  {
   "cell_type": "code",
   "execution_count": null,
   "metadata": {
    "id": "sIO7agWkoLXk"
   },
   "outputs": [],
   "source": [
    "import numpy as np\n",
    "A=np.array([[0, 0, 4, 6, 2, 4, 1, 1],\n",
    "       [0, 0, 6, 2, 2, 4, 1, 1],\n",
    "       [0, 0, 1, 3, 5, 5, 1, 1],\n",
    "       [0, 0, 3, 1, 5, 4, 1, 1],\n",
    "       [0, 0, 2, 6, 1, 3, 1, 1]])\n",
    "B=np.split(A,4,axis=1)\n",
    "A1=B[0]\n",
    "A2=np.concatenate((B[1],B[2]),axis=1)\n",
    "A3=B[3]\n",
    "print(A1)\n",
    "print(A2)\n",
    "print(A3)"
   ]
  },
  {
   "cell_type": "markdown",
   "metadata": {
    "id": "vSPaRxz1oNqk"
   },
   "source": [
    "### <a name='5'></a> Exercise 55\n",
    "The following numpy array $ A $ is given:\n",
    "\n",
    "```\n",
    "A = np.random.randint(low=0, high=2, size=(10, 6))\n",
    "```\n",
    "\n",
    "Calculate the total number of non-zero elements for this array.\n",
    "\n",
    "__Tip:__ Use the function _np.count_nonzero()_.\n"
   ]
  },
  {
   "cell_type": "code",
   "execution_count": null,
   "metadata": {
    "id": "k2G--9xYoOeX"
   },
   "outputs": [],
   "source": [
    "import numpy as np\n",
    "A = np.random.randint(low=0, high=2, size=(10, 6))\n",
    "print(A)\n",
    "np.count_nonzero(A)"
   ]
  },
  {
   "cell_type": "markdown",
   "metadata": {
    "id": "SmvPMrYeoRbM"
   },
   "source": [
    "Calculate the total number of non-zero elements for each row in this array.\n",
    "\n",
    "__Tip:__ Use the function _np.count_nonzero()_."
   ]
  },
  {
   "cell_type": "code",
   "execution_count": null,
   "metadata": {
    "id": "AGRmPBksoR-E"
   },
   "outputs": [],
   "source": [
    "np.count_nonzero(A,axis=0)"
   ]
  },
  {
   "cell_type": "markdown",
   "metadata": {
    "id": "moRv0TcxoVRE"
   },
   "source": [
    "### <a name='6'></a> Exercise 56\n",
    "An example numpy array $ A $ is given below:\n",
    "\n",
    "```\n",
    "A = np.random.randn(10, 4)\n",
    "```\n",
    "\n",
    "```\n",
    "array([[-0.53441645, -1.49505387, -0.78925833,  0.74371128],\n",
    "       [-0.21216142, -0.42686879,  0.50144833,  1.15818665],\n",
    "       [ 0.25711687,  0.3145129 ,  1.37186213,  0.17555329],\n",
    "       [-0.30928855,  0.6731255 , -0.25663018, -0.36782572],\n",
    "       [ 1.27373362, -0.29195267, -2.65517605,  0.34551794],\n",
    "       [-0.39551645, -0.28913686,  0.45293633, -0.16606091],\n",
    "       [ 0.21493883, -2.02231493, -0.94305681,  1.40395874],\n",
    "       [-0.0185508 , -1.67350462, -1.07253183, -0.99258618],\n",
    "       [ 0.10234768, -0.43260928, -0.6591823 ,  0.0039373 ],\n",
    "       [ 0.4777541 , -0.25902864, -0.57470921, -0.42149822]])\n",
    "```\n",
    "\n",
    "Set the numpy library option to print arrays with specified precision. Set its value to 4 and print the $ A $ array."
   ]
  },
  {
   "cell_type": "code",
   "execution_count": null,
   "metadata": {
    "id": "sWSp_u2VoXFM"
   },
   "outputs": [],
   "source": [
    "import numpy as np\n",
    "A = np.random.randn(10, 4)\n",
    "np.set_printoptions(precision=4)\n",
    "A"
   ]
  },
  {
   "cell_type": "markdown",
   "metadata": {
    "id": "a7u7TuXEoaV7"
   },
   "source": [
    "### <a name='7'></a> Exercise 57\n",
    "\n",
    "The following numpy array $ A $ is given:\n",
    "\n",
    "```\n",
    "A = np.array([1.2e-6, 1.7e-7])\n",
    "```\n",
    "Set the precision value to 8. Then set the appropriate numpy library option to suppress mathematical notation. Print the array $ A $.\n",
    "\n",
    "__Expected result:__\n",
    "```\n",
    "array([0.0000012 , 0.00000017])\n",
    "```\n"
   ]
  },
  {
   "cell_type": "code",
   "execution_count": null,
   "metadata": {
    "id": "57JZJCOEodDU"
   },
   "outputs": [],
   "source": [
    "import numpy as np\n",
    "A = np.array([1.2e-6, 1.7e-7])\n",
    "np.set_printoptions(suppress=True,precision=8)\n",
    "A"
   ]
  },
  {
   "cell_type": "markdown",
   "metadata": {
    "id": "vj7caAz0ofTT"
   },
   "source": [
    "### <a name='8'></a> Exercise 58\n",
    "The following numpy array $ A $ is given:\n",
    "```\n",
    "A = np.random.randn(8, 4)\n",
    "```\n",
    "Remove the third column from the $ A $ array.\n",
    "\n",
    "__Expected result:__\n",
    "```\n",
    "array([[-0.55692881, -0.66003196,  0.70856031],\n",
    "       [ 0.22378737, -0.19796576, -0.16889332],\n",
    "       [ 0.26062786,  0.29865445, -0.92259267],\n",
    "       [-2.40317659,  1.79961876, -1.96495796],\n",
    "       [ 0.13051561, -1.7085185 ,  0.54885043],\n",
    "       [ 1.77268727,  0.38751181, -0.05141955],\n",
    "       [-1.80858596, -0.45075211,  0.15332866],\n",
    "       [ 1.94218961, -1.93679529, -1.83350954]])\n",
    "```\n",
    "__Tip:__ Use the _np.delete()_ function.\n"
   ]
  },
  {
   "cell_type": "code",
   "execution_count": null,
   "metadata": {
    "id": "OAdX3gE7ohzL"
   },
   "outputs": [],
   "source": [
    "import numpy as np\n",
    "A = np.random.randn(8, 4)\n",
    "np.delete(A,3,1)"
   ]
  },
  {
   "cell_type": "markdown",
   "metadata": {
    "id": "gF8RURumojnM"
   },
   "source": [
    "### <a name='9'></a> Exercise 59\n",
    "\n",
    "A one-dimensional array $ v $ (vector) is given:\n",
    "\n",
    "```\n",
    "v = np.array([3, 4, -2])\n",
    "```\n",
    "Calculate the norm of the vetor $ v $.\n"
   ]
  },
  {
   "cell_type": "code",
   "execution_count": null,
   "metadata": {
    "id": "uKkJVDssol-c"
   },
   "outputs": [],
   "source": [
    "from numpy import array\n",
    "from numpy.linalg import norm\n",
    "arr = array([3, 4, -2])\n",
    "print(arr)\n",
    "norm_l1 = norm(arr, 1)\n",
    "print(norm_l1)"
   ]
  },
  {
   "cell_type": "markdown",
   "metadata": {
    "id": "L4KAaAlTon68"
   },
   "source": [
    "### <a name='10'></a> Exercise 60\n",
    "An example $ A $ array is given below:\n",
    "\n",
    "```\n",
    "A = np.random.randint(10, size=(100, 30))\n",
    "```\n",
    "Set the numpy library option to print 10 edge elements. Print the array $ A $.\n"
   ]
  },
  {
   "cell_type": "code",
   "execution_count": null,
   "metadata": {
    "id": "P1NZsx8vooon"
   },
   "outputs": [],
   "source": [
    "import numpy as np\n",
    "A = np.random.randint(10, size=(100, 30))\n",
    "np.set_printoptions(edgeitems=10)\n",
    "A"
   ]
  },
  {
   "cell_type": "markdown",
   "metadata": {
    "id": "-a_EfKxIo3oY"
   },
   "source": [
    "### <a name='1'></a> Exercise 61\n",
    "The following two arrays $ A $ and $ B $ are given:\n",
    "\n",
    "```\n",
    "A = np.array([[3, 4, 9, 2],\n",
    "              [5, 3, 2, 5]])\n",
    "B = np.array([[4, 3, 2, 5],\n",
    "              [6, 3, 1, 6]])\n",
    "```\n",
    "\n",
    "Determine an array consisting of arithmetic means $ A $ and $ B $ of the corresponding elements.\n",
    "\n",
    "__Expected result:__\n",
    "```\n",
    "array([[3.5, 3.5, 5.5, 3.5],\n",
    "       [5.5, 3. , 1.5, 5.5]])\n",
    "```"
   ]
  },
  {
   "cell_type": "code",
   "execution_count": null,
   "metadata": {
    "id": "jgs2ACQ4o6GU"
   },
   "outputs": [],
   "source": [
    "import numpy as np\n",
    "A = np.array([[3, 4, 9, 2],\n",
    "              [5, 3, 2, 5]])\n",
    "B = np.array([[4, 3, 2, 5],\n",
    "              [6, 3, 1, 6]])\n",
    "np.mean((A,B),axis=0)"
   ]
  },
  {
   "cell_type": "markdown",
   "metadata": {
    "id": "_6LsGZ5-o9I8"
   },
   "source": [
    "### <a name='2'></a> Exercise 62\n",
    "The following two arrays $ A $ and $ B $ are given:\n",
    "```\n",
    "A = np.array([[3, 4, 9, 2],\n",
    "              [5, 3, 2, 5]])\n",
    "B = np.array([[4, 3, 2, 5],\n",
    "              [6, 3, 1, 6]])\n",
    "```\n",
    "Multiply arrays element-by-element (element-wise)."
   ]
  },
  {
   "cell_type": "code",
   "execution_count": null,
   "metadata": {
    "id": "plbJPlMEo_Bk"
   },
   "outputs": [],
   "source": [
    "import numpy as np\n",
    "A = np.array([[3, 4, 9, 2],\n",
    "              [5, 3, 2, 5]])\n",
    "B = np.array([[4, 3, 2, 5],\n",
    "              [6, 3, 1, 6]])\n",
    "np.multiply(A,B)"
   ]
  },
  {
   "cell_type": "markdown",
   "metadata": {
    "id": "GbNiKkpSpCg1"
   },
   "source": [
    "### <a name='3'></a> Exercise 63\n",
    "The following numpy array $ A $ is given:\n",
    "```\n",
    "A = np.array([[3, 4, 9, 2],\n",
    "              [5, 3, 2, 5]])\n",
    "```\n",
    "Determine the root of each element of the array $ A $.\n",
    "\n",
    "__Tip:__ Use the _np.sqrt()_ function."
   ]
  },
  {
   "cell_type": "code",
   "execution_count": null,
   "metadata": {
    "id": "x8KwPfiNpDdb"
   },
   "outputs": [],
   "source": [
    "import numpy as np\n",
    "A = np.array([[3, 4, 9, 2],\n",
    "              [5, 3, 2, 5]])\n",
    "np.sqrt(A)"
   ]
  },
  {
   "cell_type": "markdown",
   "metadata": {
    "id": "dasVx4mEpHt1"
   },
   "source": [
    "### <a name='4'></a> Exercise 64\n",
    "The following arrays $ A $ and $ B $ are given:\n",
    "```\n",
    "A = np.linspace(0, np.pi / 2, 20)\n",
    "B = np.full(shape=(20,), fill_value=1, dtype='float')\n",
    "```\n",
    "Check the Pythagorean formula for sines and cosines on the $ A $ array and then compare the result with the $ B $ array. Use the _np.allclose()_ function.\n",
    "\n",
    "__Pythagorean formula for sines and cosines:__ For any angle value $\\alpha \\in R $:\n",
    "$$sin^2\\alpha + cos^2\\alpha = 1$$"
   ]
  },
  {
   "cell_type": "code",
   "execution_count": null,
   "metadata": {
    "id": "3mH5fW6bpKPZ"
   },
   "outputs": [],
   "source": [
    "import numpy as np\n",
    "A = np.linspace(0, np.pi / 2, 20)\n",
    "B = np.full(shape=(20,), fill_value=1, dtype='float')\n",
    "comp=np.square(np.sin(A))+np.square(np.sin(B))\n",
    "np.allclose(comp,B)"
   ]
  },
  {
   "cell_type": "markdown",
   "metadata": {
    "id": "j5bTa7pwpg50"
   },
   "source": [
    "### Reminder\n",
    "### Matrix mulitplication:\n",
    "$${A} ={\\begin{bmatrix}a_{11}&a_{12}&\\cdots &a_{1n}\\\\a_{21}&a_{22}&\\cdots &a_{2n}\\\\\\vdots &\\vdots &\\ddots &\\vdots \\\\a_{m1}&a_{m2}&\\cdots &a_{mn}\\\\\\end{bmatrix}}$$\n",
    "A - $m\\ x\\ n$ matrix\n",
    "\n",
    "$$ {B} ={\\begin{bmatrix}b_{11}&b_{12}&\\cdots &b_{1p}\\\\b_{21}&b_{22}&\\cdots &b_{2p}\\\\\\vdots &\\vdots &\\ddots &\\vdots \\\\b_{n1}&b_{n2}&\\cdots &b_{np}\\\\\\end{bmatrix}}$$\n",
    "B - $n\\ x\\ p$ matrix\n",
    "\n",
    "$$C = AB$$\n",
    "C - $ m \\ x \\ p $ matrix  \n",
    "To be able to multiply two matrices, the number of columns in the left matrix must match the number of rows in the right matrix.\n",
    "\n",
    "Matrix multiplication is not alternating! $$AB \\neq BA$$\n",
    "\n",
    "### Example 1\n",
    "$ X = \\begin{bmatrix}5&3\\\\3&9\\end{bmatrix}$, $ Y= \\begin{bmatrix}1\\\\-1\\end{bmatrix} $   \n",
    "$ X - $ 2x2 matrix  \n",
    "$ Y - $ 2x1 matrix  \n",
    "$$Z = X \\cdot Y = \\begin{bmatrix}5&3\\\\3&9\\end{bmatrix} \\cdot \\begin{bmatrix}1\\\\-1\\end{bmatrix} = \\begin{bmatrix}2\\\\-6\\end{bmatrix}$$\n",
    "$ Z - $ 2x1 matrix  \n",
    "\n",
    "### Example 2\n",
    "$X = \\begin{bmatrix}2&-1&3\\\\3&1&0\\end{bmatrix}$, $Y = \\begin{bmatrix}2&1&-1\\\\0&-1&2\\\\3&2&0\\end{bmatrix}$    \n",
    "  \n",
    "$X  -$ 2x3 matrix     \n",
    "$Y - $ 3x3 matrix  \n",
    "$$Z = X \\cdot Y =  \\begin{bmatrix}2&-1&3\\\\3&1&0\\end{bmatrix} \\cdot \\begin{bmatrix}2&1&-1\\\\0&-1&2\\\\3&2&0\\end{bmatrix} = \\begin{bmatrix}13&9&-4\\\\6&2&-1\\end{bmatrix}$$\n",
    "$Z - $ 2x3 matrix  "
   ]
  },
  {
   "cell_type": "markdown",
   "metadata": {
    "id": "QW_hlvXjpiAB"
   },
   "source": [
    "### <a name='5'></a> Exercise 65\n",
    "Two two-dimensional arrays are provided, numpy $ A $ and $ B $.  \n",
    "$ A $ - dimension matrix $ (3, 2) $  \n",
    "$ B $ - dimension matrix $ (2, 3) $  \n",
    "```\n",
    "A = np.array([[2, 3],\n",
    "              [-4, 2],\n",
    "              [5, 0]])\n",
    "B = np.array([[4, 3, 2],\n",
    "              [-1, 0, 2]])\n",
    "```\n",
    "Perform matrix multiplication of $ A $ and $ B $ arrays.\n",
    "\n",
    "__Tip:__ Use the _np.dot()_ function."
   ]
  },
  {
   "cell_type": "code",
   "execution_count": null,
   "metadata": {
    "id": "660KEDD0psb5"
   },
   "outputs": [],
   "source": [
    "import numpy as np\n",
    "A = np.array([[2, 3],\n",
    "              [-4, 2],\n",
    "              [5, 0]])\n",
    "B = np.array([[4, 3, 2],\n",
    "              [-1, 0, 2]])\n",
    "np.dot(A,B)"
   ]
  },
  {
   "cell_type": "markdown",
   "metadata": {
    "id": "ul4QHp11pxQz"
   },
   "source": [
    "### Reminder\n",
    "\n",
    "### Determinant of the matrix:\n",
    "\n",
    "$${\\displaystyle A={\\begin{bmatrix}a_{11}&a_{12}&\\dots &a_{1n}\\\\a_{21}&a_{22}&\\dots &a_{2n}\\\\\\vdots &\\vdots &\\ddots &\\vdots \\\\a_{n1}&a_{n2}&\\dots &a_{nn}\\end{bmatrix}}}$$\n",
    "$A$ - _nxn_ matrix\n",
    "\n",
    "#### Signs:\n",
    "\n",
    "${\\displaystyle |A|=\\left|{\\begin{array}{c}a_{11}&a_{12}&\\dots &a_{1n}\\\\a_{21}&a_{22}&\\dots &a_{2n}\\\\\\vdots &\\vdots &\\ddots &\\vdots \\\\a_{n1}&a_{n2}&\\dots &a_{nn}\\end{array}}\\right|} $  lub  $ {\\displaystyle \\det A=\\det {\\begin{bmatrix}a_{11}&a_{12}&\\dots &a_{1n}\\\\a_{21}&a_{22}&\\dots &a_{2n}\\\\\\vdots &\\vdots &\\ddots &\\vdots \\\\a_{n1}&a_{n2}&\\dots &a_{nn}\\end{bmatrix}}}$\n",
    "\n",
    "#### Example:\n",
    "${\\displaystyle \\det A={\\begin{vmatrix}a_{11}&a_{12}\\\\a_{21}&a_{22}\\end{vmatrix}}=a_{11}a_{22}-a_{12}a_{21}}$\n",
    "\n",
    "${\\displaystyle \\det A={\\begin{vmatrix}a_{11}&a_{12}&a_{13}\\\\a_{21}&a_{22}&a_{23}\\\\a_{31}&a_{32}&a_{33}\\end{vmatrix}}=a_{11}a_{22}a_{33}+a_{21}a_{32}a_{13}+a_{31}a_{12}a_{23}-a_{21}a_{12}a_{33}-a_{11}a_{32}a_{23}-a_{31}a_{22}a_{13}}$\n",
    "\n",
    "${\\displaystyle \\det A={\\begin{vmatrix}2&4\\\\-1&3\\end{vmatrix}}=2\\cdot3-4\\cdot(-1)} = 6 + 4 = 10 $"
   ]
  },
  {
   "cell_type": "markdown",
   "metadata": {
    "id": "B5RGYFm9pyTr"
   },
   "source": [
    "### <a name='6'></a> Exercise 66\n",
    "The following array (square matrix) $ A $ is given:\n",
    "\n",
    "```\n",
    "A = np.array([[-2, 0, 4],\n",
    "              [5, 2, -1],\n",
    "              [-4, 2, 4]])\n",
    "```\n",
    "Compute the determinant of the $ A $ matrix.\n",
    "\n",
    "__Tip:__ Use the function _np.linalg.det()_.\n"
   ]
  },
  {
   "cell_type": "code",
   "execution_count": null,
   "metadata": {
    "id": "Q6mXzKIlp5lM"
   },
   "outputs": [],
   "source": [
    "import numpy as np\n",
    "A = np.array([[-2, 0, 4],\n",
    "              [5, 2, -1],\n",
    "              [-4, 2, 4]])\n",
    "np.linalg.det(A)"
   ]
  },
  {
   "cell_type": "markdown",
   "metadata": {
    "id": "scq4zDQ5p7oU"
   },
   "source": [
    "### <a name='7'></a> Exercise 67\n",
    "The following array (square matrix) $ A $ is given:\n",
    "```\n",
    "A = np.array([[5, 8, 16],\n",
    "              [4, 1, 8],\n",
    "              [-4, 4, -11]])\n",
    "```\n",
    "Calculate eigenvalues and their corresponding eigenvectors of the $ A $ matrix.\n",
    "__Tip:__ Use the function _np.linalg.eig()_."
   ]
  },
  {
   "cell_type": "code",
   "execution_count": null,
   "metadata": {
    "id": "efPVjDnYp98l"
   },
   "outputs": [],
   "source": [
    "import numpy as np\n",
    "A = np.array([[5, 8, 16],\n",
    "              [4, 1, 8],\n",
    "              [-4, 4, -11]])\n",
    "np.linalg.eig(A)"
   ]
  },
  {
   "cell_type": "markdown",
   "metadata": {
    "id": "jvJ14m6VrCsA"
   },
   "source": [
    "### Reminder\n",
    "### Inverse matrix:\n",
    "\n",
    "$ A $ - square matrix of degree $ n $. The $ A $ matrix has an inverse matrix when there is a $ B $ matrix such as\n",
    "$$ AB = BA = I $$\n",
    "\n",
    "$A = \\begin{bmatrix}2&4\\\\-1&3\\end{bmatrix}$"
   ]
  },
  {
   "cell_type": "markdown",
   "metadata": {
    "id": "_dp4LKvlrFJC"
   },
   "source": [
    "### <a name='8'></a> Exercise 68\n",
    "The following array (square matrix) $ A $ is given:\n",
    "```\n",
    "A = np.array([[5, 8, 16],\n",
    "              [4, 1, 8],\n",
    "              [-4, 4, -11]])\n",
    "```\n",
    "Find the inverse matrix to the $ A $ matrix.\n",
    "\n",
    "__Tip:__ Use the function _np.linalg.inv()_."
   ]
  },
  {
   "cell_type": "code",
   "execution_count": null,
   "metadata": {
    "id": "RJjZ_UJPrH7q"
   },
   "outputs": [],
   "source": [
    "import numpy as np\n",
    "A = np.array([[5, 8, 16],\n",
    "              [4, 1, 8],\n",
    "              [-4, 4, -11]])\n",
    "np.linalg.inv(A)"
   ]
  },
  {
   "cell_type": "markdown",
   "metadata": {
    "id": "5kvAC-WxrL4_"
   },
   "source": [
    "### Reminder\n",
    "\n",
    "### Matrix trace:\n",
    "\n",
    "$${\\displaystyle A={\\begin{bmatrix}a_{11}&a_{12}&\\dots &a_{1n}\\\\a_{21}&a_{22}&\\dots &a_{2n}\\\\\\vdots &\\vdots &\\ddots &\\vdots \\\\a_{n1}&a_{n2}&\\dots &a_{nn}\\end{bmatrix}}}$$\n",
    "$A$ - nxn matrix\n",
    "\n",
    "${\\displaystyle \\operatorname {tr} (A)=\\sum _{i=1}^{n}a_{ii}=a_{11}+a_{22}+\\dots +a_{nn}}$\n",
    "\n",
    "\n",
    "#### Example:\n",
    "$A = \\begin{bmatrix}2&4\\\\-1&3\\end{bmatrix}$\n",
    "\n",
    "${\\displaystyle \\operatorname {tr} (A)=\\sum _{i=1}^{2}a_{ii}=a_{11}+a_{22} = 2 + 3 = 5}$"
   ]
  },
  {
   "cell_type": "markdown",
   "metadata": {
    "id": "Y95fYJG4rOwa"
   },
   "source": [
    "### <a name='9'></a> Exercise 69\n",
    "The following array (square matrix) $ A $ is given:\n",
    "```\n",
    "A = np.array([[5, 8, 16],\n",
    "              [4, 1, 8],\n",
    "              [-4, 4, -11]])\n",
    "```\n",
    "Find the trace of the square matrix $ A $ (sum of elements on the main diagonal).\n",
    "\n",
    "__Tip:__ Use the _np.trace()_ function."
   ]
  },
  {
   "cell_type": "code",
   "execution_count": null,
   "metadata": {
    "id": "bsEBDusZrR7a"
   },
   "outputs": [],
   "source": [
    "import numpy as np\n",
    "A = np.array([[5, 8, 16],\n",
    "              [4, 1, 8],\n",
    "              [-4, 4, -11]])\n",
    "np.trace(A)"
   ]
  },
  {
   "cell_type": "markdown",
   "metadata": {
    "id": "b2UlN0lyrVvq"
   },
   "source": [
    "### Reminder\n",
    "### Transposed matrix:\n",
    "\n",
    "Replace rows with columns and columns with rows.\n",
    "\n",
    "#### Example 1:\n",
    "\n",
    "$A = \\begin{bmatrix}2&4\\\\-1&3\\end{bmatrix}$,\n",
    "$A^{T} = \\begin{bmatrix}2&-1\\\\4&3\\end{bmatrix}$\n",
    "\n",
    "#### Example 2:\n",
    "$A = \\begin{bmatrix}2&1&-1\\\\0&-1&2\\end{bmatrix}$,\n",
    "$A^{T} = \\begin{bmatrix}2&0\\\\1&-1\\\\-1&2\\end{bmatrix}$"
   ]
  },
  {
   "cell_type": "markdown",
   "metadata": {
    "id": "H-kLeq5Arh9K"
   },
   "source": [
    "### Exercise 69 continued\n",
    "Transpose the $ A $ matrix."
   ]
  },
  {
   "cell_type": "code",
   "execution_count": null,
   "metadata": {
    "id": "x0nQXHqArkU1"
   },
   "outputs": [],
   "source": [
    "import numpy as np\n",
    "A=np.array([[2,4],[-1,3]])\n",
    "A.T"
   ]
  },
  {
   "cell_type": "markdown",
   "metadata": {
    "id": "hYeJXYyPrmar"
   },
   "source": [
    "### <a name='10'> </a> Exercise 70\n",
    "Two two-dimensional arrays numpy $ A $ and $ B $ are given:  \n",
    "$ A $ - matrix of $ (4, 2) $ dimension  \n",
    "$ B $ - matrix of $ (1, 8) $ dimension\n",
    "\n",
    "```\n",
    "A = np.array([[2, 0],\n",
    "              [4, 2],\n",
    "              [5, 3],\n",
    "              [4, 2]])\n",
    "B = np.array([[4, 0, 2, 1, 1, 0, 2, 9]])\n",
    "```\n",
    "Transform the $ B $ array so that you can do the matrix multiplication of $ A \\cdot B $. Perform this multiplication.\n",
    "\n",
    "__Expected result:__\n",
    "```\n",
    "array([[ 8,  0,  4,  2],\n",
    "       [18,  0, 12, 22],\n",
    "       [23,  0, 16, 32],\n",
    "       [18,  0, 12, 22]])\n",
    "```"
   ]
  },
  {
   "cell_type": "code",
   "execution_count": null,
   "metadata": {
    "id": "JH_gzDhWroza"
   },
   "outputs": [],
   "source": [
    "import numpy as np\n",
    "A = np.array([[2, 0],\n",
    "              [4, 2],\n",
    "              [5, 3],\n",
    "              [4, 2]])\n",
    "B = np.array([[4, 0, 2, 1, 1, 0, 2, 9]]).reshape(2,4)\n",
    "np.dot(A,B)"
   ]
  },
  {
   "cell_type": "markdown",
   "metadata": {
    "id": "lMXI--PAsNHs"
   },
   "source": [
    "### <a name='1'></a> Exercise 71\n",
    "The following $ A $ array is given:\n",
    "```\n",
    "A = np.array([['id', 'price'],\n",
    "              ['001', 14.99],\n",
    "              ['002', 4.99],\n",
    "              ['003', 7.99],\n",
    "              ['004', 2.49],\n",
    "              ['005', 1.49]])\n",
    "```\n",
    "From the second row of the $ A $ array, randomly shuffle the rows in the array.\n",
    "\n",
    "__Tip:__ Use the _np.random.shuffle()_ function.\n"
   ]
  },
  {
   "cell_type": "code",
   "execution_count": null,
   "metadata": {
    "id": "EyB-vkixsPX6"
   },
   "outputs": [],
   "source": [
    "import numpy as np\n",
    "A = np.array([['id', 'price'],\n",
    "              ['001', 14.99],\n",
    "              ['002', 4.99],\n",
    "              ['003', 7.99],\n",
    "              ['004', 2.49],\n",
    "              ['005', 1.49]])\n",
    "np.random.shuffle(A[2:6])\n",
    "A"
   ]
  },
  {
   "cell_type": "markdown",
   "metadata": {
    "id": "6IyHWnNGsRQC"
   },
   "source": [
    "### <a name='2'></a> Exercise 72\n",
    "The following array $ A $ is given:\n",
    "\n",
    "```\n",
    "A = np.array([0.2, 0.15, 0.1, 0.3, 0.2, 0.05])\n",
    "```\n",
    "Return an array of indexes that will sort the array $ A $ in ascending order.\n",
    "\n",
    "__Expected result:__\n",
    "\n",
    "```\n",
    "array([5, 2, 1, 0, 4, 3])\n",
    "```\n",
    "__Tip:__ Use the _np.argsort()_ function.\n"
   ]
  },
  {
   "cell_type": "code",
   "execution_count": null,
   "metadata": {
    "id": "cqs1pv-6sTXM"
   },
   "outputs": [],
   "source": [
    "import numpy as np\n",
    "A = np.array([0.2, 0.15, 0.1, 0.3, 0.2, 0.05])\n",
    "np.argsort(A)"
   ]
  },
  {
   "cell_type": "markdown",
   "metadata": {
    "id": "M_vGyIA8sVdi"
   },
   "source": [
    "### <a name='3'></a> Exercise 73\n",
    "\n",
    "The following array $ A $ is given:\n",
    "```\n",
    "A = np.random.randn(10, 8)\n",
    "```\n",
    "Round the values of this array to three decimal places.\n",
    "\n",
    "__Tip:__ Use the function _np.round()_.\n"
   ]
  },
  {
   "cell_type": "code",
   "execution_count": null,
   "metadata": {
    "id": "8gsg4lkgsXTE"
   },
   "outputs": [],
   "source": [
    "import numpy as np\n",
    "A = np.random.randn(10, 8)\n",
    "np.round(A,3)"
   ]
  },
  {
   "cell_type": "markdown",
   "metadata": {
    "id": "rFsSIpBwsZpy"
   },
   "source": [
    "### <a name='4'></a> Exercise 74\n",
    "Determine the roots of the polynomial:\n",
    "* $W(x) = 4x^2 + 5x + 1$\n",
    "\n",
    "Check the solution.\n",
    "\n",
    "__Tip:__ Use the _np.roots()_ and _np.polyval()_ functions."
   ]
  },
  {
   "cell_type": "code",
   "execution_count": null,
   "metadata": {
    "id": "suhU4XXHscjl"
   },
   "outputs": [],
   "source": [
    "import numpy as np\n",
    "p=[4,5,1]\n",
    "np.roots(p)"
   ]
  },
  {
   "cell_type": "markdown",
   "metadata": {
    "id": "-CLNFQI0set6"
   },
   "source": [
    "### <a name='5'></a> Exercise 75\n",
    "Determine the roots of polynomials:\n",
    "* $Q(x) = 2x^3 + 4x^2 -5x + 1$\n",
    "* $R(x) = 2x^3 -5x + 1$\n",
    "\n",
    "__Tip:__ Use the _np.roots()_ function.\n"
   ]
  },
  {
   "cell_type": "code",
   "execution_count": null,
   "metadata": {
    "id": "M0gwQ77MsiYS"
   },
   "outputs": [],
   "source": [
    "import numpy as np\n",
    "print(np.roots([2,4,-5,1]))\n",
    "print(np.roots([2,0,-5,1]))"
   ]
  },
  {
   "cell_type": "markdown",
   "metadata": {
    "id": "5Su2N1CdskRq"
   },
   "source": [
    "### <a name='6'></a> Exercise 76\n",
    "Polynomials are given:\n",
    "* $W(x) = 4x^2 + 5x + 1$\n",
    "* $Q(x) = 2x^3 + 4x^2 -5x + 1$\n"
   ]
  },
  {
   "cell_type": "markdown",
   "metadata": {
    "id": "uBDD2iWzsqeW"
   },
   "source": [
    "Perform:\n",
    "* $ W (x) + Q (x) $"
   ]
  },
  {
   "cell_type": "code",
   "execution_count": null,
   "metadata": {
    "id": "wysNdVzIs4-F"
   },
   "outputs": [],
   "source": [
    "from numpy.polynomial import polynomial as P\n",
    "\n",
    "\n",
    "p1 = (1,5,4)\n",
    "p2 = (1,-5,4,2)\n",
    "\n",
    "\n",
    "\n",
    "sumRes = P.polyadd(p1,p2);\n",
    "print(sumRes)"
   ]
  },
  {
   "cell_type": "markdown",
   "metadata": {
    "id": "SR3GM1iess99"
   },
   "source": [
    "* $W(x) - Q(x)$\n"
   ]
  },
  {
   "cell_type": "code",
   "execution_count": null,
   "metadata": {
    "id": "ORGkpd7Ps5eJ"
   },
   "outputs": [],
   "source": [
    "from numpy.polynomial import polynomial as P\n",
    "\n",
    "\n",
    "p1 = (1,5,4)\n",
    "p2 = (1,-5,4,2)\n",
    "\n",
    "\n",
    "\n",
    "sumRes = P.polysub(p1,p2);\n",
    "print(sumRes)"
   ]
  },
  {
   "cell_type": "markdown",
   "metadata": {
    "id": "ZPiam3u2svHL"
   },
   "source": [
    "* $W(x) * Q(x)$\n"
   ]
  },
  {
   "cell_type": "code",
   "execution_count": null,
   "metadata": {
    "id": "IryeE_iks6UL"
   },
   "outputs": [],
   "source": [
    "import numpy as np\n",
    "\n",
    "p1 = np.poly1d([1,5,4])\n",
    "p2 = np.poly1d([1,-5,4,2])\n",
    "\n",
    "p1*p2\n"
   ]
  },
  {
   "cell_type": "markdown",
   "metadata": {
    "id": "BiU72lhKszCC"
   },
   "source": [
    "* $W(x) + 2Q(x)$"
   ]
  },
  {
   "cell_type": "code",
   "execution_count": null,
   "metadata": {
    "id": "011VYy2is3MC"
   },
   "outputs": [],
   "source": [
    "import numpy as np\n",
    "\n",
    "p1 = np.poly1d([1,5,4])\n",
    "p2 = np.poly1d([1,-5,4,2])\n",
    "\n",
    "p1+(2*p2)"
   ]
  },
  {
   "cell_type": "markdown",
   "metadata": {
    "id": "eF1VLJ7Ps7Qs"
   },
   "source": [
    "### <a name='7'></a> Exercise 77\n",
    "The array below is given:\n",
    "\n",
    "```\n",
    "A = np.array([[-4, 3, 0, 1, -5],\n",
    "              [6, -4, -2, 1, 3]])\n",
    "```\n",
    "Use the sign function for the array $ A $. As a reminder, the function works as follows: returns -1 for negative values, zero for zero, and 1 for positive values.\n",
    "\n",
    "__Expected result:__\n",
    "\n",
    "```\n",
    "array([[-1,  1,  0,  1, -1],\n",
    "       [ 1, -1, -1,  1,  1]])\n",
    "```\n",
    "__Tip:__ Use the _np.sign()_ function."
   ]
  },
  {
   "cell_type": "code",
   "execution_count": null,
   "metadata": {
    "id": "0Qfr8sfotA_D"
   },
   "outputs": [],
   "source": [
    "import numpy as np\n",
    "A = np.array([[-4, 3, 0, 1, -5],\n",
    "              [6, -4, -2, 1, 3]])\n",
    "np.sign(A)"
   ]
  },
  {
   "cell_type": "markdown",
   "metadata": {
    "id": "A2jfoD4etFcD"
   },
   "source": [
    "### <a name='8'></a> Exercise 78\n",
    "Using the _np.arange()_ function, generate the following array:\n",
    "\n",
    "```\n",
    "array(['2021-01-01', '2021-01-02', '2021-01-03', '2021-01-04',\n",
    "       '2021-01-05', '2021-01-06', '2021-01-07', '2021-01-08',\n",
    "       '2021-01-09', '2021-01-10', '2021-01-11', '2021-01-12',\n",
    "       '2021-01-13', '2021-01-14', '2021-01-15', '2021-01-16',\n",
    "       '2021-01-17', '2021-01-18', '2021-01-19', '2021-01-20',\n",
    "       '2021-01-21', '2021-01-22', '2021-01-23', '2021-01-24',\n",
    "       '2021-01-25', '2021-01-26', '2021-01-27', '2021-01-28',\n",
    "       '2021-01-29', '2021-01-30', '2021-01-31'], dtype='datetime64[D]')\n",
    "```\n"
   ]
  },
  {
   "cell_type": "code",
   "execution_count": null,
   "metadata": {
    "id": "3w7EIsestHhS"
   },
   "outputs": [],
   "source": [
    "import numpy as np\n",
    "np.arange(np.datetime64('2021-01-01'), np.datetime64('2021-01-31'))"
   ]
  },
  {
   "cell_type": "markdown",
   "metadata": {
    "id": "D73aHZ4WtJsB"
   },
   "source": [
    "### <a name='9'></a> Exercise 79\n",
    "\n",
    "Using the _np.arange()_ function, generate the following array:\n",
    "\n",
    "```\n",
    "array([['2021-01', '2021-02', '2021-03'],\n",
    "       ['2021-04', '2021-05', '2021-06'],\n",
    "       ['2021-07', '2021-08', '2021-09'],\n",
    "       ['2021-10', '2021-11', '2021-12']], dtype='datetime64[M]')\n",
    "```\n"
   ]
  },
  {
   "cell_type": "code",
   "execution_count": null,
   "metadata": {
    "id": "GfzmBCJ-tL4Z"
   },
   "outputs": [],
   "source": [
    "import numpy as np\n",
    "np.arange(np.datetime64('2021-01'), np.datetime64('2021-12'))"
   ]
  },
  {
   "cell_type": "markdown",
   "metadata": {
    "id": "kiEL545ZtNsf"
   },
   "source": [
    "### <a name='10'></a> Exercise 80\n",
    "Using the _np.datetime64()_ function, generate today's date (the date you were doing the exercise)."
   ]
  },
  {
   "cell_type": "code",
   "execution_count": null,
   "metadata": {
    "id": "ulqG1TuitOdC"
   },
   "outputs": [],
   "source": [
    "import numpy as np\n",
    "\n",
    "today     = np.datetime64('today', 'D')\n",
    "today"
   ]
  },
  {
   "cell_type": "markdown",
   "metadata": {
    "id": "Rf428pcptxKR"
   },
   "source": [
    "### <a name='1'></a> Exercise 81\n",
    "Generate all dates for mondays from January and February 2020 as a numpy array.\n",
    "\n",
    "__Expected result:__\n",
    "```\n",
    "array(['2020-01-06', '2020-01-13', '2020-01-20', '2020-01-27', '2020-02-03', '2020-02-10',\n",
    "       '2020-02-17', '2020-02-24'], dtype='datetime64[D]')\n",
    "```"
   ]
  },
  {
   "cell_type": "code",
   "execution_count": null,
   "metadata": {
    "id": "VzRm__Yit3rp"
   },
   "outputs": [],
   "source": []
  },
  {
   "cell_type": "markdown",
   "metadata": {
    "id": "BmPTpCDdt601"
   },
   "source": [
    "### <a name='2'></a> Exercise 82 \n",
    "Two $ A $ and $ B $ arrays are given:\n",
    "```\n",
    "A = np.array(['001', '002', '003'], dtype=np.str)\n",
    "B = np.array(['XC', 'YC', 'ZC'], dtype=np.str)\n",
    "```\n",
    "Merge them together as shown below:\n",
    "\n",
    "```\n",
    "array(['001XC', '002YC', '003ZC'], dtype='<U5')\n",
    "```\n",
    "\n",
    "__Tip:__ Use the function _np.char.add()_."
   ]
  },
  {
   "cell_type": "code",
   "execution_count": null,
   "metadata": {
    "id": "5e4wccCst7_y"
   },
   "outputs": [],
   "source": [
    "import numpy as np\n",
    "A = np.array(['001', '002', '003'], dtype=str)\n",
    "B = np.array(['XC', 'YC', 'ZC'], dtype=str)\n",
    "np.char.add(A,B)"
   ]
  },
  {
   "cell_type": "markdown",
   "metadata": {
    "id": "B0H4eNwFt_tX"
   },
   "source": [
    "### <a name='3'></a> Exercise 83\n",
    "The array below is given:\n",
    "\n",
    "```\n",
    "A = np.array(['1', '2', '3'], dtype=np.str)\n",
    "```\n",
    "Add '000' (3 zeros) to the beginning of each element of the array.\n",
    "\n",
    "__Tip:__ Use the function _np.char.add()_ or _np.char.rjust()_ or _np.char.zfill()_.\n"
   ]
  },
  {
   "cell_type": "code",
   "execution_count": null,
   "metadata": {
    "id": "PtI3kNSpuG3G"
   },
   "outputs": [],
   "source": [
    "import  numpy as np\n",
    "A = np.array(['1', '2', '3'], dtype=str)\n",
    "np.char.add(A,'000')"
   ]
  },
  {
   "cell_type": "markdown",
   "metadata": {
    "id": "xI-uGz4puJuw"
   },
   "source": [
    "### <a name='4'></a> Exercise 84\n",
    "The array below is given:\n",
    "```\n",
    "A = np.array([['PLW CDR 11B TEN', 'AMC LPP'],\n",
    "              ['CDR PKO KGH', 'CCC QMK']], dtype=np.str)\n",
    "```\n",
    "Split each element of the above array by spaces, obtaining a list of values in each place.\n",
    "\n",
    "__Expected result:__\n",
    "```\n",
    "array([[list(['PLW', 'CDR', '11B', 'TEN']), list(['AMC', 'LPP'])],\n",
    "       [list(['CDR', 'PKO', 'KGH']), list(['CCC', 'QMK'])]], dtype=object)\n",
    "```\n",
    "__Tip:__ Use the function _np.char.split()_.\n"
   ]
  },
  {
   "cell_type": "code",
   "execution_count": null,
   "metadata": {
    "id": "RLc1yzibuL7i"
   },
   "outputs": [],
   "source": [
    "import numpy as np\n",
    "A = np.array([['PLW CDR 11B TEN', 'AMC LPP'],\n",
    "              ['CDR PKO KGH', 'CCC QMK']], dtype=str)\n",
    "np.char.split(A)"
   ]
  },
  {
   "cell_type": "markdown",
   "metadata": {
    "id": "ChSDa-geuOt6"
   },
   "source": [
    "### <a name='5'></a> Exercise 85\n",
    "The array below is given:\n",
    "```\n",
    "A = np.array([['#summer#time#mood'],\n",
    "              ['#sport#time']])\n",
    "```\n",
    "Replace all # with spaces and then remove any unnecessary spaces around the text.\n",
    "\n",
    "__Expected result:__\n",
    "```\n",
    "array([['summer time mood'],\n",
    "       ['sport time']], dtype='<U17')\n",
    "```\n"
   ]
  },
  {
   "cell_type": "code",
   "execution_count": null,
   "metadata": {
    "id": "sjMFFIhXuR21"
   },
   "outputs": [],
   "source": [
    "import numpy as np\n",
    "A = np.array([['#summer#time#mood'],\n",
    "              ['#sport#time']])\n",
    "B=np.char.split(A,'#')\n",
    "np.char.join(' ',B)"
   ]
  },
  {
   "cell_type": "markdown",
   "metadata": {
    "id": "bAz9Pgg5uUkE"
   },
   "source": [
    "### <a name='6'></a> Exercise 86\n",
    "The following array is provided:\n",
    "\n",
    "```\n",
    "A = np.array([['#summer#time#mood', '#vibe'],\n",
    "              ['#sport#time', '#good#time'],\n",
    "              ['#event#summer', '#fast#move']])\n",
    "```\n",
    "Count the number of occurrences of the word 'time' in each element of the $ A $ array.\n",
    "\n",
    "__Tip:__ Use the _np.char.count()_ function.\n",
    "\n"
   ]
  },
  {
   "cell_type": "code",
   "execution_count": null,
   "metadata": {
    "id": "xMGt-LhpuYeY"
   },
   "outputs": [],
   "source": [
    "import numpy as np\n",
    "A = np.array([['#summer#time#mood', '#vibe'],\n",
    "              ['#sport#time', '#good#time'],\n",
    "              ['#event#summer', '#fast#move']])\n",
    "np.char.count(A,'time')"
   ]
  },
  {
   "cell_type": "markdown",
   "metadata": {
    "id": "TtmmX7V2ucT4"
   },
   "source": [
    "### <a name='7'></a> Exercise 87\n",
    "The following text is provided containing data (companies from the WIG20 index):\n",
    "\n",
    "```\n",
    "text = \"\"\"ALIOR\tPLALIOR00045\t88 860 000\t1 386 216 000\t0,891\t2,16\t14\n",
    "CCC\tPLCCC0000016\t27 918 000\t1 292 603 400\t0,831\t5,28\t42\n",
    "CDPROJEKT\tPLOPTTC00011\t67 348 000\t22 864 646 000\t14,702\t7,39\t7\n",
    "CYFRPLSAT\tPLCFRPT00013\t275 301 000\t6 854 994 900\t4,408\t1,17\t14\n",
    "DINOPL\tPLDINPL00011\t47 937 000\t8 916 282 000\t5,733\t9,13\t12\n",
    "JSW\tPLJSW0000015\t52 636 000\t716 902 320\t0,461\t1,51\t24\n",
    "KGHM\tPLKGHM000017\t136 410 000\t9 881 540 400\t6,354\t4,78\t8\n",
    "LOTOS\tPLLOTOS00025\t86 543 000\t5 609 717 260\t3,607\t2,91\t16\n",
    "LPP\tPLLPP0000011\t1 306 000\t7 444 200 000\t4,787\t1,43\t19\n",
    "MBANK\tPLBRE0000012\t12 997 000\t2 830 746 600\t1,820\t0,42\t24\n",
    "ORANGEPL\tPLTLKPL00017\t647 357 000\t4 285 503 340\t2,756\t1,16\t13\n",
    "PEKAO\tPLPEKAO00016\t176 379 000\t9 619 710 660\t6,185\t5,27\t9\n",
    "PGE\tPLPGER000010\t796 776 000\t3 561 588 720\t2,290\t2,88\t18\n",
    "PGNIG\tPLPGNIG00014\t1 624 608 000\t6 072 784 704\t3,905\t1,56\t12\n",
    "PKNORLEN\tPLPKN0000018\t289 049 000\t17 701 360 760\t11,382\t12,44\t8\n",
    "PKOBP\tPLPKO0000016\t857 593 000\t18 807 014 490\t12,093\t10,49\t9\n",
    "PLAY\tLU1642887738\t114 151 000\t3 696 209 380\t2,377\t1,47\t16\n",
    "PZU\tPLPZU0000011\t568 305 000\t17 515 160 100\t11,262\t6,64\t6\n",
    "SANPL\tPLBZ00000044\t33 207 000\t5 213 499 000\t3,352\t1,91\t18\n",
    "TAURONPE\tPLTAURN00011\t1 043 590 000\t1 252 308 000\t0,805\t1,21\t33\"\"\"\n",
    "```\n",
    "\n",
    "__Columns mean \\:__\n",
    "\n",
    "Instrument | ISIN code | Package | Package (PLN) | Share in portfolio (%) | Share in trading shares and PDAs per session (%) | Average spread per session\n",
    "\n",
    "Split text into lines. Then divide each line by the tab character `\\t` and build a numpy array (without headers) containing the following data. Assign the resulting array to the _result_ variable.\n",
    "\n",
    "__Expected result:__\n",
    "```\n",
    "array([['ALIOR', 'PLALIOR00045', '88 860 000', '1 386 216 000', '0,891', '2,16', '14'],\n",
    "       ['CCC', 'PLCCC0000016', '27 918 000', '1 292 603 400', '0,831', '5,28', '42'],\n",
    "       ['CDPROJEKT', 'PLOPTTC00011', '67 348 000', '22 864 646 000', '14,702', '7,39', '7'],\n",
    "       ['CYFRPLSAT', 'PLCFRPT00013', '275 301 000', '6 854 994 900', '4,408', '1,17', '14'],\n",
    "       ['DINOPL', 'PLDINPL00011', '47 937 000', '8 916 282 000', '5,733', '9,13', '12'],\n",
    "       ['JSW', 'PLJSW0000015', '52 636 000', '716 902 320', '0,461', '1,51', '24'],\n",
    "       ['KGHM', 'PLKGHM000017', '136 410 000', '9 881 540 400', '6,354', '4,78', '8'],\n",
    "       ['LOTOS', 'PLLOTOS00025', '86 543 000', '5 609 717 260', '3,607', '2,91', '16'],\n",
    "       ['LPP', 'PLLPP0000011', '1 306 000', '7 444 200 000', '4,787', '1,43', '19'],\n",
    "       ['MBANK', 'PLBRE0000012', '12 997 000', '2 830 746 600', '1,820', '0,42', '24'],\n",
    "       ['ORANGEPL', 'PLTLKPL00017', '647 357 000', '4 285 503 340', '2,756', '1,16', '13'],\n",
    "       ['PEKAO', 'PLPEKAO00016', '176 379 000', '9 619 710 660', '6,185', '5,27', '9'],\n",
    "       ['PGE', 'PLPGER000010', '796 776 000', '3 561 588 720', '2,290', '2,88', '18'],\n",
    "       ['PGNIG', 'PLPGNIG00014', '1 624 608 000', '6 072 784 704', '3,905', '1,56', '12'],\n",
    "       ['PKNORLEN', 'PLPKN0000018', '289 049 000', '17 701 360 760', '11,382', '12,44', '8'],\n",
    "       ['PKOBP', 'PLPKO0000016', '857 593 000', '18 807 014 490', '12,093', '10,49', '9'],\n",
    "       ['PLAY', 'LU1642887738', '114 151 000', '3 696 209 380', '2,377', '1,47', '16'],\n",
    "       ['PZU', 'PLPZU0000011', '568 305 000', '17 515 160 100', '11,262', '6,64', '6'],\n",
    "       ['SANPL', 'PLBZ00000044', '33 207 000', '5 213 499 000', '3,352', '1,91', '18'],\n",
    "       ['TAURONPE', 'PLTAURN00011', '1 043 590 000', '1 252 308 000', '0,805', '1,21', '33']],\n",
    "      dtype='<U14')\n",
    "```\n"
   ]
  },
  {
   "cell_type": "code",
   "execution_count": 6,
   "metadata": {
    "id": "NZk0HJ0UujPo"
   },
   "outputs": [
    {
     "data": {
      "text/plain": [
       "[['ALIOR    PLALIOR00045    88 860 000    1 386 216 000    0,891    2,16    14'],\n",
       " ['CCC    PLCCC0000016    27 918 000    1 292 603 400    0,831    5,28    42'],\n",
       " ['CDPROJEKT    PLOPTTC00011    67 348 000    22 864 646 000    14,702    7,39    7'],\n",
       " ['CYFRPLSAT    PLCFRPT00013    275 301 000    6 854 994 900    4,408    1,17    14'],\n",
       " ['DINOPL    PLDINPL00011    47 937 000    8 916 282 000    5,733    9,13    12'],\n",
       " ['JSW    PLJSW0000015    52 636 000    716 902 320    0,461    1,51    24'],\n",
       " ['KGHM    PLKGHM000017    136 410 000    9 881 540 400    6,354    4,78    8'],\n",
       " ['LOTOS    PLLOTOS00025    86 543 000    5 609 717 260    3,607    2,91    16'],\n",
       " ['LPP    PLLPP0000011    1 306 000    7 444 200 000    4,787    1,43    19'],\n",
       " ['MBANK    PLBRE0000012    12 997 000    2 830 746 600    1,820    0,42    24'],\n",
       " ['ORANGEPL    PLTLKPL00017    647 357 000    4 285 503 340    2,756    1,16    13'],\n",
       " ['PEKAO    PLPEKAO00016    176 379 000    9 619 710 660    6,185    5,27    9'],\n",
       " ['PGE    PLPGER000010    796 776 000    3 561 588 720    2,290    2,88    18'],\n",
       " ['PGNIG    PLPGNIG00014    1 624 608 000    6 072 784 704    3,905    1,56    12'],\n",
       " ['PKNORLEN    PLPKN0000018    289 049 000    17 701 360 760    11,382    12,44    8'],\n",
       " ['PKOBP    PLPKO0000016    857 593 000    18 807 014 490    12,093    10,49    9'],\n",
       " ['PLAY    LU1642887738    114 151 000    3 696 209 380    2,377    1,47    16'],\n",
       " ['PZU    PLPZU0000011    568 305 000    17 515 160 100    11,262    6,64    6'],\n",
       " ['SANPL    PLBZ00000044    33 207 000    5 213 499 000    3,352    1,91    18'],\n",
       " ['TAURONPE    PLTAURN00011    1 043 590 000    1 252 308 000    0,805    1,21    33']]"
      ]
     },
     "execution_count": 6,
     "metadata": {},
     "output_type": "execute_result"
    }
   ],
   "source": [
    "import numpy as np\n",
    "text = \"\"\"ALIOR    PLALIOR00045    88 860 000    1 386 216 000    0,891    2,16    14\n",
    "CCC    PLCCC0000016    27 918 000    1 292 603 400    0,831    5,28    42\n",
    "CDPROJEKT    PLOPTTC00011    67 348 000    22 864 646 000    14,702    7,39    7\n",
    "CYFRPLSAT    PLCFRPT00013    275 301 000    6 854 994 900    4,408    1,17    14\n",
    "DINOPL    PLDINPL00011    47 937 000    8 916 282 000    5,733    9,13    12\n",
    "JSW    PLJSW0000015    52 636 000    716 902 320    0,461    1,51    24\n",
    "KGHM    PLKGHM000017    136 410 000    9 881 540 400    6,354    4,78    8\n",
    "LOTOS    PLLOTOS00025    86 543 000    5 609 717 260    3,607    2,91    16\n",
    "LPP    PLLPP0000011    1 306 000    7 444 200 000    4,787    1,43    19\n",
    "MBANK    PLBRE0000012    12 997 000    2 830 746 600    1,820    0,42    24\n",
    "ORANGEPL    PLTLKPL00017    647 357 000    4 285 503 340    2,756    1,16    13\n",
    "PEKAO    PLPEKAO00016    176 379 000    9 619 710 660    6,185    5,27    9\n",
    "PGE    PLPGER000010    796 776 000    3 561 588 720    2,290    2,88    18\n",
    "PGNIG    PLPGNIG00014    1 624 608 000    6 072 784 704    3,905    1,56    12\n",
    "PKNORLEN    PLPKN0000018    289 049 000    17 701 360 760    11,382    12,44    8\n",
    "PKOBP    PLPKO0000016    857 593 000    18 807 014 490    12,093    10,49    9\n",
    "PLAY    LU1642887738    114 151 000    3 696 209 380    2,377    1,47    16\n",
    "PZU    PLPZU0000011    568 305 000    17 515 160 100    11,262    6,64    6\n",
    "SANPL    PLBZ00000044    33 207 000    5 213 499 000    3,352    1,91    18\n",
    "TAURONPE    PLTAURN00011    1 043 590 000    1 252 308 000    0,805    1,21    33\"\"\"\n",
    "text_lines = text.splitlines()\n",
    "result = [r.split('\\n') for r in text_lines]\n",
    "\n",
    "result"
   ]
  },
  {
   "cell_type": "markdown",
   "metadata": {
    "id": "RwCV8jNXulN5"
   },
   "source": [
    "### <a name='8'></a> Exercise 88\n",
    "From the _result_ array from the previous exercise, remove all spaces in the text and replace all commas with periods."
   ]
  },
  {
   "cell_type": "code",
   "execution_count": null,
   "metadata": {
    "id": "KKSpYNvmuoQm"
   },
   "outputs": [],
   "source": [
    "import numpy as np\n",
    "A=np.array([['ALIOR    PLALIOR00045    88 860 000    1 386 216 000    0,891    2,16    14'],\n",
    "       ['CCC    PLCCC0000016    27 918 000    1 292 603 400    0,831    5,28    42'],\n",
    "       ['CDPROJEKT    PLOPTTC00011    67 348 000    22 864 646 000    14,702    7,39    7'],\n",
    "       ['CYFRPLSAT    PLCFRPT00013    275 301 000    6 854 994 900    4,408    1,17    14'],\n",
    "       ['DINOPL    PLDINPL00011    47 937 000    8 916 282 000    5,733    9,13    12'],\n",
    "       ['JSW    PLJSW0000015    52 636 000    716 902 320    0,461    1,51    24'],\n",
    "       ['KGHM    PLKGHM000017    136 410 000    9 881 540 400    6,354    4,78    8'],\n",
    "       ['LOTOS    PLLOTOS00025    86 543 000    5 609 717 260    3,607    2,91    16'],\n",
    "       ['LPP    PLLPP0000011    1 306 000    7 444 200 000    4,787    1,43    19'],\n",
    "       ['MBANK    PLBRE0000012    12 997 000    2 830 746 600    1,820    0,42    24'],\n",
    "       ['ORANGEPL    PLTLKPL00017    647 357 000    4 285 503 340    2,756    1,16    13'],\n",
    "       ['PEKAO    PLPEKAO00016    176 379 000    9 619 710 660    6,185    5,27    9'],\n",
    "       ['PGE    PLPGER000010    796 776 000    3 561 588 720    2,290    2,88    18'],\n",
    "       ['PGNIG    PLPGNIG00014    1 624 608 000    6 072 784 704    3,905    1,56    12'],\n",
    "       ['PKNORLEN    PLPKN0000018    289 049 000    17 701 360 760    11,382    12,44    8'],\n",
    "       ['PKOBP    PLPKO0000016    857 593 000    18 807 014 490    12,093    10,49    9'],\n",
    "       ['PLAY    LU1642887738    114 151 000    3 696 209 380    2,377    1,47    16'],\n",
    "       ['PZU    PLPZU0000011    568 305 000    17 515 160 100    11,262    6,64    6'],\n",
    "       ['SANPL    PLBZ00000044    33 207 000    5 213 499 000    3,352    1,91    18'],\n",
    "       ['TAURONPE    PLTAURN00011    1 043 590 000    1 252 308 000    0,805    1,21    33']],\n",
    "           dtype='<U81')\n",
    "\n",
    "B=np.char.replace(A,'    ','')\n",
    "C=np.char.replace(B,\",\",\".\")\n",
    "C"
   ]
  },
  {
   "cell_type": "markdown",
   "metadata": {
    "id": "pjjEvdl9uqIo"
   },
   "source": [
    "Then extract column 'Share in portfolio (%)' convert its type to _float_ and calculate the sum for this column. Check if it's 100%."
   ]
  },
  {
   "cell_type": "code",
   "execution_count": 9,
   "metadata": {
    "id": "MTwp0NJ9utTd"
   },
   "outputs": [
    {
     "data": {
      "text/plain": [
       "array([['ALIOR', 'PLALIOR00045', '88 860 000', '1 386 216 000', '0.891',\n",
       "        '2.16', '14'],\n",
       "       ['CCC', 'PLCCC0000016', '27 918 000', '1 292 603 400', '0.831',\n",
       "        '5.28', '42'],\n",
       "       ['CDPROJEKT', 'PLOPTTC00011', '67 348 000', '22 864 646 000',\n",
       "        '14.702', '7.39', '7'],\n",
       "       ['CYFRPLSAT', 'PLCFRPT00013', '275 301 000', '6 854 994 900',\n",
       "        '4.408', '1.17', '14'],\n",
       "       ['DINOPL', 'PLDINPL00011', '47 937 000', '8 916 282 000', '5.733',\n",
       "        '9.13', '12'],\n",
       "       ['JSW', 'PLJSW0000015', '52 636 000', '716 902 320', '0.461',\n",
       "        '1.51', '24'],\n",
       "       ['KGHM', 'PLKGHM000017', '136 410 000', '9 881 540 400', '6.354',\n",
       "        '4.78', '8'],\n",
       "       ['LOTOS', 'PLLOTOS00025', '86 543 000', '5 609 717 260', '3.607',\n",
       "        '2.91', '16'],\n",
       "       ['LPP', 'PLLPP0000011', '1 306 000', '7 444 200 000', '4.787',\n",
       "        '1.43', '19'],\n",
       "       ['MBANK', 'PLBRE0000012', '12 997 000', '2 830 746 600', '1.820',\n",
       "        '0.42', '24'],\n",
       "       ['ORANGEPL', 'PLTLKPL00017', '647 357 000', '4 285 503 340',\n",
       "        '2.756', '1.16', '13'],\n",
       "       ['PEKAO', 'PLPEKAO00016', '176 379 000', '9 619 710 660', '6.185',\n",
       "        '5.27', '9'],\n",
       "       ['PGE', 'PLPGER000010', '796 776 000', '3 561 588 720', '2.290',\n",
       "        '2.88', '18'],\n",
       "       ['PGNIG', 'PLPGNIG00014', '1 624 608 000', '6 072 784 704',\n",
       "        '3.905', '1.56', '12'],\n",
       "       ['PKNORLEN', 'PLPKN0000018', '289 049 000', '17 701 360 760',\n",
       "        '11.382', '12.44', '8'],\n",
       "       ['PKOBP', 'PLPKO0000016', '857 593 000', '18 807 014 490',\n",
       "        '12.093', '10.49', '9'],\n",
       "       ['PLAY', 'LU1642887738', '114 151 000', '3 696 209 380', '2.377',\n",
       "        '1.47', '16'],\n",
       "       ['PZU', 'PLPZU0000011', '568 305 000', '17 515 160 100', '11.262',\n",
       "        '6.64', '6'],\n",
       "       ['SANPL', 'PLBZ00000044', '33 207 000', '5 213 499 000', '3.352',\n",
       "        '1.91', '18'],\n",
       "       ['TAURONPE', 'PLTAURN00011', '1 043 590 000', '1 252 308 000',\n",
       "        '0.805', '1.21', '33']], dtype='<U14')"
      ]
     },
     "execution_count": 9,
     "metadata": {},
     "output_type": "execute_result"
    }
   ],
   "source": [
    "import numpy as np\n",
    "A=np.array([['ALIOR', 'PLALIOR00045', '88 860 000', '1 386 216 000', '0,891', '2,16', '14'],\n",
    "       ['CCC', 'PLCCC0000016', '27 918 000', '1 292 603 400', '0,831', '5,28', '42'],\n",
    "       ['CDPROJEKT', 'PLOPTTC00011', '67 348 000', '22 864 646 000', '14,702', '7,39', '7'],\n",
    "       ['CYFRPLSAT', 'PLCFRPT00013', '275 301 000', '6 854 994 900', '4,408', '1,17', '14'],\n",
    "       ['DINOPL', 'PLDINPL00011', '47 937 000', '8 916 282 000', '5,733', '9,13', '12'],\n",
    "       ['JSW', 'PLJSW0000015', '52 636 000', '716 902 320', '0,461', '1,51', '24'],\n",
    "       ['KGHM', 'PLKGHM000017', '136 410 000', '9 881 540 400', '6,354', '4,78', '8'],\n",
    "       ['LOTOS', 'PLLOTOS00025', '86 543 000', '5 609 717 260', '3,607', '2,91', '16'],\n",
    "       ['LPP', 'PLLPP0000011', '1 306 000', '7 444 200 000', '4,787', '1,43', '19'],\n",
    "       ['MBANK', 'PLBRE0000012', '12 997 000', '2 830 746 600', '1,820', '0,42', '24'],\n",
    "       ['ORANGEPL', 'PLTLKPL00017', '647 357 000', '4 285 503 340', '2,756', '1,16', '13'],\n",
    "       ['PEKAO', 'PLPEKAO00016', '176 379 000', '9 619 710 660', '6,185', '5,27', '9'],\n",
    "       ['PGE', 'PLPGER000010', '796 776 000', '3 561 588 720', '2,290', '2,88', '18'],\n",
    "       ['PGNIG', 'PLPGNIG00014', '1 624 608 000', '6 072 784 704', '3,905', '1,56', '12'],\n",
    "       ['PKNORLEN', 'PLPKN0000018', '289 049 000', '17 701 360 760', '11,382', '12,44', '8'],\n",
    "       ['PKOBP', 'PLPKO0000016', '857 593 000', '18 807 014 490', '12,093', '10,49', '9'],\n",
    "       ['PLAY', 'LU1642887738', '114 151 000', '3 696 209 380', '2,377', '1,47', '16'],\n",
    "       ['PZU', 'PLPZU0000011', '568 305 000', '17 515 160 100', '11,262', '6,64', '6'],\n",
    "       ['SANPL', 'PLBZ00000044', '33 207 000', '5 213 499 000', '3,352', '1,91', '18'],\n",
    "       ['TAURONPE', 'PLTAURN00011', '1 043 590 000', '1 252 308 000', '0,805', '1,21', '33']],\n",
    "      dtype='<U14')\n",
    "\n",
    "B=np.char.replace(A,'    ','')\n",
    "C=np.char.replace(B,\",\",\".\")\n",
    "C"
   ]
  },
  {
   "cell_type": "markdown",
   "metadata": {
    "id": "38gnwf-fuxCg"
   },
   "source": [
    "### <a name='9'></a> Exercise 89\n",
    "From the _result_ array, extract all the rows with the company name beginning with the letter P and assign it to the variable _stocks_startswith_P_.\n",
    "\n",
    "__Expected result:__\n",
    "\n",
    "```\n",
    "array([['PEKAO', 'PLPEKAO00016', '176379000', '9619710660', '6.185', '5.27', '9'],\n",
    "       ['PGE', 'PLPGER000010', '796776000', '3561588720', '2.290', '2.88', '18'],\n",
    "       ['PGNIG', 'PLPGNIG00014', '1624608000', '6072784704', '3.905', '1.56', '12'],\n",
    "       ['PKNORLEN', 'PLPKN0000018', '289049000', '17701360760', '11.382', '12.44', '8'],\n",
    "       ['PKOBP', 'PLPKO0000016', '857593000', '18807014490', '12.093', '10.49', '9'],\n",
    "       ['PLAY', 'LU1642887738', '114151000', '3696209380', '2.377', '1.47', '16'],\n",
    "       ['PZU', 'PLPZU0000011', '568305000', '17515160100', '11.262', '6.64', '6']], dtype='<U12')\n",
    "```"
   ]
  },
  {
   "cell_type": "code",
   "execution_count": 23,
   "metadata": {
    "id": "R8ZX-yMMuzs4"
   },
   "outputs": [
    {
     "name": "stdout",
     "output_type": "stream",
     "text": [
      "['PEKAO' 'PLPEKAO00016' '176 379 000' '9 619 710 660' '6,185' '5,27' '9']\n",
      "['PGE' 'PLPGER000010' '796 776 000' '3 561 588 720' '2,290' '2,88' '18']\n",
      "['PGNIG' 'PLPGNIG00014' '1 624 608 000' '6 072 784 704' '3,905' '1,56'\n",
      " '12']\n",
      "['PKNORLEN' 'PLPKN0000018' '289 049 000' '17 701 360 760' '11,382' '12,44'\n",
      " '8']\n",
      "['PKOBP' 'PLPKO0000016' '857 593 000' '18 807 014 490' '12,093' '10,49'\n",
      " '9']\n",
      "['PLAY' 'LU1642887738' '114 151 000' '3 696 209 380' '2,377' '1,47' '16']\n",
      "['PZU' 'PLPZU0000011' '568 305 000' '17 515 160 100' '11,262' '6,64' '6']\n"
     ]
    }
   ],
   "source": [
    "A=np.array([['ALIOR', 'PLALIOR00045', '88 860 000', '1 386 216 000', '0,891', '2,16', '14'],\n",
    "       ['CCC', 'PLCCC0000016', '27 918 000', '1 292 603 400', '0,831', '5,28', '42'],\n",
    "       ['CDPROJEKT', 'PLOPTTC00011', '67 348 000', '22 864 646 000', '14,702', '7,39', '7'],\n",
    "       ['CYFRPLSAT', 'PLCFRPT00013', '275 301 000', '6 854 994 900', '4,408', '1,17', '14'],\n",
    "       ['DINOPL', 'PLDINPL00011', '47 937 000', '8 916 282 000', '5,733', '9,13', '12'],\n",
    "       ['JSW', 'PLJSW0000015', '52 636 000', '716 902 320', '0,461', '1,51', '24'],\n",
    "       ['KGHM', 'PLKGHM000017', '136 410 000', '9 881 540 400', '6,354', '4,78', '8'],\n",
    "       ['LOTOS', 'PLLOTOS00025', '86 543 000', '5 609 717 260', '3,607', '2,91', '16'],\n",
    "       ['LPP', 'PLLPP0000011', '1 306 000', '7 444 200 000', '4,787', '1,43', '19'],\n",
    "       ['MBANK', 'PLBRE0000012', '12 997 000', '2 830 746 600', '1,820', '0,42', '24'],\n",
    "       ['ORANGEPL', 'PLTLKPL00017', '647 357 000', '4 285 503 340', '2,756', '1,16', '13'],\n",
    "       ['PEKAO', 'PLPEKAO00016', '176 379 000', '9 619 710 660', '6,185', '5,27', '9'],\n",
    "       ['PGE', 'PLPGER000010', '796 776 000', '3 561 588 720', '2,290', '2,88', '18'],\n",
    "       ['PGNIG', 'PLPGNIG00014', '1 624 608 000', '6 072 784 704', '3,905', '1,56', '12'],\n",
    "       ['PKNORLEN', 'PLPKN0000018', '289 049 000', '17 701 360 760', '11,382', '12,44', '8'],\n",
    "       ['PKOBP', 'PLPKO0000016', '857 593 000', '18 807 014 490', '12,093', '10,49', '9'],\n",
    "       ['PLAY', 'LU1642887738', '114 151 000', '3 696 209 380', '2,377', '1,47', '16'],\n",
    "       ['PZU', 'PLPZU0000011', '568 305 000', '17 515 160 100', '11,262', '6,64', '6'],\n",
    "       ['SANPL', 'PLBZ00000044', '33 207 000', '5 213 499 000', '3,352', '1,91', '18'],\n",
    "       ['TAURONPE', 'PLTAURN00011', '1 043 590 000', '1 252 308 000', '0,805', '1,21', '33']],\n",
    "      dtype='<U14')\n",
    "\n",
    "for x in A:\n",
    "    if(np.char.startswith(x[0],'P')):\n",
    "        print(x)\n",
    "  \n",
    "    \n"
   ]
  },
  {
   "cell_type": "markdown",
   "metadata": {
    "id": "lLvA3dMau15w"
   },
   "source": [
    "### <a name='10'></a> Exercise 90\n",
    "Using the variable _stocks_startswith_P_, calculate the total share of companies whose name begins with the letter P. Round the result to two decimal places."
   ]
  },
  {
   "cell_type": "code",
   "execution_count": null,
   "metadata": {
    "id": "gWPDyEAnu4Qa"
   },
   "outputs": [],
   "source": [
    "# enter solution here"
   ]
  },
  {
   "cell_type": "markdown",
   "metadata": {
    "id": "39rc-jvnvSFI"
   },
   "source": [
    "### <a name='1'></a> Exercise 91\n",
    "The following string _wig_games_raw_ is provided containing data on the WIG.GAMES sector index:\n",
    "\n",
    "```\n",
    "wig_games_raw = \"\"\"Profile\tTime\tCourse\tChange\tChange%\tRef.\tOpen\tLow\tHigh\tVolume\tTurn\tShare\n",
    "11B (11BIT)\t17 kwi 17:01\t391.00\t+8.00\t(+2.09%)\t383.00\t383.50\t383.00\t394.00\t12 784\t4 994 874\t19.034%\n",
    "CDR (CDPROJEKT)\t17 kwi 17:01\t339.50\t+5.30\t(+1.59%)\t334.20\t338.30\t337.00\t344.20\t233 059\t79 245 368\t39.618%\n",
    "CIG (CIGAMES)\t17 kwi 17:03\t0.742\t-0.012\t(-1.59%)\t0.754\t0.772\t0.730\t0.772\t1 311 078\t971 459\t1.855%\n",
    "PLW (PLAYWAY)\t17 kwi 17:03\t387.50\t+18.00\t(+4.87%)\t369.50\t374.00\t373.00\t388.00\t33 206\t12 661 786\t10.638%\n",
    "TEN (TSGAMES)\t17 kwi 17:02\t349.50\t+22.50\t(+6.88%)\t327.00\t332.00\t330.00\t353.50\t39 793\t13 697 060\t28.855%\"\"\"\n",
    "```\n",
    "Build a numpy array from this data and name it _wig_games_.\n",
    "\n",
    "__Expected result:__\n",
    "```\n",
    "array([['Profil', 'Czas', 'Kurs', 'Zmiana', 'Zmiana%', 'Odn.', 'Otw.', 'Min.', 'Max.', 'Wolumen', 'Obrót', 'Udział'],\n",
    "       ['11B(11BIT)', '17kwi17:01', '391.00', '+8.00', '(+2.09%)', '383.00', '383.50', '383.00', '394.00', '12784', '4994874', '19.034%'],\n",
    "       ['CDR(CDPROJEKT)', '17kwi17:01', '339.50', '+5.30', '(+1.59%)', '334.20', '338.30', '337.00', '344.20', '233059', '79245368', '39.618%'],\n",
    "       ['CIG(CIGAMES)', '17kwi17:03', '0.742', '-0.012', '(-1.59%)', '0.754', '0.772', '0.730', '0.772', '1311078', '971459', '1.855%'],\n",
    "       ['PLW(PLAYWAY)', '17kwi17:03', '387.50', '+18.00', '(+4.87%)', '369.50', '374.00', '373.00', '388.00', '33206', '12661786', '10.638%'],\n",
    "       ['TEN(TSGAMES)', '17kwi17:02', '349.50', '+22.50', '(+6.88%)', '327.00', '332.00', '330.00', '353.50', '39793', '13697060', '28.855%']], dtype='<U14')\n",
    "```\n"
   ]
  },
  {
   "cell_type": "code",
   "execution_count": 24,
   "metadata": {
    "id": "-AIjUTnAvWzG"
   },
   "outputs": [
    {
     "data": {
      "text/plain": [
       "array([['Profile    Time    Course    Change    Change%    Ref.    Open    Low    High    Volume    Turn    Share'],\n",
       "       ['11B (11BIT)    17 kwi 17:01    391.00    +8.00    (+2.09%)    383.00    383.50    383.00    394.00    12 784    4 994 874    19.034%'],\n",
       "       ['CDR (CDPROJEKT)    17 kwi 17:01    339.50    +5.30    (+1.59%)    334.20    338.30    337.00    344.20    233 059    79 245 368    39.618%'],\n",
       "       ['CIG (CIGAMES)    17 kwi 17:03    0.742    -0.012    (-1.59%)    0.754    0.772    0.730    0.772    1 311 078    971 459    1.855%'],\n",
       "       ['PLW (PLAYWAY)    17 kwi 17:03    387.50    +18.00    (+4.87%)    369.50    374.00    373.00    388.00    33 206    12 661 786    10.638%'],\n",
       "       ['TEN (TSGAMES)    17 kwi 17:02    349.50    +22.50    (+6.88%)    327.00    332.00    330.00    353.50    39 793    13 697 060    28.855%']],\n",
       "      dtype='<U138')"
      ]
     },
     "execution_count": 24,
     "metadata": {},
     "output_type": "execute_result"
    }
   ],
   "source": [
    "wig_games_raw = \"\"\"Profile    Time    Course    Change    Change%    Ref.    Open    Low    High    Volume    Turn    Share\n",
    "11B (11BIT)    17 kwi 17:01    391.00    +8.00    (+2.09%)    383.00    383.50    383.00    394.00    12 784    4 994 874    19.034%\n",
    "CDR (CDPROJEKT)    17 kwi 17:01    339.50    +5.30    (+1.59%)    334.20    338.30    337.00    344.20    233 059    79 245 368    39.618%\n",
    "CIG (CIGAMES)    17 kwi 17:03    0.742    -0.012    (-1.59%)    0.754    0.772    0.730    0.772    1 311 078    971 459    1.855%\n",
    "PLW (PLAYWAY)    17 kwi 17:03    387.50    +18.00    (+4.87%)    369.50    374.00    373.00    388.00    33 206    12 661 786    10.638%\n",
    "TEN (TSGAMES)    17 kwi 17:02    349.50    +22.50    (+6.88%)    327.00    332.00    330.00    353.50    39 793    13 697 060    28.855%\"\"\"\n",
    "text_lines = wig_games_raw .splitlines()\n",
    "text_lines = [r.split('\\t') for r in text_lines]\n",
    "result = np.array(text_lines, dtype=str)\n",
    "\n",
    "result"
   ]
  },
  {
   "cell_type": "markdown",
   "metadata": {
    "id": "htnAhXsvvZEw"
   },
   "source": [
    "### <a name='2'></a> Exercise 92\n",
    "Remove the columns from the _wig_games_ array from the previous exercise:\n",
    "* Change\n",
    "* Change%\n",
    "* Ref.\n",
    "* Volume\n",
    "\n",
    "__Expected result:__\n",
    "```\n",
    "array([['Profile', 'Time', 'Course', 'Open', 'Low', 'High', 'Turn', 'Share'],\n",
    "       ['11B(11BIT)', '17kwi17:01', '391.00', '383.50', '383.00', '394.00', '4994874', '19.034%'],\n",
    "       ['CDR(CDPROJEKT)', '17kwi17:01', '339.50', '338.30', '337.00', '344.20', '79245368', '39.618%'],\n",
    "       ['CIG(CIGAMES)', '17kwi17:03', '0.742', '0.772', '0.730', '0.772', '971459', '1.855%'],\n",
    "       ['PLW(PLAYWAY)', '17kwi17:03', '387.50', '374.00', '373.00', '388.00', '12661786', '10.638%'],\n",
    "       ['TEN(TSGAMES)', '17kwi17:02', '349.50', '332.00', '330.00', '353.50', '13697060', '28.855%']], dtype='<U14')\n",
    "```\n"
   ]
  },
  {
   "cell_type": "code",
   "execution_count": null,
   "metadata": {
    "id": "-rJV_w8cvcC0"
   },
   "outputs": [],
   "source": [
    "arr = np.delete(result, [3,6], axis=1)\n",
    "print(arr)"
   ]
  },
  {
   "cell_type": "markdown",
   "metadata": {
    "id": "7dJbcBOdvejz"
   },
   "source": [
    "### <a name='3'></a> Exercise 93\n",
    "Save the array _wig_games_ from the previous exercise to the _wig_games.csv_ file."
   ]
  },
  {
   "cell_type": "code",
   "execution_count": null,
   "metadata": {
    "id": "4wf4YTQOvgHp"
   },
   "outputs": [],
   "source": [
    "# enter solution here"
   ]
  },
  {
   "cell_type": "markdown",
   "metadata": {
    "id": "HKoXcwIfvotk"
   },
   "source": [
    "Run the cell below to check."
   ]
  },
  {
   "cell_type": "code",
   "execution_count": 25,
   "metadata": {
    "id": "m9Nep0_Pvq1o"
   },
   "outputs": [
    {
     "name": "stderr",
     "output_type": "stream",
     "text": [
      "'head' is not recognized as an internal or external command,\n",
      "operable program or batch file.\n"
     ]
    }
   ],
   "source": [
    "!head wig_games.csv"
   ]
  },
  {
   "cell_type": "markdown",
   "metadata": {
    "id": "Rjlfj8VuvtBD"
   },
   "source": [
    "### <a name='4'></a> Exercise 94\n",
    "Load the contents of the _wig_games.csv_ file into the _wig_games_new_ variable."
   ]
  },
  {
   "cell_type": "code",
   "execution_count": null,
   "metadata": {
    "id": "EHLgkl0ovvGg"
   },
   "outputs": [],
   "source": [
    "# enter solution here"
   ]
  },
  {
   "cell_type": "markdown",
   "metadata": {
    "id": "pWgfdexHvxBQ"
   },
   "source": [
    "### <a name='5'></a> Exercise 95\n",
    "The following string _playway_raw_ is provided containing Playway's March 2020 listings:\n",
    "\n",
    "```\n",
    "playway_raw = \"\"\"Date,Open,High,Low,Close,Volume\n",
    "2020-03-02,305,324.5,283.5,310,64081\n",
    "2020-03-03,325.5,340.5,320,340.5,55496\n",
    "2020-03-04,324,340.5,315,330,36152\n",
    "2020-03-05,344,344,310,315,35992\n",
    "2020-03-06,306.5,307,291,305,32539\n",
    "2020-03-09,274,291,250,258,79402\n",
    "2020-03-10,278,284.5,256,264,35700\n",
    "2020-03-11,270,270,238.5,245,60445\n",
    "2020-03-12,218,228,196,197,94031\n",
    "2020-03-13,210,229,198.8,211,100412\n",
    "2020-03-16,205,248,197.8,240.5,50659\n",
    "2020-03-17,245,269,232.5,264,99480\n",
    "2020-03-18,264,280,251,270,70136\n",
    "2020-03-19,267,280,267,279.5,30732\n",
    "2020-03-20,297.5,307,280,280.5,43426\n",
    "2020-03-23,274,289,258,285,37098\n",
    "2020-03-24,305,309,296.5,309,31939\n",
    "2020-03-25,313,330,295,304,46724\n",
    "2020-03-26,300,309,295.5,300,27213\n",
    "2020-03-27,302,306.5,290,296,13466\n",
    "2020-03-30,299,300,287,300,10316\n",
    "2020-03-31,302.5,309,302,306.5,15698\"\"\"\n",
    "```\n",
    "\n",
    "Create an array named _playway_ and assign the following data to it."
   ]
  },
  {
   "cell_type": "code",
   "execution_count": null,
   "metadata": {
    "id": "XC9G54HZvz1a"
   },
   "outputs": [],
   "source": [
    "playway_raw = \"\"\"Date,Open,High,Low,Close,Volume\n",
    "2020-03-02,305,324.5,283.5,310,64081\n",
    "2020-03-03,325.5,340.5,320,340.5,55496\n",
    "2020-03-04,324,340.5,315,330,36152\n",
    "2020-03-05,344,344,310,315,35992\n",
    "2020-03-06,306.5,307,291,305,32539\n",
    "2020-03-09,274,291,250,258,79402\n",
    "2020-03-10,278,284.5,256,264,35700\n",
    "2020-03-11,270,270,238.5,245,60445\n",
    "2020-03-12,218,228,196,197,94031\n",
    "2020-03-13,210,229,198.8,211,100412\n",
    "2020-03-16,205,248,197.8,240.5,50659\n",
    "2020-03-17,245,269,232.5,264,99480\n",
    "2020-03-18,264,280,251,270,70136\n",
    "2020-03-19,267,280,267,279.5,30732\n",
    "2020-03-20,297.5,307,280,280.5,43426\n",
    "2020-03-23,274,289,258,285,37098\n",
    "2020-03-24,305,309,296.5,309,31939\n",
    "2020-03-25,313,330,295,304,46724\n",
    "2020-03-26,300,309,295.5,300,27213\n",
    "2020-03-27,302,306.5,290,296,13466\n",
    "2020-03-30,299,300,287,300,10316\n",
    "2020-03-31,302.5,309,302,306.5,15698\"\"\"\n",
    "\n",
    "# enter solution here"
   ]
  },
  {
   "cell_type": "markdown",
   "metadata": {
    "id": "8EDYZcOrv2fP"
   },
   "source": [
    "Delete the column named 'Date'. Assign only column values without headers to the _playway_values_ variable. Convert the array to the _float_ data type.\n",
    "\n",
    "__Expected result:__\n",
    "```\n",
    "array([[   305. ,    324.5,    283.5,    310. ,  64081. ],\n",
    "       [   325.5,    340.5,    320. ,    340.5,  55496. ],\n",
    "       [   324. ,    340.5,    315. ,    330. ,  36152. ],\n",
    "       [   344. ,    344. ,    310. ,    315. ,  35992. ],\n",
    "       [   306.5,    307. ,    291. ,    305. ,  32539. ],\n",
    "       [   274. ,    291. ,    250. ,    258. ,  79402. ],\n",
    "       [   278. ,    284.5,    256. ,    264. ,  35700. ],\n",
    "       [   270. ,    270. ,    238.5,    245. ,  60445. ],\n",
    "       [   218. ,    228. ,    196. ,    197. ,  94031. ],\n",
    "       [   210. ,    229. ,    198.8,    211. , 100412. ],\n",
    "       [   205. ,    248. ,    197.8,    240.5,  50659. ],\n",
    "       [   245. ,    269. ,    232.5,    264. ,  99480. ],\n",
    "       [   264. ,    280. ,    251. ,    270. ,  70136. ],\n",
    "       [   267. ,    280. ,    267. ,    279.5,  30732. ],\n",
    "       [   297.5,    307. ,    280. ,    280.5,  43426. ],\n",
    "       [   274. ,    289. ,    258. ,    285. ,  37098. ],\n",
    "       [   305. ,    309. ,    296.5,    309. ,  31939. ],\n",
    "       [   313. ,    330. ,    295. ,    304. ,  46724. ],\n",
    "       [   300. ,    309. ,    295.5,    300. ,  27213. ],\n",
    "       [   302. ,    306.5,    290. ,    296. ,  13466. ],\n",
    "       [   299. ,    300. ,    287. ,    300. ,  10316. ],\n",
    "       [   302.5,    309. ,    302. ,    306.5,  15698. ]])\n",
    "```"
   ]
  },
  {
   "cell_type": "code",
   "execution_count": null,
   "metadata": {
    "id": "2y3imzTOv4bb"
   },
   "outputs": [],
   "source": [
    "# enter solution here"
   ]
  },
  {
   "cell_type": "markdown",
   "metadata": {
    "id": "ojwh8klNv6PX"
   },
   "source": [
    "### <a name='6'></a> Exercise 96\n",
    "For the _playway_values_ array from the previous exercise, calculate the average value for each column. Round the result to two decimal places."
   ]
  },
  {
   "cell_type": "code",
   "execution_count": null,
   "metadata": {
    "id": "T417a6PLwK3e"
   },
   "outputs": [],
   "source": [
    "# enter solution here"
   ]
  },
  {
   "cell_type": "markdown",
   "metadata": {
    "id": "FIS7nUeJv-Jk"
   },
   "source": [
    "For the _playway_values_ array from the previous exercise, calculate the minimum value for each column. Round the result to two decimal places."
   ]
  },
  {
   "cell_type": "code",
   "execution_count": null,
   "metadata": {
    "id": "EmUyUzcCwLdf"
   },
   "outputs": [],
   "source": [
    "# enter solution here"
   ]
  },
  {
   "cell_type": "markdown",
   "metadata": {
    "id": "smEc-HYpwALw"
   },
   "source": [
    "For the _playway_values_ array from the previous exercise, calculate the maximum value for each column. Round the result to two decimal places."
   ]
  },
  {
   "cell_type": "code",
   "execution_count": null,
   "metadata": {
    "id": "-OjKc2mswMYY"
   },
   "outputs": [],
   "source": [
    "# enter solution here"
   ]
  },
  {
   "cell_type": "markdown",
   "metadata": {
    "id": "8hqZfLohwCPe"
   },
   "source": [
    "Calculate the difference between the maximum and minimum value for each column."
   ]
  },
  {
   "cell_type": "code",
   "execution_count": null,
   "metadata": {
    "id": "Q12U-EZ8wMzg"
   },
   "outputs": [],
   "source": [
    "# enter solution here"
   ]
  },
  {
   "cell_type": "markdown",
   "metadata": {
    "id": "GWDK13QHwWM_"
   },
   "source": [
    "### <a name='7'></a> Exercise 97\n",
    "Using the _playway_values_ array, calculate the new column: the difference between the highest and lowest price.\n",
    "\n",
    "Steps:\n",
    "1. assign the calculated difference to the _max_min_diff_ variable\n",
    "2. add the calculated column (variable _max_min_diff_) to the array _playway_values_ at the end.\n",
    "\n",
    "__Expected result:__\n",
    "```\n",
    "array([[   305. ,    324.5,    283.5,    310. ,  64081. ,     41. ],\n",
    "       [   325.5,    340.5,    320. ,    340.5,  55496. ,     20.5],\n",
    "       [   324. ,    340.5,    315. ,    330. ,  36152. ,     25.5],\n",
    "       [   344. ,    344. ,    310. ,    315. ,  35992. ,     34. ],\n",
    "       [   306.5,    307. ,    291. ,    305. ,  32539. ,     16. ],\n",
    "       [   274. ,    291. ,    250. ,    258. ,  79402. ,     41. ],\n",
    "       [   278. ,    284.5,    256. ,    264. ,  35700. ,     28.5],\n",
    "       [   270. ,    270. ,    238.5,    245. ,  60445. ,     31.5],\n",
    "       [   218. ,    228. ,    196. ,    197. ,  94031. ,     32. ],\n",
    "       [   210. ,    229. ,    198.8,    211. , 100412. ,     30.2],\n",
    "       [   205. ,    248. ,    197.8,    240.5,  50659. ,     50.2],\n",
    "       [   245. ,    269. ,    232.5,    264. ,  99480. ,     36.5],\n",
    "       [   264. ,    280. ,    251. ,    270. ,  70136. ,     29. ],\n",
    "       [   267. ,    280. ,    267. ,    279.5,  30732. ,     13. ],\n",
    "       [   297.5,    307. ,    280. ,    280.5,  43426. ,     27. ],\n",
    "       [   274. ,    289. ,    258. ,    285. ,  37098. ,     31. ],\n",
    "       [   305. ,    309. ,    296.5,    309. ,  31939. ,     12.5],\n",
    "       [   313. ,    330. ,    295. ,    304. ,  46724. ,     35. ],\n",
    "       [   300. ,    309. ,    295.5,    300. ,  27213. ,     13.5],\n",
    "       [   302. ,    306.5,    290. ,    296. ,  13466. ,     16.5],\n",
    "       [   299. ,    300. ,    287. ,    300. ,  10316. ,     13. ],\n",
    "       [   302.5,    309. ,    302. ,    306.5,  15698. ,      7. ]])\n",
    "```"
   ]
  },
  {
   "cell_type": "code",
   "execution_count": null,
   "metadata": {
    "id": "JihKxYaFwul1"
   },
   "outputs": [],
   "source": [
    "# enter solution here"
   ]
  },
  {
   "cell_type": "markdown",
   "metadata": {
    "id": "N08h2_fpwztR"
   },
   "source": [
    "### <a name='8'></a> Exercise 98\n",
    "Extract rows from the array _playway_values_ where closing price is grater than 300.00."
   ]
  },
  {
   "cell_type": "code",
   "execution_count": null,
   "metadata": {
    "id": "puPPRluNw2_q"
   },
   "outputs": [],
   "source": [
    "# enter solution here"
   ]
  },
  {
   "cell_type": "markdown",
   "metadata": {
    "id": "kiobmGONwfT5"
   },
   "source": [
    "### <a name='9'></a> Exercise 99\n",
    "From the array _playway_values_ extract the first 10 rows with the highest volume value sorted in descending order."
   ]
  },
  {
   "cell_type": "code",
   "execution_count": null,
   "metadata": {
    "id": "9Mhk3tdtwvmB"
   },
   "outputs": [],
   "source": [
    "# enter solution here"
   ]
  },
  {
   "cell_type": "markdown",
   "metadata": {
    "id": "iEKC2kWtwkBg"
   },
   "source": [
    "### <a name='10'></a> Exercise 100\n",
    "Add to the _playway_values_ array column that will return 1 in case the closing price is higher than the opening price and 0 opposite.\n",
    "\n",
    "__Expected result:__\n",
    "```\n",
    "array([[   305. ,    324.5,    283.5,    310. ,  64081. ,     41. ,      1. ],\n",
    "       [   325.5,    340.5,    320. ,    340.5,  55496. ,     20.5,      1. ],\n",
    "       [   324. ,    340.5,    315. ,    330. ,  36152. ,     25.5,      1. ],\n",
    "       [   344. ,    344. ,    310. ,    315. ,  35992. ,     34. ,      0. ],\n",
    "       [   306.5,    307. ,    291. ,    305. ,  32539. ,     16. ,      0. ],\n",
    "       [   274. ,    291. ,    250. ,    258. ,  79402. ,     41. ,      0. ],\n",
    "       [   278. ,    284.5,    256. ,    264. ,  35700. ,     28.5,      0. ],\n",
    "       [   270. ,    270. ,    238.5,    245. ,  60445. ,     31.5,      0. ],\n",
    "       [   218. ,    228. ,    196. ,    197. ,  94031. ,     32. ,      0. ],\n",
    "       [   210. ,    229. ,    198.8,    211. , 100412. ,     30.2,      1. ],\n",
    "       [   205. ,    248. ,    197.8,    240.5,  50659. ,     50.2,      1. ],\n",
    "       [   245. ,    269. ,    232.5,    264. ,  99480. ,     36.5,      1. ],\n",
    "       [   264. ,    280. ,    251. ,    270. ,  70136. ,     29. ,      1. ],\n",
    "       [   267. ,    280. ,    267. ,    279.5,  30732. ,     13. ,      1. ],\n",
    "       [   297.5,    307. ,    280. ,    280.5,  43426. ,     27. ,      0. ],\n",
    "       [   274. ,    289. ,    258. ,    285. ,  37098. ,     31. ,      1. ],\n",
    "       [   305. ,    309. ,    296.5,    309. ,  31939. ,     12.5,      1. ],\n",
    "       [   313. ,    330. ,    295. ,    304. ,  46724. ,     35. ,      0. ],\n",
    "       [   300. ,    309. ,    295.5,    300. ,  27213. ,     13.5,      0. ],\n",
    "       [   302. ,    306.5,    290. ,    296. ,  13466. ,     16.5,      0. ],\n",
    "       [   299. ,    300. ,    287. ,    300. ,  10316. ,     13. ,      1. ],\n",
    "       [   302.5,    309. ,    302. ,    306.5,  15698. ,      7. ,      1. ]])\n",
    "```"
   ]
  },
  {
   "cell_type": "code",
   "execution_count": null,
   "metadata": {
    "id": "iZWMGGmMwxNl"
   },
   "outputs": [],
   "source": [
    "# enter solution here"
   ]
  }
 ],
 "metadata": {
  "colab": {
   "provenance": []
  },
  "kernelspec": {
   "display_name": "Python 3 (ipykernel)",
   "language": "python",
   "name": "python3"
  },
  "language_info": {
   "codemirror_mode": {
    "name": "ipython",
    "version": 3
   },
   "file_extension": ".py",
   "mimetype": "text/x-python",
   "name": "python",
   "nbconvert_exporter": "python",
   "pygments_lexer": "ipython3",
   "version": "3.9.13"
  }
 },
 "nbformat": 4,
 "nbformat_minor": 1
}
