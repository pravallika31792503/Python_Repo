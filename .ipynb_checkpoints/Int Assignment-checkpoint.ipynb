{
 "cells": [
  {
   "cell_type": "code",
   "execution_count": 1,
   "id": "40631e2e",
   "metadata": {},
   "outputs": [
    {
     "name": "stdout",
     "output_type": "stream",
     "text": [
      "<class 'int'> 1536976579152\n"
     ]
    }
   ],
   "source": [
    "a = 10\n",
    "print(type(a),id(a))"
   ]
  },
  {
   "cell_type": "code",
   "execution_count": 3,
   "id": "9f4f5009",
   "metadata": {},
   "outputs": [
    {
     "name": "stdout",
     "output_type": "stream",
     "text": [
      "1536976579728\n",
      "1536976579728\n"
     ]
    }
   ],
   "source": [
    "b = 28\n",
    "c = 28\n",
    "print(id(b))\n",
    "print(id(c))\n",
    "# Both Id's are same because of meomry reusability. For Integers between range -5 to 256 memory will be reused."
   ]
  },
  {
   "cell_type": "code",
   "execution_count": 5,
   "id": "5e2c1496",
   "metadata": {},
   "outputs": [
    {
     "name": "stdout",
     "output_type": "stream",
     "text": [
      "1537056229264\n",
      "1537056230800\n"
     ]
    }
   ],
   "source": [
    "d = -6\n",
    "e = -6\n",
    "print(id(d))\n",
    "print(id(e))\n",
    "#Both Id's are different because memory reusability applies only to the integers values between -5 to 256."
   ]
  },
  {
   "cell_type": "code",
   "execution_count": 1,
   "id": "2b770aa3",
   "metadata": {},
   "outputs": [
    {
     "name": "stdout",
     "output_type": "stream",
     "text": [
      "Sum of two number's is:  48\n",
      "Difference of number's is:  32\n",
      "Product of number's is:  320\n",
      "Divison of number's is:  5.0\n",
      "Remainder of two number's is:  0\n",
      "Quotient of two number's is:  5\n",
      "Power of two number's is:  6553600000000\n"
     ]
    }
   ],
   "source": [
    "f = 40\n",
    "g = 8\n",
    "#Sum\n",
    "print(\"Sum of two number's is: \", f+g)\n",
    "#Difference\n",
    "print(\"Difference of number's is: \",f-g)\n",
    "#product\n",
    "print(\"Product of number's is: \", f*g)\n",
    "#Divison\n",
    "print(\"Divison of number's is: \",f/g)\n",
    "#Remainder\n",
    "print(\"Remainder of two number's is: \", f%g)\n",
    "#Quotient\n",
    "print(\"Quotient of two number's is: \", f//g)\n",
    "#power\n",
    "print(\"Power of two number's is: \", f**g)"
   ]
  },
  {
   "cell_type": "code",
   "execution_count": 9,
   "id": "7a2fb8d1",
   "metadata": {},
   "outputs": [
    {
     "name": "stdout",
     "output_type": "stream",
     "text": [
      "False\n",
      "True\n",
      "False\n",
      "True\n"
     ]
    }
   ],
   "source": [
    "c1 = 10\n",
    "c2 = 32\n",
    "#(>)\n",
    "print(c1>c2)\n",
    "#(<)\n",
    "print(c1<c2)\n",
    "#(>=)\n",
    "print(c1>=c2)\n",
    "#(<=)\n",
    "print(c1<=c2)"
   ]
  },
  {
   "cell_type": "code",
   "execution_count": 10,
   "id": "144934c8",
   "metadata": {},
   "outputs": [
    {
     "name": "stdout",
     "output_type": "stream",
     "text": [
      "False\n",
      "True\n"
     ]
    }
   ],
   "source": [
    "e1 = 98\n",
    "e2 = 64\n",
    "#(==)\n",
    "print(e1==e2)\n",
    "#(!=)\n",
    "print(e1!=e2)"
   ]
  },
  {
   "cell_type": "code",
   "execution_count": 15,
   "id": "a9baefe4",
   "metadata": {},
   "outputs": [
    {
     "name": "stdout",
     "output_type": "stream",
     "text": [
      "20\n",
      "0\n",
      "0\n",
      "0\n",
      "10\n",
      "20\n",
      "20\n",
      "0\n",
      "False\n",
      "True\n"
     ]
    }
   ],
   "source": [
    "# (a and b): Output is a if a is false else true\n",
    "\n",
    "print(10 and 20)\n",
    "\n",
    "print(0 and 20)\n",
    "\n",
    "print(20 and 0)\n",
    "\n",
    "print(0 and 0)\n",
    "\n",
    "# (a or b): Output is a if a is true else false\n",
    "\n",
    "print(10 or 20)\n",
    "\n",
    "print(0 or 20)\n",
    "\n",
    "print(20 or 0)\n",
    "\n",
    "print(0 or 0)\n",
    "\n",
    "# In integers 0 is false and remainig numbers are true\n",
    "\n",
    "print(not 10)\n",
    "\n",
    "print(not 0)\n"
   ]
  },
  {
   "cell_type": "code",
   "execution_count": 13,
   "id": "ce6443c6",
   "metadata": {},
   "outputs": [
    {
     "name": "stdout",
     "output_type": "stream",
     "text": [
      "0\n",
      "30\n",
      "30\n",
      "-11\n",
      "40\n",
      "2\n"
     ]
    }
   ],
   "source": [
    "print(10&20)\n",
    "print(10|20)\n",
    "print(10^20)\n",
    "print(~10)\n",
    "print(10<<2)\n",
    "print(10>>2)\n"
   ]
  },
  {
   "cell_type": "code",
   "execution_count": 16,
   "id": "568b4415",
   "metadata": {},
   "outputs": [
    {
     "name": "stdout",
     "output_type": "stream",
     "text": [
      "True\n",
      "False\n"
     ]
    }
   ],
   "source": [
    "a = 10\n",
    "b = 10\n",
    "print(a is b) #True because both id's are same\n",
    "print(a is not b) #False because both id's are same\n"
   ]
  },
  {
   "cell_type": "code",
   "execution_count": 17,
   "id": "e79633d6",
   "metadata": {},
   "outputs": [
    {
     "name": "stdout",
     "output_type": "stream",
     "text": [
      "False\n",
      "True\n"
     ]
    }
   ],
   "source": [
    "a = 1000\n",
    "b = 1000\n",
    "print(a is b) #False because both id's are not same\n",
    "print(a is not b) #True because both id's are not same"
   ]
  },
  {
   "cell_type": "code",
   "execution_count": 18,
   "id": "e14eba62",
   "metadata": {},
   "outputs": [
    {
     "name": "stdout",
     "output_type": "stream",
     "text": [
      "20\n"
     ]
    }
   ],
   "source": [
    "print(10+(10*32)//2**5&20+(~(-10))<<2)\n"
   ]
  },
  {
   "cell_type": "code",
   "execution_count": 23,
   "id": "1a8ca520",
   "metadata": {},
   "outputs": [
    {
     "name": "stdout",
     "output_type": "stream",
     "text": [
      "True\n",
      "True\n",
      "True\n",
      "True\n",
      "True\n",
      "True\n"
     ]
    }
   ],
   "source": [
    "print('2' in 'Python2.7.8')\n",
    "print(10 in [10,10.20,10+20j,'Python'])\n",
    "print(10 in (10,10.20,10+20j,'Python'))\n",
    "print(2 in {1,2,3})\n",
    "print(3 in {1:100, 2:200, 3:300})\n",
    "print(10 in range(20))"
   ]
  },
  {
   "cell_type": "code",
   "execution_count": 27,
   "id": "2c306df1",
   "metadata": {},
   "outputs": [
    {
     "name": "stdout",
     "output_type": "stream",
     "text": [
      "80\n",
      "3870\n",
      "64222\n",
      "0b10011010010100\n",
      "0o23224\n",
      "0x2694\n"
     ]
    }
   ],
   "source": [
    "x = 0b1010000\n",
    "print(x)\n",
    "y = 0o7436\n",
    "print(y)\n",
    "z = 0xfade\n",
    "print(z)\n",
    "print(bin(9876))\n",
    "print(oct(9876))\n",
    "print(hex(9876))"
   ]
  },
  {
   "cell_type": "code",
   "execution_count": 21,
   "id": "4413859f",
   "metadata": {},
   "outputs": [
    {
     "name": "stdout",
     "output_type": "stream",
     "text": [
      "80\n",
      "3870\n",
      "64222\n",
      "0b1010000\n",
      "0o7436\n",
      "0xfade\n",
      "0b1010000\n",
      "0b1111101011011110\n",
      "0o175336\n",
      "0o7436\n",
      "0x50\n",
      "0xfade\n"
     ]
    }
   ],
   "source": [
    "a = 0b1010000\n",
    "print(a)\n",
    "b = 0o7436\n",
    "print(b)\n",
    "c = 0xfade\n",
    "print(c)\n",
    "print(bin(80))\n",
    "print(oct(3870))\n",
    "print(hex(64222))\n",
    "print(bin(0b1010000))\n",
    "print(bin(0xfade))\n",
    "print(oct(0xfade))\n",
    "print(oct(0o7436))\n",
    "print(hex(0b1010000))\n",
    "print(hex(0xfade))"
   ]
  },
  {
   "cell_type": "code",
   "execution_count": null,
   "id": "2d615f69",
   "metadata": {},
   "outputs": [],
   "source": []
  }
 ],
 "metadata": {
  "kernelspec": {
   "display_name": "Python 3 (ipykernel)",
   "language": "python",
   "name": "python3"
  },
  "language_info": {
   "codemirror_mode": {
    "name": "ipython",
    "version": 3
   },
   "file_extension": ".py",
   "mimetype": "text/x-python",
   "name": "python",
   "nbconvert_exporter": "python",
   "pygments_lexer": "ipython3",
   "version": "3.9.13"
  }
 },
 "nbformat": 4,
 "nbformat_minor": 5
}
