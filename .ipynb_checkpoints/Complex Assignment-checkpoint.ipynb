{
 "cells": [
  {
   "cell_type": "code",
   "execution_count": 2,
   "id": "48a37ca1",
   "metadata": {},
   "outputs": [
    {
     "name": "stdout",
     "output_type": "stream",
     "text": [
      "<class 'complex'> 2314384100496\n"
     ]
    }
   ],
   "source": [
    "c1 = 10+6j\n",
    "print(type(c1),id(c1))"
   ]
  },
  {
   "cell_type": "code",
   "execution_count": 5,
   "id": "1f16c890",
   "metadata": {},
   "outputs": [
    {
     "name": "stdout",
     "output_type": "stream",
     "text": [
      "(18+15j)\n",
      "(2-5j)\n",
      "(30+140j)\n",
      "(0.7926829268292683-0.3658536585365854j)\n",
      "(-2157042.2184241735+972564.1585731175j)\n"
     ]
    }
   ],
   "source": [
    "c2 = 10+5j\n",
    "c3=8+10j\n",
    "print(c2+c3)\n",
    "print(c2-c3)\n",
    "print(c2*c3)\n",
    "print(c2/c3)\n",
    "print(c2**c3)"
   ]
  },
  {
   "cell_type": "code",
   "execution_count": 6,
   "id": "d1072fdb",
   "metadata": {},
   "outputs": [
    {
     "name": "stdout",
     "output_type": "stream",
     "text": [
      "False\n",
      "True\n"
     ]
    }
   ],
   "source": [
    "c4 = 8+10j\n",
    "c5=9+15j\n",
    "print(c4==c5)\n",
    "print(c4!=c5)"
   ]
  },
  {
   "cell_type": "code",
   "execution_count": 7,
   "id": "53b3c68b",
   "metadata": {},
   "outputs": [
    {
     "name": "stdout",
     "output_type": "stream",
     "text": [
      "(20+30j)\n",
      "0j\n",
      "0j\n",
      "0j\n",
      "(10+20j)\n",
      "(20+30j)\n",
      "(20+30j)\n",
      "0j\n",
      "False\n",
      "True\n"
     ]
    }
   ],
   "source": [
    "print(10+20j and 20+30j) \n",
    "print(0+0j and 20+30j) \n",
    "print(20+30j and 0+0j) \n",
    "print(0+0j and 0+0j)\n",
    "print(10+20j or 20+30j)\n",
    "print(0+0j or 20+30j) \n",
    "print(20+30j or 0+0j) \n",
    "print(0+0j or 0+0j)\n",
    "print(not 10+20j) \n",
    "print(not 0+0j) "
   ]
  },
  {
   "cell_type": "code",
   "execution_count": 8,
   "id": "be9a4fc2",
   "metadata": {},
   "outputs": [
    {
     "name": "stdout",
     "output_type": "stream",
     "text": [
      "False\n",
      "True\n"
     ]
    }
   ],
   "source": [
    "a = 10+20j\n",
    "b = 10+20j\n",
    "print(a is b) \n",
    "print(a is not b) \n",
    "#Memory reusability is not applicable in complex data types"
   ]
  },
  {
   "cell_type": "code",
   "execution_count": 9,
   "id": "69ecaedc",
   "metadata": {},
   "outputs": [
    {
     "name": "stdout",
     "output_type": "stream",
     "text": [
      "True\n",
      "True\n",
      "True\n",
      "True\n",
      "True\n",
      "True\n"
     ]
    }
   ],
   "source": [
    "print('2.7' in 'Python2.7.8') \n",
    "print(10+20j in [10,10.20,10+20j,'Python']) \n",
    "print(10+20j in (10,10.20,10+20j,'Python')) \n",
    "print(30+40j in {1,20.30,30+40j}) \n",
    "print(30+40j in {1:100, 2.3:200, 30+40j:300}) \n",
    "print(10 in range(20)) "
   ]
  }
 ],
 "metadata": {
  "kernelspec": {
   "display_name": "Python 3 (ipykernel)",
   "language": "python",
   "name": "python3"
  },
  "language_info": {
   "codemirror_mode": {
    "name": "ipython",
    "version": 3
   },
   "file_extension": ".py",
   "mimetype": "text/x-python",
   "name": "python",
   "nbconvert_exporter": "python",
   "pygments_lexer": "ipython3",
   "version": "3.9.13"
  }
 },
 "nbformat": 4,
 "nbformat_minor": 5
}
