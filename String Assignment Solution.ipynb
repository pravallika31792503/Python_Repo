{
 "cells": [
  {
   "cell_type": "code",
   "execution_count": null,
   "id": "02abbb13",
   "metadata": {},
   "outputs": [],
   "source": [
    "s1 = \"Learnbay\"\n",
    "print(type(s1),id(s1))"
   ]
  },
  {
   "cell_type": "code",
   "execution_count": null,
   "id": "0c96493b",
   "metadata": {
    "scrolled": true
   },
   "outputs": [],
   "source": [
    "#Which are valid/invalid strings\n",
    "s2 = 'This is Python class' #valid\n",
    "\n",
    "s3= \"This is Python class\" #valid\n",
    "\n",
    "s4 = '''This is Python class''' #valid\n",
    "\n",
    "s5 = \"\"\"This is Python class\"\"\" #valid\n",
    "\n",
    "s6 = 'This is Python's class' #invalid\n",
    "\n",
    "s7= \"Tutort provides \"Java\", \"Python\" classes\" #invalid\n",
    "\n",
    "s8= \"Tutort provides 'Java', 'Python' classes\" #valid\n",
    "\n",
    "s9 =  \"This is Python's class\" #valid\n",
    "\n",
    "s10 = \"\"\"Tutort provides \"Java\", \"Python\" classes\"\"\" #valid\n",
    "\n",
    "s11 ='''Tutort provides \"Java\", \"Python\" classes''' #valid\n",
    "\n",
    "s12 ='''Tutort provides\n",
    "\"Java\", \"Python\" \n",
    "classes''' #valid\n",
    "\n",
    "s13 = 'This is\n",
    "Python \n",
    "class'\n",
    "#invalid\n"
   ]
  },
  {
   "cell_type": "code",
   "execution_count": null,
   "id": "3b778b02",
   "metadata": {},
   "outputs": [],
   "source": [
    "\n",
    "my_str = \"Although that way may not be obvious at first unless you're Dutch.\"\n",
    "my_str1 =\"Although that way may not be obvious at first unless you're Dutch.\"\n",
    "\n",
    "\n",
    "print(len(my_str))\n",
    "#output:- The length of my_str is 66\n",
    "\n",
    "print(id(my_str),id(my_str1))\n",
    "#output:- id of my_str and my_str1 are different because of space in the string.\n",
    "\n",
    "print(type(my_str))\n",
    "#output:- Type of my_str is: str"
   ]
  },
  {
   "cell_type": "code",
   "execution_count": null,
   "id": "cba060a6",
   "metadata": {},
   "outputs": [],
   "source": [
    "#Indexing\n",
    "my_str = \"Although 8 that way may not be obvious at first unless you're Dutch\"\n",
    "\n",
    "\n",
    "print(my_str[0:1])\n",
    "#output:- The first character in my_str is: A\n",
    "#Note:- Use positive indexing\n",
    "\n",
    "print(my_str[len(my_str)-1])\n",
    "#output:- The last character in my_str is: h\n",
    "#Note:- Use len() function.\n",
    "\n",
    "print(my_str[10])\n",
    "#output:- The character at index 10 in my_str is: ' '\n",
    "#Note:- Use positive indexing\n",
    "\n",
    "print(my_str[-1])\n",
    "#output:- The last character in my_str is: h\n",
    "#Note:- Use negative indexing.\n",
    "\n",
    "print(my_str[len(my_str)-1])\n",
    "#output:- The last character in my_str is: h\n",
    "#Note:- Use len() function.\n",
    "\n",
    "print(my_str[9])\n",
    "#output:- The character in my_str is: 8\n",
    "#Note:- Use positive index"
   ]
  },
  {
   "cell_type": "code",
   "execution_count": null,
   "id": "9edeea55",
   "metadata": {},
   "outputs": [],
   "source": [
    "\n",
    "#Slicing\n",
    "my_str = \"Although that way may not be obvious at first unless you're Dutch.\"\n",
    "#Write the code to get the output,instructions are mentioned below print statement. use slicing\n",
    "print(my_str[:])\n",
    "#output:- You have sliced: Although that way may not be obvious at first unless you're Dutch.Without begin, end and step\n",
    "\n",
    "\n",
    "print(my_str[0:len(my_str)])\n",
    "#output:- You have sliced: Although that way may not be obvious at first unless you're Dutch.with begin as 0 end using len and without step\n",
    "\n",
    "\n",
    "print(my_str[::1])\n",
    "#output:- You have sliced: Although that way may not be obvious at first unless you're Dutch.without begin and end but using step\n",
    "\n",
    "\n",
    "print(my_str[0:65:1])\n",
    "#output:- You have sliced: Although that way may not be obvious at first unless you're Dutch.With begin, end and step\n",
    "\n",
    "\n",
    "print(my_str[59:58:-1])\n",
    "#output:- You have sliced:   .with using begin and end using postive values and step as negative values.\n",
    "#Slicing command should print empty string.\n",
    "\n",
    "\n",
    "print(my_str[0:65:2])\n",
    "#output:- You have sliced: Atog htwymyntb biu tfrtuls o'eDth\n",
    "\n",
    "\n",
    "print(my_str[0:65:3])\n",
    "#output:- You have sliced: Ahgttam tebo  r lsorDc\n",
    "\n",
    "\n",
    "print(my_str[::-1])\n",
    "#output:- You have sliced: .hctuD er'uoy sselnu tsrif ta suoivbo eb ton yam yaw taht hguohtlA. Use only step\n",
    "\n",
    "\n",
    "print(my_str[-1:-67:-1])\n",
    "#output:- You have sliced: .hctuD er'uoy sselnu tsrif ta suoivbo eb ton yam yaw taht hguohtlA. Use begin end and step.\n",
    "\n",
    "\n",
    "print(my_str[::-2])\n",
    "#output:- You have sliced: .cu ruysen si asovoe o a a athuhl. use only step\n",
    "\n",
    "\n",
    "print(my_str[-1:-66:-2])\n",
    "#output:- You have sliced: .cu ruysen si asovoe o a a athuhl. use begin, end and step.\n",
    "\n",
    "\n",
    "print(my_str[10:17:-1])\n",
    "#No output because using negitive index we have go from right to left , not left to right.\n",
    "\n",
    "\n",
    "print(my_str[-50:-56:-1])\n",
    "#output:- You have sliced: yaw ta, Using begin, end and step.\n",
    "\n",
    "print(my_str[49:56])\n",
    "#output:- You have sliced: ess you. Using begin, end and step.\n"
   ]
  },
  {
   "cell_type": "code",
   "execution_count": null,
   "id": "437cb2c4",
   "metadata": {},
   "outputs": [],
   "source": [
    "\n",
    "str1 = 'Learnbay'\n",
    "str2 = 'Python'\n",
    "\n",
    "#Write the code to get the output,instructions are mentioned below.\n",
    "print(str1+' '+str2)\n",
    "#Output is: Learnbay Python\n",
    "\n",
    "\n",
    "\n",
    "\n",
    "\n",
    "#Find below Output\n",
    "print(str1*3)\n",
    "#Output is: LearnbayLearnbayLearnbay\n",
    "\n",
    "\n",
    "\n"
   ]
  },
  {
   "cell_type": "code",
   "execution_count": null,
   "id": "b2e3d65e",
   "metadata": {},
   "outputs": [],
   "source": [
    "#Find below Output\n",
    "str1 = 'Python'\n",
    "str2 = 'Python'\n",
    "str3 = 'Python$'\n",
    "str4 = 'Python$'\n",
    "\n",
    "#print True by using identity operator between str1 and str2\n",
    "\n",
    "print(str1 is str2)\n",
    "#print False by using identity operator between str1 and str3\n",
    "print(str1 is str3)\n",
    "\n",
    "#print False by using identity operator between str4 and str3\n",
    "print(str3 is str4)\n",
    "\n",
    "#Check if P is available in str1 and print True by using membership operator\n",
    "print('P' in str1)\n",
    "\n",
    "#Check if $ is available in str3 and print True by using membership operator\n",
    "print('$' in str3)\n",
    "\n",
    "#Check if N is available in str3 and print False by using membership operator\n",
    "print('N' in str3)\n",
    "\n"
   ]
  },
  {
   "cell_type": "code",
   "execution_count": null,
   "id": "cdbd0f7a",
   "metadata": {},
   "outputs": [],
   "source": [
    "#Complete the below code\n",
    "str1 = 'This is Python class'\n",
    "#write the code to replace 'Python' with 'Java' and you should get below error.\n",
    "#TypeError: 'str' object does not support item assignment.\n",
    "print(str1.replace('Python','Java'))\n"
   ]
  },
  {
   "cell_type": "code",
   "execution_count": null,
   "id": "441de6a1",
   "metadata": {},
   "outputs": [],
   "source": [
    "str1 = 'A'\n",
    "str2 = 'A'\n",
    "#Compare str1 and str2 and print True using comparison operator\n",
    "print(str1<=str2)\n",
    "\n",
    "#Compare str1 and str2 and print True using equality operator\n",
    "print(str1==str2)\n",
    "\n",
    "#Compare str1 and str2 and print False using equality operator\n",
    "print(str1!=str2)\n",
    "\n",
    "#Compare str1 and str2 and print False using comparison operator\n",
    "print(str1<str2)\n"
   ]
  },
  {
   "cell_type": "code",
   "execution_count": null,
   "id": "af831e03",
   "metadata": {},
   "outputs": [],
   "source": [
    "str1 = 'A'\n",
    "str2 = 'a'\n",
    "#Compare str1 and str2 and print True using comparison operator\n",
    "print(str1<str2)\n",
    "\n",
    "#Compare str1 and str2 and print True using equality operator\n",
    "print(str1!=str2)\n",
    "\n",
    "#Compare str1 and str2 and print False using equality operator\n",
    "print(str1==str2)\n",
    "\n",
    "#Compare str1 and str2 and print False using comparison operator\n",
    "print(str1>str2)\n"
   ]
  },
  {
   "cell_type": "code",
   "execution_count": null,
   "id": "1ae5a1c8",
   "metadata": {},
   "outputs": [],
   "source": [
    "str1 = 'A'\n",
    "str2 = '65'\n",
    "#Compare str1 and str2 using comparison operator and it should give below error.\n",
    "#Error: TypeError: '>=' not supported between instances of 'str' and 'int'\n",
    "print(str1>=int(str2))\n",
    "\n",
    "#Compare str1 and str2 and print True using equality operator\n",
    "print(str1 != str2)\n",
    "\n",
    "#Compare str1 and str2 and print False using equality operator\n",
    "print(str1 == str2)\n"
   ]
  },
  {
   "cell_type": "code",
   "execution_count": null,
   "id": "7460123f",
   "metadata": {},
   "outputs": [],
   "source": [
    "str1 = 'Python'\n",
    "str2 = 'Python'\n",
    "#Compare str1 and str2 and print True using comparison operator\n",
    "print(str1<=str2)\n",
    "\n",
    "#Compare str1 and str2 and print True using equality operator\n",
    "print(str1==str2)\n",
    "\n",
    "#Compare str1 and str2 and print False using equality operator\n",
    "print(str1!=str2)\n",
    "\n",
    "#Compare str1 and str2 and print False using comparison operator\n",
    "print(str1>str2)\n"
   ]
  },
  {
   "cell_type": "code",
   "execution_count": null,
   "id": "682414ca",
   "metadata": {},
   "outputs": [],
   "source": [
    "str1 = 'Python'\n",
    "str2 = 'python'\n",
    "#Compare str1 and str2 and print True using comparison operator\n",
    "print(str1<str2)\n",
    "\n",
    "#Compare str1 and str2 and print True using equality operator\n",
    "print(str1!=str2)\n",
    "\n",
    "#Compare str1 and str2 and print False using equality operator\n",
    "print(str1==str2)\n",
    "\n",
    "#Compare str1 and str2 and print False using comparison operator\n",
    "print(str1>str2)\n"
   ]
  },
  {
   "cell_type": "code",
   "execution_count": null,
   "id": "ba950306",
   "metadata": {},
   "outputs": [],
   "source": [
    "a = 'Python'\n",
    "b = ''\n",
    "\n",
    "#Apply logical opereators (and, or & not) on above string values and observe the output.\n",
    "print(a and b)\n",
    "print(a or b)\n",
    "print(not a)\n",
    "print(not b)\n",
    "print(not(a and b))\n",
    "print(not(a or b))"
   ]
  },
  {
   "cell_type": "code",
   "execution_count": null,
   "id": "c2980d75",
   "metadata": {},
   "outputs": [],
   "source": [
    "a = ''\n",
    "b = ''\n",
    "\n",
    "#Apply logical opereators (and, or & not) on above string values and observe the output.\n",
    "print(a and b)\n",
    "print(a or b)\n",
    "print(not a)"
   ]
  },
  {
   "cell_type": "code",
   "execution_count": null,
   "id": "671df6fb",
   "metadata": {},
   "outputs": [],
   "source": [
    "a = 'Python'\n",
    "b = 'Learnbay'\n",
    "\n",
    "#Apply logical opereators (and, or & not) on above string values and observe the output.\n",
    "print(a and b)\n",
    "print(a or b)\n",
    "print(not a)"
   ]
  },
  {
   "cell_type": "code",
   "execution_count": null,
   "id": "7e5b67b2",
   "metadata": {},
   "outputs": [],
   "source": [
    "my_str = \"Although 8 that way may not be obvious at first unless you're Dutch\"\n",
    "\n",
    "#Write the code to get the total count of 't' in above string. Use find() and index() method.\n",
    "print(my_str.count('t'))\n",
    "print(my_str.find('t'))\n",
    "print(my_str.index('t'))\n",
    "\n",
    "#Write the code to get the index of '8' in my_str. Use find() and index() method.\n",
    "print(my_str.find('8'))\n",
    "print(my_str.index('8'))\n",
    "\n",
    "#What will be the output of below code?\n",
    "print(my_str.find('the'))\n",
    "#  output is '-1' as 'the' is not present in given string.\n",
    "\n",
    "#print(my_str.index('the'))\n",
    "# output is error as 'the' is not present in the string given.\n",
    "\n",
    "print(my_str.find('t', 9, 15))\n",
    "# 11 ('t') is searched from 9 th position to 15th position\n",
    "\n",
    "print(my_str.rfind('u'))\n",
    "#63('u ') is searched from the end of the string\n",
    "\n",
    "print(my_str.rindex('u'))\n",
    "#63('u ') is searched from the end of the string\n"
   ]
  },
  {
   "cell_type": "code",
   "execution_count": null,
   "id": "6e5aab4f",
   "metadata": {},
   "outputs": [],
   "source": [
    "#W A P which applies strip() method if any string, which will be taken from user, starts and ends with space, or applies \n",
    "#rrstrip() method if that string only ends with space or applies lstrip() method if that string only starts with a space.\n",
    "\n",
    "#For example:-\n",
    "#input:- '    Python   '\n",
    "#output:- 'Python'\n",
    "s1 = input(\"Please enter the input: \")\n",
    "print(s1.strip())\n",
    "\n",
    "#input:- '    Python'\n",
    "#output:- 'Python'\n",
    "s2 = input(\"Please enter the input: \")\n",
    "print(s2.lstrip())\n",
    "\n",
    "#input:- 'Python   '\n",
    "#output:- 'Python'\n",
    "s3 = input(\"Please enter the input: \")\n",
    "print(s3.rstrip())"
   ]
  },
  {
   "cell_type": "code",
   "execution_count": null,
   "id": "b00e4e67",
   "metadata": {},
   "outputs": [],
   "source": [
    "my_str = \"Although 8 that way may not be obvious at first unless you're Dutch\"\n",
    "\n",
    "#Write the code to convert all alphabets in my_str into upper case.\n",
    "print(my_str.upper())\n",
    "\n",
    "#Write the code to convert all alphabets in my_str into lower case.\n",
    "print(my_str.lower())\n",
    "\n",
    "#Write the code to swap the cases of all alphabets in my_str.(lower to upper and upper to lower)\n",
    "print(my_str.swapcase())\n",
    "\n"
   ]
  },
  {
   "cell_type": "code",
   "execution_count": null,
   "id": "f6c59239",
   "metadata": {},
   "outputs": [],
   "source": [
    "#Write the code which takes one string from user and if it starts with small case letter then convert it to corresponding \n",
    "#capital letter otherwise if starts with capital letters then convert first character of every word in that string into capital.\n",
    "\n",
    "user_input = input('Please enter the string: ')\n",
    "if(user_input[0].islower()):\n",
    "    print(user_input.upper())\n",
    "elif(user_input[0].isupper()):\n",
    "    print(user_input.title())"
   ]
  },
  {
   "cell_type": "code",
   "execution_count": null,
   "id": "cb9f4a67",
   "metadata": {},
   "outputs": [],
   "source": [
    "#Take a string from user and check if it is:-\n",
    "#     1. alphanumeric\n",
    "\n",
    "input_str = input(\"Please enter string:\")\n",
    "print(input_str.isalnum())\n",
    "\n",
    "#     2. alphabets\n",
    "\n",
    "input_str1 = input(\"Please enter string:\")\n",
    "print(input_str1.isalpha())\n",
    "\n",
    "#     3. digit\n",
    "\n",
    "input_str2 = input(\"Please enter string:\")\n",
    "print(input_str2.isdigit())\n",
    "\n",
    "#     4. all letters are in lower case\n",
    "\n",
    "input_str3 = input(\"Please enter string:\")\n",
    "print(input_str3.islower())\n",
    "\n",
    "#     5. all letters are in upper case\n",
    "\n",
    "input_str4 = input(\"Please enter string:\")\n",
    "print(input_str4.isupper())\n",
    "\n",
    "#     6. in title case\n",
    "\n",
    "input_str5 = input(\"Please enter string:\")\n",
    "print(input_str5.istitle())\n",
    "\n",
    "#     7. a space character\n",
    "\n",
    "input_str6 = input(\"Please enter string:\")\n",
    "print(input_str6.isspace())\n",
    "#     8. numeric\n",
    "\n",
    "input_str7 = input(\"Please enter string:\")\n",
    "print(input_str7.isnumeric())\n",
    "\n",
    "#     9. all number elements in string are decimal\n",
    "\n",
    "input_str8 = input(\"Please enter string:\")\n",
    "print(input_str8.isdecimal())\n",
    "\n"
   ]
  },
  {
   "cell_type": "code",
   "execution_count": null,
   "id": "a3633515",
   "metadata": {},
   "outputs": [],
   "source": [
    "#W A P which takes a string as an input and prints True if the string is valid identifier else returns False.\n",
    "#Sample Input:- 'abc', 'abc1', 'ab1c', '1abc', 'abc$', '_abc', 'if'\n",
    "\n",
    "id1 = input(\"Enter the string: \")\n",
    "print(id1.isidentifier())"
   ]
  },
  {
   "cell_type": "code",
   "execution_count": null,
   "id": "b1942a20",
   "metadata": {},
   "outputs": [],
   "source": [
    "#What will be output of below code?\n",
    "s = chr(65) + chr(97)\n",
    "print(s.isprintable())\n",
    "# these are printable hence true\n",
    "\n",
    "s = chr(27) + chr(97)\n",
    "print(s.isprintable())\n",
    "# chr(27) is not printable hence false\n",
    "\n",
    "s = '\\n'\n",
    "print(s.isprintable())\n",
    "# \\n is not printable hence false\n",
    "\n",
    "s = ''\n",
    "print(s.isprintable())\n",
    "#space is printable hence true"
   ]
  },
  {
   "cell_type": "code",
   "execution_count": null,
   "id": "b523a35d",
   "metadata": {},
   "outputs": [],
   "source": [
    "#What will be output of below code?\n",
    "my_string = '  '\n",
    "print(my_string.isascii())\n",
    "#True because space has ascii value\n",
    "\n",
    "my_string = 'Studytonight'\n",
    "print(my_string.isascii())\n",
    "#True because it has ascii values\n",
    "\n",
    "my_string = 'Study tonight'\n",
    "print(my_string.isascii())\n",
    "#True because it has ascii values\n",
    "\n",
    "\n",
    "my_string = 'Studytonight@123'\n",
    "print(my_string.isascii())\n",
    "#True because it has ascii values\n",
    "\n",
    "my_string = '°'\n",
    "print(my_string.isascii())\n",
    "#False because it doesnot have ascii values\n",
    "\n",
    "my_string = 'ö'\n",
    "print(my_string.isascii())\n",
    "#False because it doesnot have ascii values\n"
   ]
  },
  {
   "cell_type": "code",
   "execution_count": 4,
   "id": "0134a5a6",
   "metadata": {},
   "outputs": [
    {
     "name": "stdout",
     "output_type": "stream",
     "text": [
      "The strings are equal.\n"
     ]
    }
   ],
   "source": [
    "# What will be the output of below code?\n",
    "\n",
    "firstString = \"der Fluß\"\n",
    "secondString = \"der Fluss\"\n",
    "\n",
    "if firstString.casefold() == secondString.casefold():\n",
    "    print('The strings are equal.')\n",
    "else:\n",
    "    print('The strings are not equal.')\n",
    "#####################################################################################################Doubt"
   ]
  },
  {
   "cell_type": "code",
   "execution_count": 3,
   "id": "e0f453b1",
   "metadata": {},
   "outputs": [
    {
     "name": "stdout",
     "output_type": "stream",
     "text": [
      "python**\n",
      "**python\n",
      "**python**\n"
     ]
    }
   ],
   "source": [
    "#Write the code to get below output\n",
    "#O/P 1:- python** (using ljust method)\n",
    "s1 ='python'\n",
    "print(s1.ljust(8,'*'))\n",
    "\n",
    "#Write the code to get below output\n",
    "#O/P 1:- **python (using rjust method)\n",
    "print(s1.rjust(8,'*'))\n",
    "\n",
    "\n",
    "#Write the code to get below output\n",
    "#O/P 1:- **python** (using rjust method)\n",
    "\n",
    "s2 =s1.rjust(8,'*')\n",
    "print(s2.ljust(10,'*'))\n",
    "\n"
   ]
  },
  {
   "cell_type": "code",
   "execution_count": null,
   "id": "48bf9e71",
   "metadata": {},
   "outputs": [],
   "source": [
    "#Write a Python program to find the length of the my_str:-\n",
    "\n",
    "#Input:- 'Write a Python program to find the length of the my_str'\n",
    "#Output:- 55\n",
    "my_str = \"Although that way may not be obvious at first unless you're Dutch.\"\n",
    "print(len(my_str))\n"
   ]
  },
  {
   "cell_type": "code",
   "execution_count": null,
   "id": "dbb1de0f",
   "metadata": {},
   "outputs": [],
   "source": [
    "#Write a Python program to find the total number of times letter 'p' is appeared in the below string:-\n",
    "    \n",
    "a= list('peter piper picked a peck of pickled peppers.')\n",
    "c1 = a.count('p')\n",
    "print(c1)\n"
   ]
  },
  {
   "cell_type": "code",
   "execution_count": null,
   "id": "59431604",
   "metadata": {},
   "outputs": [],
   "source": [
    "#Write a Python Program, to print all the indexes of all occurences of letter 'p' appeared in the string:-\n",
    "    \n",
    "a = list('peter piper picked a peck of pickled peppers.')\n",
    "for i in range(0,len(a)):\n",
    "    if (a[i]=='p'):\n",
    "        print(i)\n",
    "# 0\n",
    "# 6\n",
    "# 8\n",
    "# 12\n",
    "# 21\n",
    "# 29\n",
    "# 37\n",
    "# 39\n",
    "# 40\n"
   ]
  },
  {
   "cell_type": "code",
   "execution_count": null,
   "id": "a0f9ebbf",
   "metadata": {},
   "outputs": [],
   "source": [
    "#Write a python program to find below output:-\n",
    "\n",
    "i1 = 'peter piper picked a peck of pickled peppers.'\n",
    "l1 = i1.split()\n",
    "print(l1)\n",
    "\n"
   ]
  },
  {
   "cell_type": "code",
   "execution_count": null,
   "id": "b987f240",
   "metadata": {},
   "outputs": [],
   "source": [
    "#Write a python program to find below output:-\n",
    "\n",
    "#Input:- 'peter piper picked a peck of pickled peppers.'\n",
    "#Output:- 'peppers. pickled of peck a picked piper peter'\n",
    "\n",
    "i1 = 'peter piper picked a peck of pickled peppers.'\n",
    "l1 = i1.split()\n",
    "l1.reverse()\n",
    "x=' '\n",
    "x+=' '.join(l1)\n",
    "    \n",
    "print(x)"
   ]
  },
  {
   "cell_type": "code",
   "execution_count": 1,
   "id": "ae221f01",
   "metadata": {},
   "outputs": [
    {
     "name": "stdout",
     "output_type": "stream",
     "text": [
      " .sreppep delkcip fo kcep a dekcip repip retep\n"
     ]
    }
   ],
   "source": [
    "#Write a python program to find below output:-\n",
    "\n",
    "#Input:- 'peter piper picked a peck of pickled peppers.'\n",
    "#Output:- '.sreppep delkcip fo kcep a dekcip repip retep'\n",
    "\n",
    "\n",
    "i1 = 'peter piper picked a peck of pickled peppers.'\n",
    "l1 = i1.split()\n",
    "l1.reverse()\n",
    "x=' '\n",
    "\n",
    "elist=[]\n",
    "for i in l1:\n",
    "    elist.append((i[::-1]))\n",
    " \n",
    "x+=' '.join(elist)\n",
    "    \n",
    "print(x)"
   ]
  },
  {
   "cell_type": "code",
   "execution_count": 5,
   "id": "396d09c0",
   "metadata": {},
   "outputs": [
    {
     "name": "stdout",
     "output_type": "stream",
     "text": [
      "retep repip dekcip a kcep fo delkcip .sreppep\n"
     ]
    }
   ],
   "source": [
    "#Write a python program to find below output:-\n",
    "\n",
    "#Input:- 'peter piper picked a peck of pickled peppers.'\n",
    "#Output:- 'retep repip dekcip a kcep fo delkcip .sreppep'\n",
    "i1 = 'peter piper picked a peck of pickled peppers.'\n",
    "l2 = i1.split()\n",
    "\n",
    "x=' '\n",
    "\n",
    "elist1=[]\n",
    "for i in l2:\n",
    "    elist1.append(i[::-1])\n",
    " \n",
    "x=' '.join(elist1)\n",
    "    \n",
    "print(x)\n",
    "\n"
   ]
  },
  {
   "cell_type": "code",
   "execution_count": 2,
   "id": "8849ca2c",
   "metadata": {},
   "outputs": [
    {
     "name": "stdout",
     "output_type": "stream",
     "text": [
      "Peter Piper Picked A Peck Of Pickled Peppers.\n"
     ]
    }
   ],
   "source": [
    "#Write a python program to find below output:-\n",
    "in1= 'peter piper picked a peck of pickled peppers.'\n",
    "print(in1.title())\n",
    "\n",
    "\n"
   ]
  },
  {
   "cell_type": "code",
   "execution_count": 4,
   "id": "7ff54cb4",
   "metadata": {},
   "outputs": [
    {
     "name": "stdout",
     "output_type": "stream",
     "text": [
      "peter piper picked a peck of pickled peppers.\n"
     ]
    }
   ],
   "source": [
    "#Write a python program to find below output:-\n",
    "\n",
    "in2= 'Peter Piper Picked A Peck Of Pickled Peppers.'\n",
    "print(in2.lower())\n",
    "#Output:- 'Peter piper picked a peck of pickled peppers.'\n",
    "\n"
   ]
  },
  {
   "cell_type": "code",
   "execution_count": 5,
   "id": "8c51228b",
   "metadata": {},
   "outputs": [
    {
     "name": "stdout",
     "output_type": "stream",
     "text": [
      "29\n"
     ]
    }
   ],
   "source": [
    "#Write a python program to implement index method. If sub_str is found in my_str then it will print the index\n",
    "# of first occurrence of first character of matching string in my_str:-\n",
    "\n",
    "my_str = 'Peter Piper Picked A Peck Of Pickled Peppers.'\n",
    "sub_str = 'Pickl'    \n",
    "print(my_str.index(sub_str))\n",
    "#Output:- 29\n",
    "\n"
   ]
  },
  {
   "cell_type": "code",
   "execution_count": 8,
   "id": "5c8885d7",
   "metadata": {},
   "outputs": [
    {
     "name": "stdout",
     "output_type": "stream",
     "text": [
      "Peter Piper Picked A Pack Of Pickled Peppers.\n"
     ]
    }
   ],
   "source": [
    "#Write a python program to implement replace method. If sub_str is found in my_str then it will replace the first \n",
    "#occurrence of sub_str with new_str else it will will print sub_str not found:-\n",
    "\n",
    "my_str1 = 'Peter Piper Picked A Peck Of Pickled Peppers.'\n",
    "sub_str = 'Peck'\n",
    "new_str = 'Pack'\n",
    "if(sub_str in my_str1):\n",
    "    print(my_str1.replace(sub_str,new_str,1))\n",
    "else:\n",
    "    print('sub_str not found')\n",
    "#Output:- 'Peter Piper Picked A Pack Of Pickled Peppers.'\n",
    "\n"
   ]
  },
  {
   "cell_type": "code",
   "execution_count": 16,
   "id": "c42937fe",
   "metadata": {},
   "outputs": [
    {
     "name": "stdout",
     "output_type": "stream",
     "text": [
      "*********************Peck********************\n"
     ]
    }
   ],
   "source": [
    "#Write a python program to find below output (implements rjust and ljust):-\n",
    "\n",
    "in3 ='Peter Piper Picked A Peck Of Pickled Peppers.'\n",
    "sub_str = 'Peck'\n",
    "mod1 = sub_str.rjust(25,'*')\n",
    "print(mod1.ljust(45,'*'))\n",
    "#Output:- '*********************Peck********************'\n",
    "\n"
   ]
  },
  {
   "cell_type": "code",
   "execution_count": null,
   "id": "1f4792de",
   "metadata": {},
   "outputs": [],
   "source": []
  }
 ],
 "metadata": {
  "kernelspec": {
   "display_name": "Python 3 (ipykernel)",
   "language": "python",
   "name": "python3"
  },
  "language_info": {
   "codemirror_mode": {
    "name": "ipython",
    "version": 3
   },
   "file_extension": ".py",
   "mimetype": "text/x-python",
   "name": "python",
   "nbconvert_exporter": "python",
   "pygments_lexer": "ipython3",
   "version": "3.9.13"
  }
 },
 "nbformat": 4,
 "nbformat_minor": 5
}
